{
 "cells": [
  {
   "cell_type": "code",
   "execution_count": 1,
   "id": "8989fe41",
   "metadata": {},
   "outputs": [],
   "source": [
    "from PIL import Image, ImageDraw\n",
    "\n",
    "img = Image.new('RGB', (400, 400), (0, 0, 0))\n",
    "draw = ImageDraw.Draw(img)\n",
    "\n",
    "draw.polygon(\n",
    "   ( (224.5, 32.5), (374.5, 175.5), (374.5,32.5)),\n",
    "   fill=(0, 0, 225),\n",
    "   outline=(0, 0, 225))\n",
    "\n",
    "draw.polygon(\n",
    "   ( (124.5, 175.5),(224.5, 32.5), (374.5, 175.5)),\n",
    "   fill=(0, 0, 225),\n",
    "   outline=(0, 0, 225))\n",
    "\n",
    "draw.polygon(\n",
    "   ((124.5, 32.5), (224.5, 32.5), (124.5, 175.5)),\n",
    "   fill=(0, 0, 225),\n",
    "   outline=(0, 0, 225))\n",
    "\n",
    "draw.polygon(\n",
    "   ((54.5, 252.5), (124.5, 175.5), (124.5, 32.5)),\n",
    "   fill=(0, 0, 225),\n",
    "   outline=(0, 0, 225))\n",
    "\n",
    "draw.polygon(\n",
    "   ((200.5, 300.5), (374.5, 175.5), (124.5, 175.5)),\n",
    "   fill=(0, 0, 225),\n",
    "   outline=(0, 0, 225))\n",
    "\n",
    "# A = (74.5, 175.5), B = (224.5, 325.5), C = (374.5, 325.5), D = (74.5, 325.5),\n",
    "# E = (374.5. 325.5), F = (150, 100), and G = (25, 125).\n",
    "\n",
    "img.show()"
   ]
  },
  {
   "cell_type": "code",
   "execution_count": null,
   "id": "1fea36e5",
   "metadata": {},
   "outputs": [],
   "source": []
  },
  {
   "cell_type": "code",
   "execution_count": null,
   "id": "329595e5",
   "metadata": {},
   "outputs": [],
   "source": []
  },
  {
   "cell_type": "code",
   "execution_count": null,
   "id": "f15b6e63",
   "metadata": {},
   "outputs": [],
   "source": []
  },
  {
   "cell_type": "code",
   "execution_count": null,
   "id": "34677e4b",
   "metadata": {},
   "outputs": [],
   "source": []
  }
 ],
 "metadata": {
  "kernelspec": {
   "display_name": "Python 3 (ipykernel)",
   "language": "python",
   "name": "python3"
  },
  "language_info": {
   "codemirror_mode": {
    "name": "ipython",
    "version": 3
   },
   "file_extension": ".py",
   "mimetype": "text/x-python",
   "name": "python",
   "nbconvert_exporter": "python",
   "pygments_lexer": "ipython3",
   "version": "3.9.12"
  }
 },
 "nbformat": 4,
 "nbformat_minor": 5
}
