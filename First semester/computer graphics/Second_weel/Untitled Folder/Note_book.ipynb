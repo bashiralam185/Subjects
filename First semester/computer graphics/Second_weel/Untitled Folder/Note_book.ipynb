{
 "cells": [
  {
   "cell_type": "markdown",
   "id": "5aa2a5f4",
   "metadata": {},
   "source": [
    "<b>Studen Name: Bashir Alam</b><hr>\n",
    "\n",
    "In this excerise I had used Python module PIL which can be used to deal with different types of images ( editing, creating and drawing). I am using one of its function which is to draw polygon. I am using draw.polygon() method to draw the triangles. Then I am using fill function to fill those triangles with color( blue). I had also specified 400x400 area for the image and fixed the background color to black.  "
   ]
  },
  {
   "cell_type": "markdown",
   "id": "786b6329",
   "metadata": {},
   "source": [
    "<p> Another thing to note is that the bmp image is not exactly the same as it was given in the assignment ( in fact it is upside down), it is because in Python and in PIL the coordinate system is not as same as in C++. </p>"
   ]
  },
  {
   "cell_type": "code",
   "execution_count": 7,
   "id": "1fea36e5",
   "metadata": {},
   "outputs": [],
   "source": [
    "# importing the module\n",
    "from PIL import Image, ImageDraw\n",
    "\n",
    "# creating the frame with black background color\n",
    "img = Image.new('RGB', (400, 400), (0, 0, 0))\n",
    "draw = ImageDraw.Draw(img)\n",
    "\n",
    "\n",
    "# drawing the triangles and filling them with blue color\n",
    "draw.polygon(\n",
    "   ( (74.5, 175.5), (224.5, 325.5), (374.5, 175.5)),\n",
    "   fill=(0, 0, 225),\n",
    "   outline=(0, 0, 225))\n",
    "\n",
    "draw.polygon(\n",
    "   ( (374.5, 175.5), (374.5, 325.5), (224.5, 325.5)),\n",
    "   fill=(0, 0, 225),\n",
    "   outline=(0, 0, 225))\n",
    "\n",
    "draw.polygon(\n",
    "   ( (224.5, 325.5), (74.5, 325.5), (74.5, 175.5)),\n",
    "   fill=(0, 0, 225),\n",
    "   outline=(0, 0, 225))\n",
    "\n",
    "draw.polygon(\n",
    "   ( (74.5, 175.5), (74.5, 325.5), (25, 125)),\n",
    "   fill=(0, 0, 225),\n",
    "   outline=(0, 0, 225))\n",
    "\n",
    "draw.polygon(\n",
    "   ( (74.5, 175.5), (374.5, 175.5), (150, 100)),\n",
    "   fill=(0, 0, 225),\n",
    "   outline=(0, 0, 225))\n",
    "\n",
    "# saving the image as bmp file\n",
    "img.save(\"BMP_file.bmp\", \"BMP\")\n"
   ]
  },
  {
   "cell_type": "code",
   "execution_count": null,
   "id": "329595e5",
   "metadata": {},
   "outputs": [],
   "source": []
  },
  {
   "cell_type": "code",
   "execution_count": null,
   "id": "3ea2cf0f",
   "metadata": {},
   "outputs": [],
   "source": []
  }
 ],
 "metadata": {
  "kernelspec": {
   "display_name": "Python 3 (ipykernel)",
   "language": "python",
   "name": "python3"
  },
  "language_info": {
   "codemirror_mode": {
    "name": "ipython",
    "version": 3
   },
   "file_extension": ".py",
   "mimetype": "text/x-python",
   "name": "python",
   "nbconvert_exporter": "python",
   "pygments_lexer": "ipython3",
   "version": "3.9.12"
  }
 },
 "nbformat": 4,
 "nbformat_minor": 5
}
