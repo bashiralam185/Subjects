{
 "cells": [
  {
   "cell_type": "markdown",
   "id": "92fb37af",
   "metadata": {},
   "source": [
    "##### Bashir Alam\n",
    "##### Assignment 4\n"
   ]
  },
  {
   "cell_type": "markdown",
   "id": "cc9b90db",
   "metadata": {},
   "source": [
    "<p><b>Question-1</b><hr>a) The comma in the numbers must be replaced by a point<hr>\n",
    "b) The sales volume has sometimes an M and sometimes a K. this will prohibit the use of numbers as\n",
    "numbers, so we must replace, for example, 1.57M by 1560000 or 4.56K by 456000<hr>\n",
    "c) We want to add a column that contains positive or negative as a function of variation.<hr>\n",
    "d) Change column names to English<hr>\n",
    "e) The date is in European format we must change the date to appear 04-12-2021 that is day, month and\n",
    "year (NOTE dates and times are manipulated with formats. look for information about timestamp in\n",
    "pandas)<hr>\n",
    "\n",
    "1- Write a function to correct these points and save the file with the name of cttcorrcted.csv</p>"
   ]
  },
  {
   "cell_type": "code",
   "execution_count": null,
   "id": "ac3e702f",
   "metadata": {},
   "outputs": [],
   "source": []
  },
  {
   "cell_type": "code",
   "execution_count": 50,
   "id": "7d03bc41",
   "metadata": {},
   "outputs": [
    {
     "data": {
      "text/html": [
       "<div>\n",
       "<style scoped>\n",
       "    .dataframe tbody tr th:only-of-type {\n",
       "        vertical-align: middle;\n",
       "    }\n",
       "\n",
       "    .dataframe tbody tr th {\n",
       "        vertical-align: top;\n",
       "    }\n",
       "\n",
       "    .dataframe thead th {\n",
       "        text-align: right;\n",
       "    }\n",
       "</style>\n",
       "<table border=\"1\" class=\"dataframe\">\n",
       "  <thead>\n",
       "    <tr style=\"text-align: right;\">\n",
       "      <th></th>\n",
       "      <th>Data</th>\n",
       "      <th>Último</th>\n",
       "      <th>Abertura</th>\n",
       "      <th>Alta</th>\n",
       "      <th>Baixa</th>\n",
       "      <th>Vol.</th>\n",
       "      <th>Var. %</th>\n",
       "    </tr>\n",
       "  </thead>\n",
       "  <tbody>\n",
       "    <tr>\n",
       "      <th>0</th>\n",
       "      <td>12.04.2021</td>\n",
       "      <td>3,50</td>\n",
       "      <td>3,57</td>\n",
       "      <td>3,64</td>\n",
       "      <td>3,46</td>\n",
       "      <td>1,57M</td>\n",
       "      <td>-1,55%</td>\n",
       "    </tr>\n",
       "    <tr>\n",
       "      <th>1</th>\n",
       "      <td>09.04.2021</td>\n",
       "      <td>3,56</td>\n",
       "      <td>3,52</td>\n",
       "      <td>3,57</td>\n",
       "      <td>3,52</td>\n",
       "      <td>666,03K</td>\n",
       "      <td>1,14%</td>\n",
       "    </tr>\n",
       "    <tr>\n",
       "      <th>2</th>\n",
       "      <td>08.04.2021</td>\n",
       "      <td>3,52</td>\n",
       "      <td>3,45</td>\n",
       "      <td>3,54</td>\n",
       "      <td>3,45</td>\n",
       "      <td>882,54K</td>\n",
       "      <td>1,59%</td>\n",
       "    </tr>\n",
       "    <tr>\n",
       "      <th>3</th>\n",
       "      <td>07.04.2021</td>\n",
       "      <td>3,46</td>\n",
       "      <td>3,43</td>\n",
       "      <td>3,49</td>\n",
       "      <td>3,43</td>\n",
       "      <td>508,33K</td>\n",
       "      <td>0,87%</td>\n",
       "    </tr>\n",
       "    <tr>\n",
       "      <th>4</th>\n",
       "      <td>06.04.2021</td>\n",
       "      <td>3,43</td>\n",
       "      <td>3,44</td>\n",
       "      <td>3,49</td>\n",
       "      <td>3,43</td>\n",
       "      <td>809,46K</td>\n",
       "      <td>0,59%</td>\n",
       "    </tr>\n",
       "  </tbody>\n",
       "</table>\n",
       "</div>"
      ],
      "text/plain": [
       "         Data Último Abertura  Alta Baixa     Vol.  Var. %\n",
       "0  12.04.2021   3,50     3,57  3,64  3,46    1,57M  -1,55%\n",
       "1  09.04.2021   3,56     3,52  3,57  3,52  666,03K   1,14%\n",
       "2  08.04.2021   3,52     3,45  3,54  3,45  882,54K   1,59%\n",
       "3  07.04.2021   3,46     3,43  3,49  3,43  508,33K   0,87%\n",
       "4  06.04.2021   3,43     3,44  3,49  3,43  809,46K   0,59%"
      ]
     },
     "execution_count": 50,
     "metadata": {},
     "output_type": "execute_result"
    }
   ],
   "source": [
    "import pandas as pd\n",
    "\n",
    "data = pd.read_csv(\"CTT10.csv\")\n",
    "\n",
    "data.head()"
   ]
  },
  {
   "cell_type": "code",
   "execution_count": 51,
   "id": "1d55946c",
   "metadata": {},
   "outputs": [],
   "source": [
    "# this function converts the K and M value into numeric values \n",
    "def value_to_float(x):\n",
    "    if type(x) == float or type(x) == int:\n",
    "        return x\n",
    "    if 'K' in x:\n",
    "        if len(x) > 1:\n",
    "            return float(x.replace('K', '')) * 1000\n",
    "        return 1000.0\n",
    "    if 'M' in x:\n",
    "        if len(x) > 1:\n",
    "            return float(x.replace('M', '')) * 1000000\n",
    "        return 1000000.0\n",
    "    return 0.0\n",
    "\n",
    "\n",
    "\n",
    "def question1(dataframe):    \n",
    "    # removing commas from the dataframe\n",
    "    for col in dataframe.columns:\n",
    "        dataframe[col] = dataframe[col].replace(\",\", \".\", regex=True)\n",
    "    \n",
    "    # changing k and M into numbers\n",
    "    dataframe['Vol.'] = dataframe['Vol.'].apply(value_to_float)\n",
    "    \n",
    "    \n",
    "    \n",
    "    # adding a column that contains negative or positive\n",
    "    dataframe['Var. %'] = dataframe['Var. %'].str.replace('%','')\n",
    "    dataframe['Var. %'] = dataframe['Var. %'].astype('float')\n",
    "    dataframe.loc[dataframe['Var. %'] < 0, 'New_column'] = 'Negative' \n",
    "    dataframe.loc[dataframe['Var. %'] >= 0, 'New_column'] = 'Positive' \n",
    "    \n",
    "    #remaning the column name\n",
    "    dataframe.rename(columns = {'Data':'Date', \"Último\":\"Last\", \"Abertura\":\"Open\", \"Alta\": \"High\",\"Baixa\":\"Low\", \"Vol.\": \"Vol.\",\"Var. %\":\"Var. %\"}, inplace = True)\n",
    "    \n",
    "    \n",
    "    #changing the date format\n",
    "    dataframe[\"Date\"] = dataframe[\"Date\"].astype('datetime64[ns]')\n",
    "    dataframe['Date'] = dataframe['Date'].dt.strftime('%d.%m.%Y')\n",
    "    \n",
    "    return dataframe"
   ]
  },
  {
   "cell_type": "code",
   "execution_count": 52,
   "id": "11a6855a",
   "metadata": {},
   "outputs": [
    {
     "name": "stderr",
     "output_type": "stream",
     "text": [
      "/tmp/ipykernel_251596/2288086892.py:38: UserWarning: Parsing dates in DD/MM/YYYY format when dayfirst=False (the default) was specified. This may lead to inconsistently parsed dates! Specify a format to ensure consistent parsing.\n",
      "  dataframe[\"Date\"] = dataframe[\"Date\"].astype('datetime64[ns]')\n"
     ]
    }
   ],
   "source": [
    "Ndata = question1(data)"
   ]
  },
  {
   "cell_type": "code",
   "execution_count": 53,
   "id": "927aaaa9",
   "metadata": {},
   "outputs": [
    {
     "data": {
      "text/html": [
       "<div>\n",
       "<style scoped>\n",
       "    .dataframe tbody tr th:only-of-type {\n",
       "        vertical-align: middle;\n",
       "    }\n",
       "\n",
       "    .dataframe tbody tr th {\n",
       "        vertical-align: top;\n",
       "    }\n",
       "\n",
       "    .dataframe thead th {\n",
       "        text-align: right;\n",
       "    }\n",
       "</style>\n",
       "<table border=\"1\" class=\"dataframe\">\n",
       "  <thead>\n",
       "    <tr style=\"text-align: right;\">\n",
       "      <th></th>\n",
       "      <th>Date</th>\n",
       "      <th>Last</th>\n",
       "      <th>Open</th>\n",
       "      <th>High</th>\n",
       "      <th>Low</th>\n",
       "      <th>Vol.</th>\n",
       "      <th>Var. %</th>\n",
       "      <th>New_column</th>\n",
       "    </tr>\n",
       "  </thead>\n",
       "  <tbody>\n",
       "    <tr>\n",
       "      <th>0</th>\n",
       "      <td>04.12.2021</td>\n",
       "      <td>3.50</td>\n",
       "      <td>3.57</td>\n",
       "      <td>3.64</td>\n",
       "      <td>3.46</td>\n",
       "      <td>1570000.0</td>\n",
       "      <td>-1.55</td>\n",
       "      <td>Negative</td>\n",
       "    </tr>\n",
       "    <tr>\n",
       "      <th>1</th>\n",
       "      <td>04.09.2021</td>\n",
       "      <td>3.56</td>\n",
       "      <td>3.52</td>\n",
       "      <td>3.57</td>\n",
       "      <td>3.52</td>\n",
       "      <td>666030.0</td>\n",
       "      <td>1.14</td>\n",
       "      <td>Positive</td>\n",
       "    </tr>\n",
       "    <tr>\n",
       "      <th>2</th>\n",
       "      <td>04.08.2021</td>\n",
       "      <td>3.52</td>\n",
       "      <td>3.45</td>\n",
       "      <td>3.54</td>\n",
       "      <td>3.45</td>\n",
       "      <td>882540.0</td>\n",
       "      <td>1.59</td>\n",
       "      <td>Positive</td>\n",
       "    </tr>\n",
       "    <tr>\n",
       "      <th>3</th>\n",
       "      <td>04.07.2021</td>\n",
       "      <td>3.46</td>\n",
       "      <td>3.43</td>\n",
       "      <td>3.49</td>\n",
       "      <td>3.43</td>\n",
       "      <td>508330.0</td>\n",
       "      <td>0.87</td>\n",
       "      <td>Positive</td>\n",
       "    </tr>\n",
       "    <tr>\n",
       "      <th>4</th>\n",
       "      <td>04.06.2021</td>\n",
       "      <td>3.43</td>\n",
       "      <td>3.44</td>\n",
       "      <td>3.49</td>\n",
       "      <td>3.43</td>\n",
       "      <td>809460.0</td>\n",
       "      <td>0.59</td>\n",
       "      <td>Positive</td>\n",
       "    </tr>\n",
       "  </tbody>\n",
       "</table>\n",
       "</div>"
      ],
      "text/plain": [
       "         Date  Last  Open  High   Low       Vol.  Var. % New_column\n",
       "0  04.12.2021  3.50  3.57  3.64  3.46  1570000.0   -1.55   Negative\n",
       "1  04.09.2021  3.56  3.52  3.57  3.52   666030.0    1.14   Positive\n",
       "2  04.08.2021  3.52  3.45  3.54  3.45   882540.0    1.59   Positive\n",
       "3  04.07.2021  3.46  3.43  3.49  3.43   508330.0    0.87   Positive\n",
       "4  04.06.2021  3.43  3.44  3.49  3.43   809460.0    0.59   Positive"
      ]
     },
     "execution_count": 53,
     "metadata": {},
     "output_type": "execute_result"
    }
   ],
   "source": [
    "Ndata.head()"
   ]
  },
  {
   "cell_type": "code",
   "execution_count": null,
   "id": "62e2f1fe",
   "metadata": {},
   "outputs": [],
   "source": []
  },
  {
   "cell_type": "code",
   "execution_count": null,
   "id": "b547dfcb",
   "metadata": {},
   "outputs": [],
   "source": []
  },
  {
   "cell_type": "markdown",
   "id": "78fa9394",
   "metadata": {},
   "source": [
    "<p><b>Question-2</b><hr>What was the date with the highest volatility (difference between min and max)</p>"
   ]
  },
  {
   "cell_type": "code",
   "execution_count": 54,
   "id": "f6f8ad84",
   "metadata": {},
   "outputs": [],
   "source": [
    "# Calculating the daily returns of from the stock market\n",
    "Ndata['Last'] = Ndata['Last'].astype(float)\n",
    "Ndata['daily_returns']=(Ndata['Last'].pct_change())"
   ]
  },
  {
   "cell_type": "code",
   "execution_count": 55,
   "id": "ee0ac677",
   "metadata": {},
   "outputs": [
    {
     "data": {
      "image/png": "[encoded data removed]",
      "text/plain": [
       "<Figure size 864x432 with 1 Axes>"
      ]
     },
     "metadata": {
      "needs_background": "light"
     },
     "output_type": "display_data"
    }
   ],
   "source": [
    "# plotting the daily return which was achieved above\n",
    "import matplotlib.pyplot as plt\n",
    "data.dropna(inplace=True)\n",
    "fig,ax=plt.subplots(figsize=(12,6))\n",
    "plt.plot(Ndata['daily_returns'], label = 'Daily Returns')\n",
    "\n",
    "plt.title('Stock Daily Returns Over Time')\n",
    "plt.show()\n"
   ]
  },
  {
   "cell_type": "code",
   "execution_count": 56,
   "id": "7870f77c",
   "metadata": {},
   "outputs": [],
   "source": [
    "# Now, we will vaculate the volitality of data per day "
   ]
  },
  {
   "cell_type": "code",
   "execution_count": 57,
   "id": "6202e212",
   "metadata": {},
   "outputs": [
    {
     "name": "stdout",
     "output_type": "stream",
     "text": [
      "Daily volatility:\n",
      "0.02044928330879462\n"
     ]
    }
   ],
   "source": [
    "import math\n",
    "daily_volatility_pfe = Ndata['daily_returns'].std()\n",
    "print('Daily volatility:')\n",
    "print((daily_volatility_pfe))"
   ]
  },
  {
   "cell_type": "code",
   "execution_count": 58,
   "id": "16b412fa",
   "metadata": {},
   "outputs": [
    {
     "data": {
      "text/html": [
       "<div>\n",
       "<style scoped>\n",
       "    .dataframe tbody tr th:only-of-type {\n",
       "        vertical-align: middle;\n",
       "    }\n",
       "\n",
       "    .dataframe tbody tr th {\n",
       "        vertical-align: top;\n",
       "    }\n",
       "\n",
       "    .dataframe thead th {\n",
       "        text-align: right;\n",
       "    }\n",
       "</style>\n",
       "<table border=\"1\" class=\"dataframe\">\n",
       "  <thead>\n",
       "    <tr style=\"text-align: right;\">\n",
       "      <th></th>\n",
       "      <th>Date</th>\n",
       "      <th>Last</th>\n",
       "      <th>Open</th>\n",
       "      <th>High</th>\n",
       "      <th>Low</th>\n",
       "      <th>Vol.</th>\n",
       "      <th>Var. %</th>\n",
       "      <th>New_column</th>\n",
       "      <th>daily_returns</th>\n",
       "    </tr>\n",
       "  </thead>\n",
       "  <tbody>\n",
       "    <tr>\n",
       "      <th>1</th>\n",
       "      <td>04.09.2021</td>\n",
       "      <td>3.56</td>\n",
       "      <td>3.52</td>\n",
       "      <td>3.57</td>\n",
       "      <td>3.52</td>\n",
       "      <td>666030.0</td>\n",
       "      <td>1.14</td>\n",
       "      <td>Positive</td>\n",
       "      <td>0.017143</td>\n",
       "    </tr>\n",
       "    <tr>\n",
       "      <th>2</th>\n",
       "      <td>04.08.2021</td>\n",
       "      <td>3.52</td>\n",
       "      <td>3.45</td>\n",
       "      <td>3.54</td>\n",
       "      <td>3.45</td>\n",
       "      <td>882540.0</td>\n",
       "      <td>1.59</td>\n",
       "      <td>Positive</td>\n",
       "      <td>-0.011236</td>\n",
       "    </tr>\n",
       "    <tr>\n",
       "      <th>3</th>\n",
       "      <td>04.07.2021</td>\n",
       "      <td>3.46</td>\n",
       "      <td>3.43</td>\n",
       "      <td>3.49</td>\n",
       "      <td>3.43</td>\n",
       "      <td>508330.0</td>\n",
       "      <td>0.87</td>\n",
       "      <td>Positive</td>\n",
       "      <td>-0.017045</td>\n",
       "    </tr>\n",
       "    <tr>\n",
       "      <th>4</th>\n",
       "      <td>04.06.2021</td>\n",
       "      <td>3.43</td>\n",
       "      <td>3.44</td>\n",
       "      <td>3.49</td>\n",
       "      <td>3.43</td>\n",
       "      <td>809460.0</td>\n",
       "      <td>0.59</td>\n",
       "      <td>Positive</td>\n",
       "      <td>-0.008671</td>\n",
       "    </tr>\n",
       "    <tr>\n",
       "      <th>5</th>\n",
       "      <td>04.01.2021</td>\n",
       "      <td>3.41</td>\n",
       "      <td>3.36</td>\n",
       "      <td>3.42</td>\n",
       "      <td>3.36</td>\n",
       "      <td>416710.0</td>\n",
       "      <td>1.19</td>\n",
       "      <td>Positive</td>\n",
       "      <td>-0.005831</td>\n",
       "    </tr>\n",
       "  </tbody>\n",
       "</table>\n",
       "</div>"
      ],
      "text/plain": [
       "         Date  Last  Open  High   Low      Vol.  Var. % New_column  \\\n",
       "1  04.09.2021  3.56  3.52  3.57  3.52  666030.0    1.14   Positive   \n",
       "2  04.08.2021  3.52  3.45  3.54  3.45  882540.0    1.59   Positive   \n",
       "3  04.07.2021  3.46  3.43  3.49  3.43  508330.0    0.87   Positive   \n",
       "4  04.06.2021  3.43  3.44  3.49  3.43  809460.0    0.59   Positive   \n",
       "5  04.01.2021  3.41  3.36  3.42  3.36  416710.0    1.19   Positive   \n",
       "\n",
       "   daily_returns  \n",
       "1       0.017143  \n",
       "2      -0.011236  \n",
       "3      -0.017045  \n",
       "4      -0.008671  \n",
       "5      -0.005831  "
      ]
     },
     "execution_count": 58,
     "metadata": {},
     "output_type": "execute_result"
    }
   ],
   "source": [
    "Ndata.head()"
   ]
  },
  {
   "cell_type": "code",
   "execution_count": 59,
   "id": "1678ab26",
   "metadata": {},
   "outputs": [
    {
     "data": {
      "text/html": [
       "<div>\n",
       "<style scoped>\n",
       "    .dataframe tbody tr th:only-of-type {\n",
       "        vertical-align: middle;\n",
       "    }\n",
       "\n",
       "    .dataframe tbody tr th {\n",
       "        vertical-align: top;\n",
       "    }\n",
       "\n",
       "    .dataframe thead th {\n",
       "        text-align: right;\n",
       "    }\n",
       "</style>\n",
       "<table border=\"1\" class=\"dataframe\">\n",
       "  <thead>\n",
       "    <tr style=\"text-align: right;\">\n",
       "      <th></th>\n",
       "      <th>Date</th>\n",
       "      <th>Last</th>\n",
       "      <th>Open</th>\n",
       "      <th>High</th>\n",
       "      <th>Low</th>\n",
       "      <th>Vol.</th>\n",
       "      <th>Var. %</th>\n",
       "      <th>New_column</th>\n",
       "      <th>daily_returns</th>\n",
       "    </tr>\n",
       "  </thead>\n",
       "  <tbody>\n",
       "    <tr>\n",
       "      <th>877</th>\n",
       "      <td>31.10.2017</td>\n",
       "      <td>5.06</td>\n",
       "      <td>5.09</td>\n",
       "      <td>5.10</td>\n",
       "      <td>5.03</td>\n",
       "      <td>466580.0</td>\n",
       "      <td>-0.2</td>\n",
       "      <td>Negative</td>\n",
       "      <td>0.277778</td>\n",
       "    </tr>\n",
       "  </tbody>\n",
       "</table>\n",
       "</div>"
      ],
      "text/plain": [
       "           Date  Last  Open  High   Low      Vol.  Var. % New_column  \\\n",
       "877  31.10.2017  5.06  5.09  5.10  5.03  466580.0    -0.2   Negative   \n",
       "\n",
       "     daily_returns  \n",
       "877       0.277778  "
      ]
     },
     "execution_count": 59,
     "metadata": {},
     "output_type": "execute_result"
    }
   ],
   "source": [
    "# only year with heighest daily volitality\n",
    "Ndata.nlargest(1, ['daily_returns'])"
   ]
  },
  {
   "cell_type": "code",
   "execution_count": 60,
   "id": "8b1c15a7",
   "metadata": {},
   "outputs": [
    {
     "data": {
      "text/plain": [
       "877    31.10.2017\n",
       "Name: Date, dtype: object"
      ]
     },
     "execution_count": 60,
     "metadata": {},
     "output_type": "execute_result"
    }
   ],
   "source": [
    "# finding the exact date for the heighest daily volitality\n",
    "Ndata.nlargest(1, ['daily_returns']).Date"
   ]
  },
  {
   "cell_type": "code",
   "execution_count": null,
   "id": "681ab5c2",
   "metadata": {},
   "outputs": [],
   "source": []
  },
  {
   "cell_type": "code",
   "execution_count": null,
   "id": "914bd2b6",
   "metadata": {},
   "outputs": [],
   "source": []
  },
  {
   "cell_type": "markdown",
   "id": "c0e96f49",
   "metadata": {},
   "source": [
    "<p><b>Question-3</b><hr>What was the best month (30 days) during the 10 years to win with this title This means if I had to\n",
    "keep my stock only 30 days when was the best 30 days?</p>"
   ]
  },
  {
   "cell_type": "code",
   "execution_count": 61,
   "id": "227baec2",
   "metadata": {},
   "outputs": [],
   "source": [
    "# To find the best month, I will use monthly volitality returns"
   ]
  },
  {
   "cell_type": "code",
   "execution_count": 62,
   "id": "2017b70d",
   "metadata": {},
   "outputs": [],
   "source": [
    "# pct_change(30) means it will calculate the difference btw 30 rows\n",
    "Ndata['monthly_returns']=(Ndata['Last'].pct_change(30))"
   ]
  },
  {
   "cell_type": "code",
   "execution_count": 63,
   "id": "bcbd45ea",
   "metadata": {},
   "outputs": [
    {
     "data": {
      "image/png": "[encoded data removed]",
      "text/plain": [
       "<Figure size 864x432 with 1 Axes>"
      ]
     },
     "metadata": {
      "needs_background": "light"
     },
     "output_type": "display_data"
    }
   ],
   "source": [
    "# plotting the daily return which was achieved above\n",
    "import matplotlib.pyplot as plt\n",
    "data.dropna(inplace=True)\n",
    "fig,ax=plt.subplots(figsize=(12,6))\n",
    "plt.plot(Ndata['monthly_returns'], label = 'Monthly Returns')\n",
    "\n",
    "plt.title('Stock Monthly Returns Over Time')\n",
    "plt.show()"
   ]
  },
  {
   "cell_type": "code",
   "execution_count": 64,
   "id": "209407d4",
   "metadata": {},
   "outputs": [
    {
     "data": {
      "text/html": [
       "<div>\n",
       "<style scoped>\n",
       "    .dataframe tbody tr th:only-of-type {\n",
       "        vertical-align: middle;\n",
       "    }\n",
       "\n",
       "    .dataframe tbody tr th {\n",
       "        vertical-align: top;\n",
       "    }\n",
       "\n",
       "    .dataframe thead th {\n",
       "        text-align: right;\n",
       "    }\n",
       "</style>\n",
       "<table border=\"1\" class=\"dataframe\">\n",
       "  <thead>\n",
       "    <tr style=\"text-align: right;\">\n",
       "      <th></th>\n",
       "      <th>Date</th>\n",
       "      <th>Last</th>\n",
       "      <th>Open</th>\n",
       "      <th>High</th>\n",
       "      <th>Low</th>\n",
       "      <th>Vol.</th>\n",
       "      <th>Var. %</th>\n",
       "      <th>New_column</th>\n",
       "      <th>daily_returns</th>\n",
       "      <th>monthly_returns</th>\n",
       "    </tr>\n",
       "  </thead>\n",
       "  <tbody>\n",
       "    <tr>\n",
       "      <th>888</th>\n",
       "      <td>16.10.2017</td>\n",
       "      <td>5.04</td>\n",
       "      <td>5.06</td>\n",
       "      <td>5.06</td>\n",
       "      <td>5.00</td>\n",
       "      <td>388010.0</td>\n",
       "      <td>0.0</td>\n",
       "      <td>Positive</td>\n",
       "      <td>0.005988</td>\n",
       "      <td>0.657895</td>\n",
       "    </tr>\n",
       "  </tbody>\n",
       "</table>\n",
       "</div>"
      ],
      "text/plain": [
       "           Date  Last  Open  High   Low      Vol.  Var. % New_column  \\\n",
       "888  16.10.2017  5.04  5.06  5.06  5.00  388010.0     0.0   Positive   \n",
       "\n",
       "     daily_returns  monthly_returns  \n",
       "888       0.005988         0.657895  "
      ]
     },
     "execution_count": 64,
     "metadata": {},
     "output_type": "execute_result"
    }
   ],
   "source": [
    "# only year with heighest daily volitality\n",
    "Ndata.nlargest(1, ['monthly_returns'])"
   ]
  },
  {
   "cell_type": "code",
   "execution_count": 65,
   "id": "de573c00",
   "metadata": {},
   "outputs": [
    {
     "data": {
      "text/plain": [
       "888    16.10.2017\n",
       "Name: Date, dtype: object"
      ]
     },
     "execution_count": 65,
     "metadata": {},
     "output_type": "execute_result"
    }
   ],
   "source": [
    "Ndata.nlargest(1, ['monthly_returns']).Date"
   ]
  },
  {
   "cell_type": "markdown",
   "id": "82b7fb7c",
   "metadata": {},
   "source": [
    " "
   ]
  },
  {
   "cell_type": "code",
   "execution_count": null,
   "id": "3d242f55",
   "metadata": {},
   "outputs": [],
   "source": []
  },
  {
   "cell_type": "code",
   "execution_count": null,
   "id": "b683dd0c",
   "metadata": {},
   "outputs": [],
   "source": []
  },
  {
   "cell_type": "markdown",
   "id": "42c3afaa",
   "metadata": {},
   "source": [
    "<p><b>Question-4</b><hr>What was the duration of the longest sequence of ascent of the title in the closings?</p>"
   ]
  },
  {
   "cell_type": "code",
   "execution_count": 66,
   "id": "2800290b",
   "metadata": {},
   "outputs": [
    {
     "data": {
      "text/html": [
       "<div>\n",
       "<style scoped>\n",
       "    .dataframe tbody tr th:only-of-type {\n",
       "        vertical-align: middle;\n",
       "    }\n",
       "\n",
       "    .dataframe tbody tr th {\n",
       "        vertical-align: top;\n",
       "    }\n",
       "\n",
       "    .dataframe thead th {\n",
       "        text-align: right;\n",
       "    }\n",
       "</style>\n",
       "<table border=\"1\" class=\"dataframe\">\n",
       "  <thead>\n",
       "    <tr style=\"text-align: right;\">\n",
       "      <th></th>\n",
       "      <th>Date</th>\n",
       "      <th>Last</th>\n",
       "      <th>Open</th>\n",
       "      <th>High</th>\n",
       "      <th>Low</th>\n",
       "      <th>Vol.</th>\n",
       "      <th>Var. %</th>\n",
       "      <th>New_column</th>\n",
       "      <th>daily_returns</th>\n",
       "      <th>monthly_returns</th>\n",
       "    </tr>\n",
       "  </thead>\n",
       "  <tbody>\n",
       "    <tr>\n",
       "      <th>31</th>\n",
       "      <td>24.02.2021</td>\n",
       "      <td>2.52</td>\n",
       "      <td>2.46</td>\n",
       "      <td>2.52</td>\n",
       "      <td>2.45</td>\n",
       "      <td>475090.0</td>\n",
       "      <td>2.23</td>\n",
       "      <td>Positive</td>\n",
       "      <td>0.003984</td>\n",
       "      <td>-0.292135</td>\n",
       "    </tr>\n",
       "    <tr>\n",
       "      <th>32</th>\n",
       "      <td>23.02.2021</td>\n",
       "      <td>2.46</td>\n",
       "      <td>2.48</td>\n",
       "      <td>2.52</td>\n",
       "      <td>2.43</td>\n",
       "      <td>469140.0</td>\n",
       "      <td>-1.00</td>\n",
       "      <td>Negative</td>\n",
       "      <td>-0.023810</td>\n",
       "      <td>-0.301136</td>\n",
       "    </tr>\n",
       "    <tr>\n",
       "      <th>33</th>\n",
       "      <td>22.02.2021</td>\n",
       "      <td>2.49</td>\n",
       "      <td>2.45</td>\n",
       "      <td>2.49</td>\n",
       "      <td>2.41</td>\n",
       "      <td>390810.0</td>\n",
       "      <td>1.43</td>\n",
       "      <td>Positive</td>\n",
       "      <td>0.012195</td>\n",
       "      <td>-0.280347</td>\n",
       "    </tr>\n",
       "    <tr>\n",
       "      <th>34</th>\n",
       "      <td>19.02.2021</td>\n",
       "      <td>2.45</td>\n",
       "      <td>2.41</td>\n",
       "      <td>2.45</td>\n",
       "      <td>2.38</td>\n",
       "      <td>533430.0</td>\n",
       "      <td>2.72</td>\n",
       "      <td>Positive</td>\n",
       "      <td>-0.016064</td>\n",
       "      <td>-0.285714</td>\n",
       "    </tr>\n",
       "    <tr>\n",
       "      <th>35</th>\n",
       "      <td>18.02.2021</td>\n",
       "      <td>2.39</td>\n",
       "      <td>2.40</td>\n",
       "      <td>2.41</td>\n",
       "      <td>2.37</td>\n",
       "      <td>297330.0</td>\n",
       "      <td>0.00</td>\n",
       "      <td>Positive</td>\n",
       "      <td>-0.024490</td>\n",
       "      <td>-0.299120</td>\n",
       "    </tr>\n",
       "  </tbody>\n",
       "</table>\n",
       "</div>"
      ],
      "text/plain": [
       "          Date  Last  Open  High   Low      Vol.  Var. % New_column  \\\n",
       "31  24.02.2021  2.52  2.46  2.52  2.45  475090.0    2.23   Positive   \n",
       "32  23.02.2021  2.46  2.48  2.52  2.43  469140.0   -1.00   Negative   \n",
       "33  22.02.2021  2.49  2.45  2.49  2.41  390810.0    1.43   Positive   \n",
       "34  19.02.2021  2.45  2.41  2.45  2.38  533430.0    2.72   Positive   \n",
       "35  18.02.2021  2.39  2.40  2.41  2.37  297330.0    0.00   Positive   \n",
       "\n",
       "    daily_returns  monthly_returns  \n",
       "31       0.003984        -0.292135  \n",
       "32      -0.023810        -0.301136  \n",
       "33       0.012195        -0.280347  \n",
       "34      -0.016064        -0.285714  \n",
       "35      -0.024490        -0.299120  "
      ]
     },
     "execution_count": 66,
     "metadata": {},
     "output_type": "execute_result"
    }
   ],
   "source": [
    "Ndata.head()"
   ]
  },
  {
   "cell_type": "code",
   "execution_count": 67,
   "id": "b71d767a",
   "metadata": {},
   "outputs": [],
   "source": [
    "Ndata = Ndata.sort_index(ascending=False)"
   ]
  },
  {
   "cell_type": "code",
   "execution_count": 68,
   "id": "55b7cffb",
   "metadata": {},
   "outputs": [
    {
     "data": {
      "text/html": [
       "<div>\n",
       "<style scoped>\n",
       "    .dataframe tbody tr th:only-of-type {\n",
       "        vertical-align: middle;\n",
       "    }\n",
       "\n",
       "    .dataframe tbody tr th {\n",
       "        vertical-align: top;\n",
       "    }\n",
       "\n",
       "    .dataframe thead th {\n",
       "        text-align: right;\n",
       "    }\n",
       "</style>\n",
       "<table border=\"1\" class=\"dataframe\">\n",
       "  <thead>\n",
       "    <tr style=\"text-align: right;\">\n",
       "      <th></th>\n",
       "      <th>Date</th>\n",
       "      <th>Last</th>\n",
       "      <th>Open</th>\n",
       "      <th>High</th>\n",
       "      <th>Low</th>\n",
       "      <th>Vol.</th>\n",
       "      <th>Var. %</th>\n",
       "      <th>New_column</th>\n",
       "      <th>daily_returns</th>\n",
       "      <th>monthly_returns</th>\n",
       "    </tr>\n",
       "  </thead>\n",
       "  <tbody>\n",
       "    <tr>\n",
       "      <th>1874</th>\n",
       "      <td>12.06.2013</td>\n",
       "      <td>5.53</td>\n",
       "      <td>5.58</td>\n",
       "      <td>5.59</td>\n",
       "      <td>5.51</td>\n",
       "      <td>4290000.0</td>\n",
       "      <td>-0.18</td>\n",
       "      <td>Negative</td>\n",
       "      <td>-0.049828</td>\n",
       "      <td>-0.141304</td>\n",
       "    </tr>\n",
       "    <tr>\n",
       "      <th>1873</th>\n",
       "      <td>12.09.2013</td>\n",
       "      <td>5.82</td>\n",
       "      <td>5.53</td>\n",
       "      <td>5.82</td>\n",
       "      <td>5.52</td>\n",
       "      <td>5800000.0</td>\n",
       "      <td>5.24</td>\n",
       "      <td>Positive</td>\n",
       "      <td>0.021053</td>\n",
       "      <td>-0.096273</td>\n",
       "    </tr>\n",
       "    <tr>\n",
       "      <th>1872</th>\n",
       "      <td>12.10.2013</td>\n",
       "      <td>5.70</td>\n",
       "      <td>5.74</td>\n",
       "      <td>5.79</td>\n",
       "      <td>5.70</td>\n",
       "      <td>1430000.0</td>\n",
       "      <td>-2.06</td>\n",
       "      <td>Negative</td>\n",
       "      <td>-0.012132</td>\n",
       "      <td>-0.093800</td>\n",
       "    </tr>\n",
       "    <tr>\n",
       "      <th>1871</th>\n",
       "      <td>12.11.2013</td>\n",
       "      <td>5.77</td>\n",
       "      <td>5.69</td>\n",
       "      <td>5.79</td>\n",
       "      <td>5.67</td>\n",
       "      <td>1370000.0</td>\n",
       "      <td>1.23</td>\n",
       "      <td>Positive</td>\n",
       "      <td>0.005226</td>\n",
       "      <td>-0.081210</td>\n",
       "    </tr>\n",
       "    <tr>\n",
       "      <th>1870</th>\n",
       "      <td>12.12.2013</td>\n",
       "      <td>5.74</td>\n",
       "      <td>5.75</td>\n",
       "      <td>5.76</td>\n",
       "      <td>5.71</td>\n",
       "      <td>725190.0</td>\n",
       "      <td>-0.52</td>\n",
       "      <td>Negative</td>\n",
       "      <td>0.000000</td>\n",
       "      <td>-0.112828</td>\n",
       "    </tr>\n",
       "  </tbody>\n",
       "</table>\n",
       "</div>"
      ],
      "text/plain": [
       "            Date  Last  Open  High   Low       Vol.  Var. % New_column  \\\n",
       "1874  12.06.2013  5.53  5.58  5.59  5.51  4290000.0   -0.18   Negative   \n",
       "1873  12.09.2013  5.82  5.53  5.82  5.52  5800000.0    5.24   Positive   \n",
       "1872  12.10.2013  5.70  5.74  5.79  5.70  1430000.0   -2.06   Negative   \n",
       "1871  12.11.2013  5.77  5.69  5.79  5.67  1370000.0    1.23   Positive   \n",
       "1870  12.12.2013  5.74  5.75  5.76  5.71   725190.0   -0.52   Negative   \n",
       "\n",
       "      daily_returns  monthly_returns  \n",
       "1874      -0.049828        -0.141304  \n",
       "1873       0.021053        -0.096273  \n",
       "1872      -0.012132        -0.093800  \n",
       "1871       0.005226        -0.081210  \n",
       "1870       0.000000        -0.112828  "
      ]
     },
     "execution_count": 68,
     "metadata": {},
     "output_type": "execute_result"
    }
   ],
   "source": [
    "Ndata.head()"
   ]
  },
  {
   "cell_type": "code",
   "execution_count": 69,
   "id": "059fa7b9",
   "metadata": {},
   "outputs": [],
   "source": [
    "# applying get_value() function\n",
    "starting_date = Ndata.iloc[0, 0]\n",
    "\n",
    "\n",
    "count = 0\n",
    "max_count = 0\n",
    "for i in range(len(Ndata)-1):\n",
    "    if Ndata.iloc[i, 8] - Ndata.iloc[i+1, 8] <=0:\n",
    "        count+=1\n",
    "    else:\n",
    "        if count > max_count:\n",
    "            ending_date = Ndata.iloc[i, 0]\n",
    "            starting_date1 = starting_date\n",
    "            max_count = count\n",
    "            count = 0\n",
    "        else:\n",
    "            count = 0\n",
    "            starting_date = Ndata.iloc[i, 0]"
   ]
  },
  {
   "cell_type": "code",
   "execution_count": 70,
   "id": "a5aa5d52",
   "metadata": {},
   "outputs": [
    {
     "data": {
      "text/plain": [
       "'08.05.2016'"
      ]
     },
     "execution_count": 70,
     "metadata": {},
     "output_type": "execute_result"
    }
   ],
   "source": [
    "starting_date1"
   ]
  },
  {
   "cell_type": "code",
   "execution_count": 71,
   "id": "25581849",
   "metadata": {},
   "outputs": [
    {
     "data": {
      "text/plain": [
       "'16.08.2016'"
      ]
     },
     "execution_count": 71,
     "metadata": {},
     "output_type": "execute_result"
    }
   ],
   "source": [
    "ending_date"
   ]
  },
  {
   "cell_type": "markdown",
   "id": "32b34ab1",
   "metadata": {},
   "source": [
    "This shows that from 06.07.2018 to 06.08.2020, the market was going up"
   ]
  },
  {
   "cell_type": "code",
   "execution_count": null,
   "id": "d6e1da09",
   "metadata": {},
   "outputs": [],
   "source": []
  },
  {
   "cell_type": "code",
   "execution_count": null,
   "id": "f574877f",
   "metadata": {},
   "outputs": [],
   "source": []
  },
  {
   "cell_type": "markdown",
   "id": "67248ad3",
   "metadata": {},
   "source": [
    "<p><b>Question-5</b><hr>What was the date that saw the greatest turmoil in the market, ie large volumes with important\n",
    "variations? You can choose for example volume * (max-min) to get a measure of turbulence).</p>"
   ]
  },
  {
   "cell_type": "code",
   "execution_count": 37,
   "id": "9e669836",
   "metadata": {},
   "outputs": [],
   "source": [
    "# I will use facebook prophet to detect the abrupt changes in market. "
   ]
  },
  {
   "cell_type": "code",
   "execution_count": 38,
   "id": "ae706a36",
   "metadata": {},
   "outputs": [],
   "source": [
    "# I will use only two columns of the data, and i will remove all others becuase for facebook model, we need just two columns"
   ]
  },
  {
   "cell_type": "code",
   "execution_count": 39,
   "id": "d4f5e9d6",
   "metadata": {},
   "outputs": [
    {
     "data": {
      "text/html": [
       "<div>\n",
       "<style scoped>\n",
       "    .dataframe tbody tr th:only-of-type {\n",
       "        vertical-align: middle;\n",
       "    }\n",
       "\n",
       "    .dataframe tbody tr th {\n",
       "        vertical-align: top;\n",
       "    }\n",
       "\n",
       "    .dataframe thead th {\n",
       "        text-align: right;\n",
       "    }\n",
       "</style>\n",
       "<table border=\"1\" class=\"dataframe\">\n",
       "  <thead>\n",
       "    <tr style=\"text-align: right;\">\n",
       "      <th></th>\n",
       "      <th>Date</th>\n",
       "      <th>Last</th>\n",
       "      <th>Open</th>\n",
       "      <th>High</th>\n",
       "      <th>Low</th>\n",
       "      <th>Vol.</th>\n",
       "      <th>Var. %</th>\n",
       "      <th>New_column</th>\n",
       "      <th>daily_returns</th>\n",
       "      <th>Difference</th>\n",
       "      <th>Difference_Squared</th>\n",
       "    </tr>\n",
       "  </thead>\n",
       "  <tbody>\n",
       "    <tr>\n",
       "      <th>1874</th>\n",
       "      <td>12.06.2013</td>\n",
       "      <td>5.53</td>\n",
       "      <td>5.58</td>\n",
       "      <td>5.59</td>\n",
       "      <td>5.51</td>\n",
       "      <td>4290000.0</td>\n",
       "      <td>-0.18</td>\n",
       "      <td>Negative</td>\n",
       "      <td>-0.049828</td>\n",
       "      <td>3.570499e+06</td>\n",
       "      <td>1.274846e+13</td>\n",
       "    </tr>\n",
       "    <tr>\n",
       "      <th>1873</th>\n",
       "      <td>12.09.2013</td>\n",
       "      <td>5.82</td>\n",
       "      <td>5.53</td>\n",
       "      <td>5.82</td>\n",
       "      <td>5.52</td>\n",
       "      <td>5800000.0</td>\n",
       "      <td>5.24</td>\n",
       "      <td>Positive</td>\n",
       "      <td>0.021053</td>\n",
       "      <td>5.080499e+06</td>\n",
       "      <td>2.581147e+13</td>\n",
       "    </tr>\n",
       "    <tr>\n",
       "      <th>1872</th>\n",
       "      <td>12.10.2013</td>\n",
       "      <td>5.70</td>\n",
       "      <td>5.74</td>\n",
       "      <td>5.79</td>\n",
       "      <td>5.70</td>\n",
       "      <td>1430000.0</td>\n",
       "      <td>-2.06</td>\n",
       "      <td>Negative</td>\n",
       "      <td>-0.012132</td>\n",
       "      <td>7.104986e+05</td>\n",
       "      <td>5.048082e+11</td>\n",
       "    </tr>\n",
       "    <tr>\n",
       "      <th>1871</th>\n",
       "      <td>12.11.2013</td>\n",
       "      <td>5.77</td>\n",
       "      <td>5.69</td>\n",
       "      <td>5.79</td>\n",
       "      <td>5.67</td>\n",
       "      <td>1370000.0</td>\n",
       "      <td>1.23</td>\n",
       "      <td>Positive</td>\n",
       "      <td>0.005226</td>\n",
       "      <td>6.504986e+05</td>\n",
       "      <td>4.231484e+11</td>\n",
       "    </tr>\n",
       "    <tr>\n",
       "      <th>1870</th>\n",
       "      <td>12.12.2013</td>\n",
       "      <td>5.74</td>\n",
       "      <td>5.75</td>\n",
       "      <td>5.76</td>\n",
       "      <td>5.71</td>\n",
       "      <td>725190.0</td>\n",
       "      <td>-0.52</td>\n",
       "      <td>Negative</td>\n",
       "      <td>0.000000</td>\n",
       "      <td>5.688575e+03</td>\n",
       "      <td>3.235989e+07</td>\n",
       "    </tr>\n",
       "  </tbody>\n",
       "</table>\n",
       "</div>"
      ],
      "text/plain": [
       "            Date  Last  Open  High   Low       Vol.  Var. % New_column  \\\n",
       "1874  12.06.2013  5.53  5.58  5.59  5.51  4290000.0   -0.18   Negative   \n",
       "1873  12.09.2013  5.82  5.53  5.82  5.52  5800000.0    5.24   Positive   \n",
       "1872  12.10.2013  5.70  5.74  5.79  5.70  1430000.0   -2.06   Negative   \n",
       "1871  12.11.2013  5.77  5.69  5.79  5.67  1370000.0    1.23   Positive   \n",
       "1870  12.12.2013  5.74  5.75  5.76  5.71   725190.0   -0.52   Negative   \n",
       "\n",
       "      daily_returns    Difference  Difference_Squared  \n",
       "1874      -0.049828  3.570499e+06        1.274846e+13  \n",
       "1873       0.021053  5.080499e+06        2.581147e+13  \n",
       "1872      -0.012132  7.104986e+05        5.048082e+11  \n",
       "1871       0.005226  6.504986e+05        4.231484e+11  \n",
       "1870       0.000000  5.688575e+03        3.235989e+07  "
      ]
     },
     "execution_count": 39,
     "metadata": {},
     "output_type": "execute_result"
    }
   ],
   "source": [
    "Ndata.head()"
   ]
  },
  {
   "cell_type": "code",
   "execution_count": 42,
   "id": "11453b14",
   "metadata": {},
   "outputs": [],
   "source": [
    "Ndata.drop(\"Last\", axis=1, inplace=True)\n",
    "Ndata.drop(\"Open\", axis=1, inplace=True)\n",
    "Ndata.drop(\"Low\", axis=1, inplace=True)\n",
    "Ndata.drop(\"High\", axis=1, inplace=True)\n",
    "Ndata.drop(\"Var. %\", axis=1, inplace=True)\n",
    "Ndata.drop(\"New_column\", axis=1, inplace=True)\n",
    "Ndata.drop(\"daily_returns\", axis=1, inplace=True)\n",
    "Ndata.drop(\"Difference\", axis=1, inplace=True)\n",
    "Ndata.drop(\"Difference_Squared\", axis=1, inplace=True)"
   ]
  },
  {
   "cell_type": "code",
   "execution_count": 44,
   "id": "8332ae40",
   "metadata": {},
   "outputs": [
    {
     "data": {
      "text/html": [
       "<div>\n",
       "<style scoped>\n",
       "    .dataframe tbody tr th:only-of-type {\n",
       "        vertical-align: middle;\n",
       "    }\n",
       "\n",
       "    .dataframe tbody tr th {\n",
       "        vertical-align: top;\n",
       "    }\n",
       "\n",
       "    .dataframe thead th {\n",
       "        text-align: right;\n",
       "    }\n",
       "</style>\n",
       "<table border=\"1\" class=\"dataframe\">\n",
       "  <thead>\n",
       "    <tr style=\"text-align: right;\">\n",
       "      <th></th>\n",
       "      <th>Date</th>\n",
       "      <th>Vol.</th>\n",
       "    </tr>\n",
       "  </thead>\n",
       "  <tbody>\n",
       "    <tr>\n",
       "      <th>1874</th>\n",
       "      <td>12.06.2013</td>\n",
       "      <td>4290000.0</td>\n",
       "    </tr>\n",
       "    <tr>\n",
       "      <th>1873</th>\n",
       "      <td>12.09.2013</td>\n",
       "      <td>5800000.0</td>\n",
       "    </tr>\n",
       "    <tr>\n",
       "      <th>1872</th>\n",
       "      <td>12.10.2013</td>\n",
       "      <td>1430000.0</td>\n",
       "    </tr>\n",
       "    <tr>\n",
       "      <th>1871</th>\n",
       "      <td>12.11.2013</td>\n",
       "      <td>1370000.0</td>\n",
       "    </tr>\n",
       "    <tr>\n",
       "      <th>1870</th>\n",
       "      <td>12.12.2013</td>\n",
       "      <td>725190.0</td>\n",
       "    </tr>\n",
       "  </tbody>\n",
       "</table>\n",
       "</div>"
      ],
      "text/plain": [
       "            Date       Vol.\n",
       "1874  12.06.2013  4290000.0\n",
       "1873  12.09.2013  5800000.0\n",
       "1872  12.10.2013  1430000.0\n",
       "1871  12.11.2013  1370000.0\n",
       "1870  12.12.2013   725190.0"
      ]
     },
     "execution_count": 44,
     "metadata": {},
     "output_type": "execute_result"
    }
   ],
   "source": [
    "Ndata.head()"
   ]
  },
  {
   "cell_type": "code",
   "execution_count": 45,
   "id": "85661b41",
   "metadata": {},
   "outputs": [],
   "source": [
    "# Now we will remane the columns names for facebook prophet"
   ]
  },
  {
   "cell_type": "code",
   "execution_count": 46,
   "id": "eebca046",
   "metadata": {},
   "outputs": [],
   "source": [
    "# python code to rename the columns\n",
    "Ndata.rename(columns={'Date':'ds','Vol.':'y'},inplace=True)"
   ]
  },
  {
   "cell_type": "code",
   "execution_count": 48,
   "id": "970f9aa7",
   "metadata": {},
   "outputs": [
    {
     "ename": "ModuleNotFoundError",
     "evalue": "No module named 'prophet'",
     "output_type": "error",
     "traceback": [
      "\u001b[0;31m---------------------------------------------------------------------------\u001b[0m",
      "\u001b[0;31mModuleNotFoundError\u001b[0m                       Traceback (most recent call last)",
      "\u001b[0;32m/tmp/ipykernel_251596/1273915690.py\u001b[0m in \u001b[0;36m<module>\u001b[0;34m\u001b[0m\n\u001b[1;32m      1\u001b[0m \u001b[0;31m# importing python time series packages\u001b[0m\u001b[0;34m\u001b[0m\u001b[0;34m\u001b[0m\u001b[0m\n\u001b[0;32m----> 2\u001b[0;31m \u001b[0;32mfrom\u001b[0m \u001b[0mprophet\u001b[0m \u001b[0;32mimport\u001b[0m \u001b[0mProphet\u001b[0m\u001b[0;34m\u001b[0m\u001b[0;34m\u001b[0m\u001b[0m\n\u001b[0m\u001b[1;32m      3\u001b[0m \u001b[0;34m\u001b[0m\u001b[0m\n\u001b[1;32m      4\u001b[0m \u001b[0;31m# initialiazing the model with 95% confidence interval\u001b[0m\u001b[0;34m\u001b[0m\u001b[0;34m\u001b[0m\u001b[0m\n\u001b[1;32m      5\u001b[0m \u001b[0mmodel\u001b[0m \u001b[0;34m=\u001b[0m \u001b[0mProphet\u001b[0m\u001b[0;34m(\u001b[0m\u001b[0minterval_width\u001b[0m\u001b[0;34m=\u001b[0m \u001b[0;36m0.95\u001b[0m\u001b[0;34m)\u001b[0m\u001b[0;34m\u001b[0m\u001b[0;34m\u001b[0m\u001b[0m\n",
      "\u001b[0;31mModuleNotFoundError\u001b[0m: No module named 'prophet'"
     ]
    }
   ],
   "source": [
    "# importing python time series packages\n",
    "from prophet import Prophet\n",
    "\n",
    "# initialiazing the model with 95% confidence interval\n",
    "model = Prophet(interval_width= 0.95)\n",
    "\n",
    "# train model\n",
    "model.fit(Ndata)"
   ]
  },
  {
   "cell_type": "code",
   "execution_count": 49,
   "id": "114b1293",
   "metadata": {},
   "outputs": [
    {
     "name": "stdout",
     "output_type": "stream",
     "text": [
      "Defaulting to user installation because normal site-packages is not writeable\n",
      "Collecting fbprophet\n",
      "  Using cached fbprophet-0.7.1.tar.gz (64 kB)\n",
      "  Preparing metadata (setup.py) ... \u001b[?25ldone\n",
      "\u001b[?25hRequirement already satisfied: Cython>=0.22 in /home/student/.local/lib/python3.10/site-packages (from fbprophet) (0.29.32)\n",
      "Requirement already satisfied: LunarCalendar>=0.0.9 in /home/student/.local/lib/python3.10/site-packages (from fbprophet) (0.0.9)\n",
      "Requirement already satisfied: cmdstanpy==0.9.5 in /home/student/.local/lib/python3.10/site-packages (from fbprophet) (0.9.5)\n",
      "Requirement already satisfied: convertdate>=2.1.2 in /home/student/.local/lib/python3.10/site-packages (from fbprophet) (2.4.0)\n",
      "Requirement already satisfied: holidays>=0.10.2 in /home/student/.local/lib/python3.10/site-packages (from fbprophet) (0.16)\n",
      "Requirement already satisfied: matplotlib>=2.0.0 in /usr/lib/python3/dist-packages (from fbprophet) (3.5.1)\n",
      "Requirement already satisfied: numpy>=1.15.4 in /usr/lib/python3/dist-packages (from fbprophet) (1.21.5)\n",
      "Requirement already satisfied: pandas>=1.0.4 in /home/student/.local/lib/python3.10/site-packages (from fbprophet) (1.5.0)\n",
      "Requirement already satisfied: pystan>=2.14 in /home/student/.local/lib/python3.10/site-packages (from fbprophet) (3.5.0)\n",
      "Requirement already satisfied: python-dateutil>=2.8.0 in /usr/lib/python3/dist-packages (from fbprophet) (2.8.1)\n",
      "Requirement already satisfied: setuptools-git>=1.2 in /home/student/.local/lib/python3.10/site-packages (from fbprophet) (1.2)\n",
      "Requirement already satisfied: tqdm>=4.36.1 in /home/student/.local/lib/python3.10/site-packages (from fbprophet) (4.64.1)\n",
      "Requirement already satisfied: pymeeus<=1,>=0.3.13 in /home/student/.local/lib/python3.10/site-packages (from convertdate>=2.1.2->fbprophet) (0.5.11)\n",
      "Requirement already satisfied: korean-lunar-calendar in /home/student/.local/lib/python3.10/site-packages (from holidays>=0.10.2->fbprophet) (0.3.1)\n",
      "Requirement already satisfied: hijri-converter in /home/student/.local/lib/python3.10/site-packages (from holidays>=0.10.2->fbprophet) (2.2.4)\n",
      "Requirement already satisfied: ephem>=3.7.5.3 in /home/student/.local/lib/python3.10/site-packages (from LunarCalendar>=0.0.9->fbprophet) (4.1.3)\n",
      "Requirement already satisfied: pytz in /usr/lib/python3/dist-packages (from LunarCalendar>=0.0.9->fbprophet) (2022.1)\n",
      "Requirement already satisfied: clikit<0.7,>=0.6 in /home/student/.local/lib/python3.10/site-packages (from pystan>=2.14->fbprophet) (0.6.2)\n",
      "Requirement already satisfied: aiohttp<4.0,>=3.6 in /home/student/.local/lib/python3.10/site-packages (from pystan>=2.14->fbprophet) (3.8.3)\n",
      "Requirement already satisfied: setuptools in /usr/lib/python3/dist-packages (from pystan>=2.14->fbprophet) (59.6.0)\n",
      "Requirement already satisfied: pysimdjson<4.0,>=3.2 in /home/student/.local/lib/python3.10/site-packages (from pystan>=2.14->fbprophet) (3.2.0)\n",
      "Requirement already satisfied: httpstan<4.9,>=4.8 in /home/student/.local/lib/python3.10/site-packages (from pystan>=2.14->fbprophet) (4.8.2)\n",
      "Requirement already satisfied: yarl<2.0,>=1.0 in /home/student/.local/lib/python3.10/site-packages (from aiohttp<4.0,>=3.6->pystan>=2.14->fbprophet) (1.8.1)\n",
      "Requirement already satisfied: multidict<7.0,>=4.5 in /home/student/.local/lib/python3.10/site-packages (from aiohttp<4.0,>=3.6->pystan>=2.14->fbprophet) (6.0.2)\n",
      "Requirement already satisfied: attrs>=17.3.0 in /usr/lib/python3/dist-packages (from aiohttp<4.0,>=3.6->pystan>=2.14->fbprophet) (21.2.0)\n",
      "Requirement already satisfied: frozenlist>=1.1.1 in /home/student/.local/lib/python3.10/site-packages (from aiohttp<4.0,>=3.6->pystan>=2.14->fbprophet) (1.3.1)\n",
      "Requirement already satisfied: async-timeout<5.0,>=4.0.0a3 in /home/student/.local/lib/python3.10/site-packages (from aiohttp<4.0,>=3.6->pystan>=2.14->fbprophet) (4.0.2)\n",
      "Requirement already satisfied: aiosignal>=1.1.2 in /home/student/.local/lib/python3.10/site-packages (from aiohttp<4.0,>=3.6->pystan>=2.14->fbprophet) (1.2.0)\n",
      "Requirement already satisfied: charset-normalizer<3.0,>=2.0 in /home/student/.local/lib/python3.10/site-packages (from aiohttp<4.0,>=3.6->pystan>=2.14->fbprophet) (2.1.1)\n",
      "Requirement already satisfied: crashtest<0.4.0,>=0.3.0 in /home/student/.local/lib/python3.10/site-packages (from clikit<0.7,>=0.6->pystan>=2.14->fbprophet) (0.3.1)\n",
      "Requirement already satisfied: pylev<2.0,>=1.3 in /home/student/.local/lib/python3.10/site-packages (from clikit<0.7,>=0.6->pystan>=2.14->fbprophet) (1.4.0)\n",
      "Requirement already satisfied: pastel<0.3.0,>=0.2.0 in /home/student/.local/lib/python3.10/site-packages (from clikit<0.7,>=0.6->pystan>=2.14->fbprophet) (0.2.1)\n",
      "Requirement already satisfied: marshmallow<4.0,>=3.10 in /home/student/.local/lib/python3.10/site-packages (from httpstan<4.9,>=4.8->pystan>=2.14->fbprophet) (3.18.0)\n",
      "Requirement already satisfied: webargs<9.0,>=8.0 in /home/student/.local/lib/python3.10/site-packages (from httpstan<4.9,>=4.8->pystan>=2.14->fbprophet) (8.2.0)\n",
      "Requirement already satisfied: appdirs<2.0,>=1.4 in /usr/lib/python3/dist-packages (from httpstan<4.9,>=4.8->pystan>=2.14->fbprophet) (1.4.4)\n",
      "Requirement already satisfied: packaging>=17.0 in /usr/lib/python3/dist-packages (from marshmallow<4.0,>=3.10->httpstan<4.9,>=4.8->pystan>=2.14->fbprophet) (21.3)\n",
      "Requirement already satisfied: idna>=2.0 in /usr/lib/python3/dist-packages (from yarl<2.0,>=1.0->aiohttp<4.0,>=3.6->pystan>=2.14->fbprophet) (3.3)\n",
      "Building wheels for collected packages: fbprophet\n",
      "  Building wheel for fbprophet (setup.py) ... \u001b[?25lerror\n",
      "  \u001b[1;31merror\u001b[0m: \u001b[1msubprocess-exited-with-error\u001b[0m\n",
      "  \n",
      "  \u001b[31m×\u001b[0m \u001b[32mpython setup.py bdist_wheel\u001b[0m did not run successfully.\n",
      "  \u001b[31m│\u001b[0m exit code: \u001b[1;36m1\u001b[0m\n",
      "  \u001b[31m╰─>\u001b[0m \u001b[31m[40 lines of output]\u001b[0m\n",
      "  \u001b[31m   \u001b[0m running bdist_wheel\n",
      "  \u001b[31m   \u001b[0m running build\n",
      "  \u001b[31m   \u001b[0m running build_py\n",
      "  \u001b[31m   \u001b[0m creating build\n",
      "  \u001b[31m   \u001b[0m creating build/lib\n",
      "  \u001b[31m   \u001b[0m creating build/lib/fbprophet\n",
      "  \u001b[31m   \u001b[0m creating build/lib/fbprophet/stan_model\n",
      "  \u001b[31m   \u001b[0m Importing plotly failed. Interactive plots will not work.\n",
      "  \u001b[31m   \u001b[0m Traceback (most recent call last):\n",
      "  \u001b[31m   \u001b[0m   File \"<string>\", line 2, in <module>\n",
      "  \u001b[31m   \u001b[0m   File \"<pip-setuptools-caller>\", line 34, in <module>\n",
      "  \u001b[31m   \u001b[0m   File \"/tmp/pip-install-li7x061f/fbprophet_28c9a61cd67f4c7eb1c94976ec445676/setup.py\", line 122, in <module>\n",
      "  \u001b[31m   \u001b[0m     setup(\n",
      "  \u001b[31m   \u001b[0m   File \"/usr/lib/python3/dist-packages/setuptools/__init__.py\", line 153, in setup\n",
      "  \u001b[31m   \u001b[0m     return distutils.core.setup(**attrs)\n",
      "  \u001b[31m   \u001b[0m   File \"/usr/lib/python3.10/distutils/core.py\", line 148, in setup\n",
      "  \u001b[31m   \u001b[0m     dist.run_commands()\n",
      "  \u001b[31m   \u001b[0m   File \"/usr/lib/python3.10/distutils/dist.py\", line 966, in run_commands\n",
      "  \u001b[31m   \u001b[0m     self.run_command(cmd)\n",
      "  \u001b[31m   \u001b[0m   File \"/usr/lib/python3.10/distutils/dist.py\", line 985, in run_command\n",
      "  \u001b[31m   \u001b[0m     cmd_obj.run()\n",
      "  \u001b[31m   \u001b[0m   File \"/usr/lib/python3/dist-packages/wheel/bdist_wheel.py\", line 299, in run\n",
      "  \u001b[31m   \u001b[0m     self.run_command('build')\n",
      "  \u001b[31m   \u001b[0m   File \"/usr/lib/python3.10/distutils/cmd.py\", line 313, in run_command\n",
      "  \u001b[31m   \u001b[0m     self.distribution.run_command(command)\n",
      "  \u001b[31m   \u001b[0m   File \"/usr/lib/python3.10/distutils/dist.py\", line 985, in run_command\n",
      "  \u001b[31m   \u001b[0m     cmd_obj.run()\n",
      "  \u001b[31m   \u001b[0m   File \"/usr/lib/python3.10/distutils/command/build.py\", line 135, in run\n",
      "  \u001b[31m   \u001b[0m     self.run_command(cmd_name)\n",
      "  \u001b[31m   \u001b[0m   File \"/usr/lib/python3.10/distutils/cmd.py\", line 313, in run_command\n",
      "  \u001b[31m   \u001b[0m     self.distribution.run_command(command)\n",
      "  \u001b[31m   \u001b[0m   File \"/usr/lib/python3.10/distutils/dist.py\", line 985, in run_command\n",
      "  \u001b[31m   \u001b[0m     cmd_obj.run()\n",
      "  \u001b[31m   \u001b[0m   File \"/tmp/pip-install-li7x061f/fbprophet_28c9a61cd67f4c7eb1c94976ec445676/setup.py\", line 48, in run\n",
      "  \u001b[31m   \u001b[0m     build_models(target_dir)\n",
      "  \u001b[31m   \u001b[0m   File \"/tmp/pip-install-li7x061f/fbprophet_28c9a61cd67f4c7eb1c94976ec445676/setup.py\", line 38, in build_models\n",
      "  \u001b[31m   \u001b[0m     StanBackendEnum.get_backend_class(backend).build_model(target_dir, MODEL_DIR)\n",
      "  \u001b[31m   \u001b[0m   File \"/tmp/pip-install-li7x061f/fbprophet_28c9a61cd67f4c7eb1c94976ec445676/fbprophet/models.py\", line 209, in build_model\n",
      "  \u001b[31m   \u001b[0m     import pystan\n",
      "  \u001b[31m   \u001b[0m ModuleNotFoundError: No module named 'pystan'\n",
      "  \u001b[31m   \u001b[0m \u001b[31m[end of output]\u001b[0m\n",
      "  \n",
      "  \u001b[1;35mnote\u001b[0m: This error originates from a subprocess, and is likely not a problem with pip.\n",
      "\u001b[31m  ERROR: Failed building wheel for fbprophet\u001b[0m\u001b[31m\n",
      "\u001b[0m\u001b[?25h  Running setup.py clean for fbprophet\n"
     ]
    },
    {
     "name": "stdout",
     "output_type": "stream",
     "text": [
      "Failed to build fbprophet\n",
      "Installing collected packages: fbprophet\n",
      "  Running setup.py install for fbprophet ... \u001b[?25lerror\n",
      "  \u001b[1;31merror\u001b[0m: \u001b[1msubprocess-exited-with-error\u001b[0m\n",
      "  \n",
      "  \u001b[31m×\u001b[0m \u001b[32mRunning setup.py install for fbprophet\u001b[0m did not run successfully.\n",
      "  \u001b[31m│\u001b[0m exit code: \u001b[1;36m1\u001b[0m\n",
      "  \u001b[31m╰─>\u001b[0m \u001b[31m[44 lines of output]\u001b[0m\n",
      "  \u001b[31m   \u001b[0m running install\n",
      "  \u001b[31m   \u001b[0m /usr/lib/python3/dist-packages/setuptools/command/install.py:34: SetuptoolsDeprecationWarning: setup.py install is deprecated. Use build and pip and other standards-based tools.\n",
      "  \u001b[31m   \u001b[0m   warnings.warn(\n",
      "  \u001b[31m   \u001b[0m running build\n",
      "  \u001b[31m   \u001b[0m running build_py\n",
      "  \u001b[31m   \u001b[0m creating build\n",
      "  \u001b[31m   \u001b[0m creating build/lib\n",
      "  \u001b[31m   \u001b[0m creating build/lib/fbprophet\n",
      "  \u001b[31m   \u001b[0m creating build/lib/fbprophet/stan_model\n",
      "  \u001b[31m   \u001b[0m Importing plotly failed. Interactive plots will not work.\n",
      "  \u001b[31m   \u001b[0m Traceback (most recent call last):\n",
      "  \u001b[31m   \u001b[0m   File \"<string>\", line 2, in <module>\n",
      "  \u001b[31m   \u001b[0m   File \"<pip-setuptools-caller>\", line 34, in <module>\n",
      "  \u001b[31m   \u001b[0m   File \"/tmp/pip-install-li7x061f/fbprophet_28c9a61cd67f4c7eb1c94976ec445676/setup.py\", line 122, in <module>\n",
      "  \u001b[31m   \u001b[0m     setup(\n",
      "  \u001b[31m   \u001b[0m   File \"/usr/lib/python3/dist-packages/setuptools/__init__.py\", line 153, in setup\n",
      "  \u001b[31m   \u001b[0m     return distutils.core.setup(**attrs)\n",
      "  \u001b[31m   \u001b[0m   File \"/usr/lib/python3.10/distutils/core.py\", line 148, in setup\n",
      "  \u001b[31m   \u001b[0m     dist.run_commands()\n",
      "  \u001b[31m   \u001b[0m   File \"/usr/lib/python3.10/distutils/dist.py\", line 966, in run_commands\n",
      "  \u001b[31m   \u001b[0m     self.run_command(cmd)\n",
      "  \u001b[31m   \u001b[0m   File \"/usr/lib/python3.10/distutils/dist.py\", line 985, in run_command\n",
      "  \u001b[31m   \u001b[0m     cmd_obj.run()\n",
      "  \u001b[31m   \u001b[0m   File \"/usr/lib/python3/dist-packages/setuptools/command/install.py\", line 68, in run\n",
      "  \u001b[31m   \u001b[0m     return orig.install.run(self)\n",
      "  \u001b[31m   \u001b[0m   File \"/usr/lib/python3.10/distutils/command/install.py\", line 619, in run\n",
      "  \u001b[31m   \u001b[0m     self.run_command('build')\n",
      "  \u001b[31m   \u001b[0m   File \"/usr/lib/python3.10/distutils/cmd.py\", line 313, in run_command\n",
      "  \u001b[31m   \u001b[0m     self.distribution.run_command(command)\n",
      "  \u001b[31m   \u001b[0m   File \"/usr/lib/python3.10/distutils/dist.py\", line 985, in run_command\n",
      "  \u001b[31m   \u001b[0m     cmd_obj.run()\n",
      "  \u001b[31m   \u001b[0m   File \"/usr/lib/python3.10/distutils/command/build.py\", line 135, in run\n",
      "  \u001b[31m   \u001b[0m     self.run_command(cmd_name)\n",
      "  \u001b[31m   \u001b[0m   File \"/usr/lib/python3.10/distutils/cmd.py\", line 313, in run_command\n",
      "  \u001b[31m   \u001b[0m     self.distribution.run_command(command)\n",
      "  \u001b[31m   \u001b[0m   File \"/usr/lib/python3.10/distutils/dist.py\", line 985, in run_command\n",
      "  \u001b[31m   \u001b[0m     cmd_obj.run()\n",
      "  \u001b[31m   \u001b[0m   File \"/tmp/pip-install-li7x061f/fbprophet_28c9a61cd67f4c7eb1c94976ec445676/setup.py\", line 48, in run\n",
      "  \u001b[31m   \u001b[0m     build_models(target_dir)\n",
      "  \u001b[31m   \u001b[0m   File \"/tmp/pip-install-li7x061f/fbprophet_28c9a61cd67f4c7eb1c94976ec445676/setup.py\", line 38, in build_models\n",
      "  \u001b[31m   \u001b[0m     StanBackendEnum.get_backend_class(backend).build_model(target_dir, MODEL_DIR)\n",
      "  \u001b[31m   \u001b[0m   File \"/tmp/pip-install-li7x061f/fbprophet_28c9a61cd67f4c7eb1c94976ec445676/fbprophet/models.py\", line 209, in build_model\n",
      "  \u001b[31m   \u001b[0m     import pystan\n",
      "  \u001b[31m   \u001b[0m ModuleNotFoundError: No module named 'pystan'\n",
      "  \u001b[31m   \u001b[0m \u001b[31m[end of output]\u001b[0m\n",
      "  \n",
      "  \u001b[1;35mnote\u001b[0m: This error originates from a subprocess, and is likely not a problem with pip.\n",
      "\u001b[1;31merror\u001b[0m: \u001b[1mlegacy-install-failure\u001b[0m\n",
      "\n",
      "\u001b[31m×\u001b[0m Encountered error while trying to install package.\n",
      "\u001b[31m╰─>\u001b[0m fbprophet\n",
      "\n",
      "\u001b[1;35mnote\u001b[0m: This is an issue with the package mentioned above, not pip.\n",
      "\u001b[1;36mhint\u001b[0m: See above for output from the failure.\n",
      "\u001b[?25hNote: you may need to restart the kernel to use updated packages.\n"
     ]
    }
   ],
   "source": [
    "%pip install fbprophet"
   ]
  },
  {
   "cell_type": "code",
   "execution_count": null,
   "id": "78370bf8",
   "metadata": {},
   "outputs": [],
   "source": []
  }
 ],
 "metadata": {
  "kernelspec": {
   "display_name": "Python 3 (ipykernel)",
   "language": "python",
   "name": "python3"
  },
  "language_info": {
   "codemirror_mode": {
    "name": "ipython",
    "version": 3
   },
   "file_extension": ".py",
   "mimetype": "text/x-python",
   "name": "python",
   "nbconvert_exporter": "python",
   "pygments_lexer": "ipython3",
   "version": "3.10.6"
  }
 },
 "nbformat": 4,
 "nbformat_minor": 5
}
