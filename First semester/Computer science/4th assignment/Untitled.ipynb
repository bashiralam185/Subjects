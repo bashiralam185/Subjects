{
 "cells": [
  {
   "cell_type": "markdown",
   "id": "92fb37af",
   "metadata": {},
   "source": [
    "##### Bashir Alam\n",
    "##### Assignment 4\n"
   ]
  },
  {
   "cell_type": "markdown",
   "id": "cc9b90db",
   "metadata": {},
   "source": [
    "<p><b>Question-1</b><hr>a) The comma in the numbers must be replaced by a point<hr>\n",
    "b) The sales volume has sometimes an M and sometimes a K. this will prohibit the use of numbers as\n",
    "numbers, so we must replace, for example, 1.57M by 1560000 or 4.56K by 456000<hr>\n",
    "c) We want to add a column that contains positive or negative as a function of variation.<hr>\n",
    "d) Change column names to English<hr>\n",
    "e) The date is in European format we must change the date to appear 04-12-2021 that is day, month and\n",
    "year (NOTE dates and times are manipulated with formats. look for information about timestamp in\n",
    "pandas)<hr>\n",
    "\n",
    "1- Write a function to correct these points and save the file with the name of cttcorrcted.csv</p>"
   ]
  },
  {
   "cell_type": "code",
   "execution_count": 34,
   "id": "7d03bc41",
   "metadata": {},
   "outputs": [
    {
     "data": {
      "text/html": [
       "<div>\n",
       "<style scoped>\n",
       "    .dataframe tbody tr th:only-of-type {\n",
       "        vertical-align: middle;\n",
       "    }\n",
       "\n",
       "    .dataframe tbody tr th {\n",
       "        vertical-align: top;\n",
       "    }\n",
       "\n",
       "    .dataframe thead th {\n",
       "        text-align: right;\n",
       "    }\n",
       "</style>\n",
       "<table border=\"1\" class=\"dataframe\">\n",
       "  <thead>\n",
       "    <tr style=\"text-align: right;\">\n",
       "      <th></th>\n",
       "      <th>Data</th>\n",
       "      <th>Último</th>\n",
       "      <th>Abertura</th>\n",
       "      <th>Alta</th>\n",
       "      <th>Baixa</th>\n",
       "      <th>Vol.</th>\n",
       "      <th>Var. %</th>\n",
       "    </tr>\n",
       "  </thead>\n",
       "  <tbody>\n",
       "    <tr>\n",
       "      <th>0</th>\n",
       "      <td>12.04.2021</td>\n",
       "      <td>3,50</td>\n",
       "      <td>3,57</td>\n",
       "      <td>3,64</td>\n",
       "      <td>3,46</td>\n",
       "      <td>1,57M</td>\n",
       "      <td>-1,55%</td>\n",
       "    </tr>\n",
       "    <tr>\n",
       "      <th>1</th>\n",
       "      <td>09.04.2021</td>\n",
       "      <td>3,56</td>\n",
       "      <td>3,52</td>\n",
       "      <td>3,57</td>\n",
       "      <td>3,52</td>\n",
       "      <td>666,03K</td>\n",
       "      <td>1,14%</td>\n",
       "    </tr>\n",
       "    <tr>\n",
       "      <th>2</th>\n",
       "      <td>08.04.2021</td>\n",
       "      <td>3,52</td>\n",
       "      <td>3,45</td>\n",
       "      <td>3,54</td>\n",
       "      <td>3,45</td>\n",
       "      <td>882,54K</td>\n",
       "      <td>1,59%</td>\n",
       "    </tr>\n",
       "    <tr>\n",
       "      <th>3</th>\n",
       "      <td>07.04.2021</td>\n",
       "      <td>3,46</td>\n",
       "      <td>3,43</td>\n",
       "      <td>3,49</td>\n",
       "      <td>3,43</td>\n",
       "      <td>508,33K</td>\n",
       "      <td>0,87%</td>\n",
       "    </tr>\n",
       "    <tr>\n",
       "      <th>4</th>\n",
       "      <td>06.04.2021</td>\n",
       "      <td>3,43</td>\n",
       "      <td>3,44</td>\n",
       "      <td>3,49</td>\n",
       "      <td>3,43</td>\n",
       "      <td>809,46K</td>\n",
       "      <td>0,59%</td>\n",
       "    </tr>\n",
       "  </tbody>\n",
       "</table>\n",
       "</div>"
      ],
      "text/plain": [
       "         Data Último Abertura  Alta Baixa     Vol.  Var. %\n",
       "0  12.04.2021   3,50     3,57  3,64  3,46    1,57M  -1,55%\n",
       "1  09.04.2021   3,56     3,52  3,57  3,52  666,03K   1,14%\n",
       "2  08.04.2021   3,52     3,45  3,54  3,45  882,54K   1,59%\n",
       "3  07.04.2021   3,46     3,43  3,49  3,43  508,33K   0,87%\n",
       "4  06.04.2021   3,43     3,44  3,49  3,43  809,46K   0,59%"
      ]
     },
     "execution_count": 34,
     "metadata": {},
     "output_type": "execute_result"
    }
   ],
   "source": [
    "import pandas as pd\n",
    "\n",
    "data = pd.read_csv(\"CTT10.csv\")\n",
    "\n",
    "data.head()"
   ]
  },
  {
   "cell_type": "code",
   "execution_count": 35,
   "id": "6de19549",
   "metadata": {},
   "outputs": [],
   "source": [
    "# removing commas from the columns\n",
    "for col in data.columns:\n",
    "    data[col] = data[col].replace(\",\", \"\", regex=True)"
   ]
  },
  {
   "cell_type": "code",
   "execution_count": null,
   "id": "517968dd",
   "metadata": {},
   "outputs": [],
   "source": []
  },
  {
   "cell_type": "code",
   "execution_count": 36,
   "id": "ce5b3586",
   "metadata": {},
   "outputs": [],
   "source": [
    "\n",
    "# converting the K and M into numbers\n",
    "def value_to_float(x):\n",
    "    if type(x) == float or type(x) == int:\n",
    "        return x\n",
    "    if 'K' in x:\n",
    "        if len(x) > 1:\n",
    "            return float(x.replace('K', '')) * 1000\n",
    "        return 1000.0\n",
    "    if 'M' in x:\n",
    "        if len(x) > 1:\n",
    "            return float(x.replace('M', '')) * 1000000\n",
    "        return 1000000.0\n",
    "    return 0.0\n",
    "\n",
    "data['Vol.'] = data['Vol.'].apply(value_to_float)"
   ]
  },
  {
   "cell_type": "code",
   "execution_count": 37,
   "id": "38269086",
   "metadata": {},
   "outputs": [],
   "source": [
    "# renaming the column names\n",
    "data.rename(columns = {'Data':'Date', \"Último\":\"Last\", \"Abertura\":\"Open\", \"Alta\": \"High\",\"Baixa\":\"Low\", \"Vol.\": \"Vol.\",\"Var. %\":\"Var. %\"}, inplace = True)"
   ]
  },
  {
   "cell_type": "code",
   "execution_count": 38,
   "id": "0d963a7f",
   "metadata": {},
   "outputs": [
    {
     "data": {
      "text/html": [
       "<div>\n",
       "<style scoped>\n",
       "    .dataframe tbody tr th:only-of-type {\n",
       "        vertical-align: middle;\n",
       "    }\n",
       "\n",
       "    .dataframe tbody tr th {\n",
       "        vertical-align: top;\n",
       "    }\n",
       "\n",
       "    .dataframe thead th {\n",
       "        text-align: right;\n",
       "    }\n",
       "</style>\n",
       "<table border=\"1\" class=\"dataframe\">\n",
       "  <thead>\n",
       "    <tr style=\"text-align: right;\">\n",
       "      <th></th>\n",
       "      <th>Date</th>\n",
       "      <th>Last</th>\n",
       "      <th>Open</th>\n",
       "      <th>High</th>\n",
       "      <th>Low</th>\n",
       "      <th>Vol.</th>\n",
       "      <th>Var. %</th>\n",
       "    </tr>\n",
       "  </thead>\n",
       "  <tbody>\n",
       "    <tr>\n",
       "      <th>0</th>\n",
       "      <td>12.04.2021</td>\n",
       "      <td>350</td>\n",
       "      <td>357</td>\n",
       "      <td>364</td>\n",
       "      <td>346</td>\n",
       "      <td>157000000.0</td>\n",
       "      <td>-155%</td>\n",
       "    </tr>\n",
       "    <tr>\n",
       "      <th>1</th>\n",
       "      <td>09.04.2021</td>\n",
       "      <td>356</td>\n",
       "      <td>352</td>\n",
       "      <td>357</td>\n",
       "      <td>352</td>\n",
       "      <td>66603000.0</td>\n",
       "      <td>114%</td>\n",
       "    </tr>\n",
       "    <tr>\n",
       "      <th>2</th>\n",
       "      <td>08.04.2021</td>\n",
       "      <td>352</td>\n",
       "      <td>345</td>\n",
       "      <td>354</td>\n",
       "      <td>345</td>\n",
       "      <td>88254000.0</td>\n",
       "      <td>159%</td>\n",
       "    </tr>\n",
       "    <tr>\n",
       "      <th>3</th>\n",
       "      <td>07.04.2021</td>\n",
       "      <td>346</td>\n",
       "      <td>343</td>\n",
       "      <td>349</td>\n",
       "      <td>343</td>\n",
       "      <td>50833000.0</td>\n",
       "      <td>087%</td>\n",
       "    </tr>\n",
       "    <tr>\n",
       "      <th>4</th>\n",
       "      <td>06.04.2021</td>\n",
       "      <td>343</td>\n",
       "      <td>344</td>\n",
       "      <td>349</td>\n",
       "      <td>343</td>\n",
       "      <td>80946000.0</td>\n",
       "      <td>059%</td>\n",
       "    </tr>\n",
       "  </tbody>\n",
       "</table>\n",
       "</div>"
      ],
      "text/plain": [
       "         Date Last Open High  Low         Vol. Var. %\n",
       "0  12.04.2021  350  357  364  346  157000000.0  -155%\n",
       "1  09.04.2021  356  352  357  352   66603000.0   114%\n",
       "2  08.04.2021  352  345  354  345   88254000.0   159%\n",
       "3  07.04.2021  346  343  349  343   50833000.0   087%\n",
       "4  06.04.2021  343  344  349  343   80946000.0   059%"
      ]
     },
     "execution_count": 38,
     "metadata": {},
     "output_type": "execute_result"
    }
   ],
   "source": [
    "data.head()"
   ]
  },
  {
   "cell_type": "code",
   "execution_count": 39,
   "id": "c66708a0",
   "metadata": {},
   "outputs": [
    {
     "name": "stderr",
     "output_type": "stream",
     "text": [
      "/tmp/ipykernel_90639/1970450116.py:2: UserWarning: Parsing dates in DD/MM/YYYY format when dayfirst=False (the default) was specified. This may lead to inconsistently parsed dates! Specify a format to ensure consistent parsing.\n",
      "  data[\"Date\"] = data[\"Date\"].astype('datetime64[ns]')\n"
     ]
    }
   ],
   "source": [
    "# changing the date format\n",
    "data[\"Date\"] = data[\"Date\"].astype('datetime64[ns]')\n"
   ]
  },
  {
   "cell_type": "code",
   "execution_count": 42,
   "id": "327abf3c",
   "metadata": {},
   "outputs": [],
   "source": [
    "# df['day'] = pd.to_datetime(df['day'])\n",
    "data['Date'] = data['Date'].dt.strftime('%d.%m.%Y')"
   ]
  },
  {
   "cell_type": "code",
   "execution_count": null,
   "id": "f2786149",
   "metadata": {},
   "outputs": [],
   "source": []
  },
  {
   "cell_type": "markdown",
   "id": "78fa9394",
   "metadata": {},
   "source": [
    "<p><b>Question-2</b><hr>What was the date with the highest volatility (difference between min and max)</p>"
   ]
  },
  {
   "cell_type": "code",
   "execution_count": null,
   "id": "f6f8ad84",
   "metadata": {},
   "outputs": [],
   "source": [
    "vali"
   ]
  }
 ],
 "metadata": {
  "kernelspec": {
   "display_name": "Python 3 (ipykernel)",
   "language": "python",
   "name": "python3"
  },
  "language_info": {
   "codemirror_mode": {
    "name": "ipython",
    "version": 3
   },
   "file_extension": ".py",
   "mimetype": "text/x-python",
   "name": "python",
   "nbconvert_exporter": "python",
   "pygments_lexer": "ipython3",
   "version": "3.10.6"
  }
 },
 "nbformat": 4,
 "nbformat_minor": 5
}
