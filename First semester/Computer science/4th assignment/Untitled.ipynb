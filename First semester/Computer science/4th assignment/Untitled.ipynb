{
 "cells": [
  {
   "cell_type": "markdown",
   "id": "92fb37af",
   "metadata": {},
   "source": [
    "##### Bashir Alam\n",
    "##### Assignment 4\n"
   ]
  },
  {
   "cell_type": "markdown",
   "id": "cc9b90db",
   "metadata": {},
   "source": [
    "<p><b>Question-1</b><hr>a) The comma in the numbers must be replaced by a point<hr>\n",
    "b) The sales volume has sometimes an M and sometimes a K. this will prohibit the use of numbers as\n",
    "numbers, so we must replace, for example, 1.57M by 1560000 or 4.56K by 456000<hr>\n",
    "c) We want to add a column that contains positive or negative as a function of variation.<hr>\n",
    "d) Change column names to English<hr>\n",
    "e) The date is in European format we must change the date to appear 04-12-2021 that is day, month and\n",
    "year (NOTE dates and times are manipulated with formats. look for information about timestamp in\n",
    "pandas)<hr>\n",
    "\n",
    "1- Write a function to correct these points and save the file with the name of cttcorrcted.csv</p>"
   ]
  },
  {
   "cell_type": "code",
   "execution_count": null,
   "id": "ac3e702f",
   "metadata": {},
   "outputs": [],
   "source": []
  },
  {
   "cell_type": "code",
   "execution_count": 30,
   "id": "7d03bc41",
   "metadata": {},
   "outputs": [
    {
     "data": {
      "text/html": [
       "<div>\n",
       "<style scoped>\n",
       "    .dataframe tbody tr th:only-of-type {\n",
       "        vertical-align: middle;\n",
       "    }\n",
       "\n",
       "    .dataframe tbody tr th {\n",
       "        vertical-align: top;\n",
       "    }\n",
       "\n",
       "    .dataframe thead th {\n",
       "        text-align: right;\n",
       "    }\n",
       "</style>\n",
       "<table border=\"1\" class=\"dataframe\">\n",
       "  <thead>\n",
       "    <tr style=\"text-align: right;\">\n",
       "      <th></th>\n",
       "      <th>Data</th>\n",
       "      <th>Último</th>\n",
       "      <th>Abertura</th>\n",
       "      <th>Alta</th>\n",
       "      <th>Baixa</th>\n",
       "      <th>Vol.</th>\n",
       "      <th>Var. %</th>\n",
       "    </tr>\n",
       "  </thead>\n",
       "  <tbody>\n",
       "    <tr>\n",
       "      <th>0</th>\n",
       "      <td>12.04.2021</td>\n",
       "      <td>3,50</td>\n",
       "      <td>3,57</td>\n",
       "      <td>3,64</td>\n",
       "      <td>3,46</td>\n",
       "      <td>1,57M</td>\n",
       "      <td>-1,55%</td>\n",
       "    </tr>\n",
       "    <tr>\n",
       "      <th>1</th>\n",
       "      <td>09.04.2021</td>\n",
       "      <td>3,56</td>\n",
       "      <td>3,52</td>\n",
       "      <td>3,57</td>\n",
       "      <td>3,52</td>\n",
       "      <td>666,03K</td>\n",
       "      <td>1,14%</td>\n",
       "    </tr>\n",
       "    <tr>\n",
       "      <th>2</th>\n",
       "      <td>08.04.2021</td>\n",
       "      <td>3,52</td>\n",
       "      <td>3,45</td>\n",
       "      <td>3,54</td>\n",
       "      <td>3,45</td>\n",
       "      <td>882,54K</td>\n",
       "      <td>1,59%</td>\n",
       "    </tr>\n",
       "    <tr>\n",
       "      <th>3</th>\n",
       "      <td>07.04.2021</td>\n",
       "      <td>3,46</td>\n",
       "      <td>3,43</td>\n",
       "      <td>3,49</td>\n",
       "      <td>3,43</td>\n",
       "      <td>508,33K</td>\n",
       "      <td>0,87%</td>\n",
       "    </tr>\n",
       "    <tr>\n",
       "      <th>4</th>\n",
       "      <td>06.04.2021</td>\n",
       "      <td>3,43</td>\n",
       "      <td>3,44</td>\n",
       "      <td>3,49</td>\n",
       "      <td>3,43</td>\n",
       "      <td>809,46K</td>\n",
       "      <td>0,59%</td>\n",
       "    </tr>\n",
       "  </tbody>\n",
       "</table>\n",
       "</div>"
      ],
      "text/plain": [
       "         Data Último Abertura  Alta Baixa     Vol.  Var. %\n",
       "0  12.04.2021   3,50     3,57  3,64  3,46    1,57M  -1,55%\n",
       "1  09.04.2021   3,56     3,52  3,57  3,52  666,03K   1,14%\n",
       "2  08.04.2021   3,52     3,45  3,54  3,45  882,54K   1,59%\n",
       "3  07.04.2021   3,46     3,43  3,49  3,43  508,33K   0,87%\n",
       "4  06.04.2021   3,43     3,44  3,49  3,43  809,46K   0,59%"
      ]
     },
     "execution_count": 30,
     "metadata": {},
     "output_type": "execute_result"
    }
   ],
   "source": [
    "import pandas as pd\n",
    "\n",
    "data = pd.read_csv(\"CTT10.csv\")\n",
    "\n",
    "data.head()"
   ]
  },
  {
   "cell_type": "code",
   "execution_count": 22,
   "id": "1d55946c",
   "metadata": {},
   "outputs": [],
   "source": [
    "# this function converts the K and M value into numeric values \n",
    "def value_to_float(x):\n",
    "    if type(x) == float or type(x) == int:\n",
    "        return x\n",
    "    if 'K' in x:\n",
    "        if len(x) > 1:\n",
    "            return float(x.replace('K', '')) * 1000\n",
    "        return 1000.0\n",
    "    if 'M' in x:\n",
    "        if len(x) > 1:\n",
    "            return float(x.replace('M', '')) * 1000000\n",
    "        return 1000000.0\n",
    "    return 0.0\n",
    "\n",
    "\n",
    "def qustion1(dataframe):\n",
    "    \n",
    "    # removing commas from the dataframe\n",
    "    for col in dataframe.columns:\n",
    "        if col =='Var. %':\n",
    "            pass\n",
    "        else:\n",
    "            dataframe[col] = dataframe[col].replace(\",\", \"\", regex=True)\n",
    "    \n",
    "    # changing k and M into numbers\n",
    "    dataframe['Vol.'] = dataframe['Vol.'].apply(value_to_float)\n",
    "    \n",
    "    # adding a column that contains negative or positive\n",
    "    dataframe['Var. %'] = dataframe['Var. %'].str.replace('%','')\n",
    "    dataframe['Var. %'] = dataframe['Var. %'].str.replace(',','.')\n",
    "    data['Var. %'] = data['Var. %'].astype('float')\n",
    "    \n",
    "    \n",
    "    #remaning the column name\n",
    "    dataframe.rename(columns = {'Data':'Date', \"Último\":\"Last\", \"Abertura\":\"Open\", \"Alta\": \"High\",\"Baixa\":\"Low\", \"Vol.\": \"Vol.\",\"Var. %\":\"Var. %\"}, inplace = True)\n",
    "    \n",
    "    \n",
    "    #changing the date format\n",
    "    dataframe[\"Date\"] = dataframe[\"Date\"].astype('datetime64[ns]')\n",
    "    dataframe['Date'] = dataframe['Date'].dt.strftime('%d.%m.%Y')"
   ]
  },
  {
   "cell_type": "code",
   "execution_count": null,
   "id": "11a6855a",
   "metadata": {},
   "outputs": [],
   "source": []
  },
  {
   "cell_type": "code",
   "execution_count": null,
   "id": "233722e4",
   "metadata": {},
   "outputs": [],
   "source": []
  },
  {
   "cell_type": "code",
   "execution_count": null,
   "id": "927aaaa9",
   "metadata": {},
   "outputs": [],
   "source": []
  },
  {
   "cell_type": "code",
   "execution_count": 31,
   "id": "6de19549",
   "metadata": {},
   "outputs": [],
   "source": [
    "for col in data.columns:\n",
    "    if col =='Var. %':\n",
    "        pass\n",
    "    else:\n",
    "        data[col] = data[col].replace(\",\", \"\", regex=True)"
   ]
  },
  {
   "cell_type": "code",
   "execution_count": 32,
   "id": "517968dd",
   "metadata": {},
   "outputs": [
    {
     "data": {
      "text/html": [
       "<div>\n",
       "<style scoped>\n",
       "    .dataframe tbody tr th:only-of-type {\n",
       "        vertical-align: middle;\n",
       "    }\n",
       "\n",
       "    .dataframe tbody tr th {\n",
       "        vertical-align: top;\n",
       "    }\n",
       "\n",
       "    .dataframe thead th {\n",
       "        text-align: right;\n",
       "    }\n",
       "</style>\n",
       "<table border=\"1\" class=\"dataframe\">\n",
       "  <thead>\n",
       "    <tr style=\"text-align: right;\">\n",
       "      <th></th>\n",
       "      <th>Data</th>\n",
       "      <th>Último</th>\n",
       "      <th>Abertura</th>\n",
       "      <th>Alta</th>\n",
       "      <th>Baixa</th>\n",
       "      <th>Vol.</th>\n",
       "      <th>Var. %</th>\n",
       "    </tr>\n",
       "  </thead>\n",
       "  <tbody>\n",
       "    <tr>\n",
       "      <th>0</th>\n",
       "      <td>12.04.2021</td>\n",
       "      <td>350</td>\n",
       "      <td>357</td>\n",
       "      <td>364</td>\n",
       "      <td>346</td>\n",
       "      <td>157M</td>\n",
       "      <td>-1,55%</td>\n",
       "    </tr>\n",
       "    <tr>\n",
       "      <th>1</th>\n",
       "      <td>09.04.2021</td>\n",
       "      <td>356</td>\n",
       "      <td>352</td>\n",
       "      <td>357</td>\n",
       "      <td>352</td>\n",
       "      <td>66603K</td>\n",
       "      <td>1,14%</td>\n",
       "    </tr>\n",
       "    <tr>\n",
       "      <th>2</th>\n",
       "      <td>08.04.2021</td>\n",
       "      <td>352</td>\n",
       "      <td>345</td>\n",
       "      <td>354</td>\n",
       "      <td>345</td>\n",
       "      <td>88254K</td>\n",
       "      <td>1,59%</td>\n",
       "    </tr>\n",
       "    <tr>\n",
       "      <th>3</th>\n",
       "      <td>07.04.2021</td>\n",
       "      <td>346</td>\n",
       "      <td>343</td>\n",
       "      <td>349</td>\n",
       "      <td>343</td>\n",
       "      <td>50833K</td>\n",
       "      <td>0,87%</td>\n",
       "    </tr>\n",
       "    <tr>\n",
       "      <th>4</th>\n",
       "      <td>06.04.2021</td>\n",
       "      <td>343</td>\n",
       "      <td>344</td>\n",
       "      <td>349</td>\n",
       "      <td>343</td>\n",
       "      <td>80946K</td>\n",
       "      <td>0,59%</td>\n",
       "    </tr>\n",
       "  </tbody>\n",
       "</table>\n",
       "</div>"
      ],
      "text/plain": [
       "         Data Último Abertura Alta Baixa    Vol.  Var. %\n",
       "0  12.04.2021    350      357  364   346    157M  -1,55%\n",
       "1  09.04.2021    356      352  357   352  66603K   1,14%\n",
       "2  08.04.2021    352      345  354   345  88254K   1,59%\n",
       "3  07.04.2021    346      343  349   343  50833K   0,87%\n",
       "4  06.04.2021    343      344  349   343  80946K   0,59%"
      ]
     },
     "execution_count": 32,
     "metadata": {},
     "output_type": "execute_result"
    }
   ],
   "source": [
    "data.head()"
   ]
  },
  {
   "cell_type": "code",
   "execution_count": 3,
   "id": "ce5b3586",
   "metadata": {},
   "outputs": [],
   "source": [
    "\n",
    "# converting the K and M into numbers\n",
    "def value_to_float(x):\n",
    "    if type(x) == float or type(x) == int:\n",
    "        return x\n",
    "    if 'K' in x:\n",
    "        if len(x) > 1:\n",
    "            return float(x.replace('K', '')) * 1000\n",
    "        return 1000.0\n",
    "    if 'M' in x:\n",
    "        if len(x) > 1:\n",
    "            return float(x.replace('M', '')) * 1000000\n",
    "        return 1000000.0\n",
    "    return 0.0\n",
    "\n",
    "data['Vol.'] = data['Vol.'].apply(value_to_float)"
   ]
  },
  {
   "cell_type": "code",
   "execution_count": 4,
   "id": "38269086",
   "metadata": {},
   "outputs": [],
   "source": [
    "# renaming the column names\n",
    "data.rename(columns = {'Data':'Date', \"Último\":\"Last\", \"Abertura\":\"Open\", \"Alta\": \"High\",\"Baixa\":\"Low\", \"Vol.\": \"Vol.\",\"Var. %\":\"Var. %\"}, inplace = True)"
   ]
  },
  {
   "cell_type": "code",
   "execution_count": 5,
   "id": "0d963a7f",
   "metadata": {},
   "outputs": [
    {
     "data": {
      "text/html": [
       "<div>\n",
       "<style scoped>\n",
       "    .dataframe tbody tr th:only-of-type {\n",
       "        vertical-align: middle;\n",
       "    }\n",
       "\n",
       "    .dataframe tbody tr th {\n",
       "        vertical-align: top;\n",
       "    }\n",
       "\n",
       "    .dataframe thead th {\n",
       "        text-align: right;\n",
       "    }\n",
       "</style>\n",
       "<table border=\"1\" class=\"dataframe\">\n",
       "  <thead>\n",
       "    <tr style=\"text-align: right;\">\n",
       "      <th></th>\n",
       "      <th>Date</th>\n",
       "      <th>Last</th>\n",
       "      <th>Open</th>\n",
       "      <th>High</th>\n",
       "      <th>Low</th>\n",
       "      <th>Vol.</th>\n",
       "      <th>Var. %</th>\n",
       "    </tr>\n",
       "  </thead>\n",
       "  <tbody>\n",
       "    <tr>\n",
       "      <th>0</th>\n",
       "      <td>12.04.2021</td>\n",
       "      <td>350</td>\n",
       "      <td>357</td>\n",
       "      <td>364</td>\n",
       "      <td>346</td>\n",
       "      <td>157000000.0</td>\n",
       "      <td>-155%</td>\n",
       "    </tr>\n",
       "    <tr>\n",
       "      <th>1</th>\n",
       "      <td>09.04.2021</td>\n",
       "      <td>356</td>\n",
       "      <td>352</td>\n",
       "      <td>357</td>\n",
       "      <td>352</td>\n",
       "      <td>66603000.0</td>\n",
       "      <td>114%</td>\n",
       "    </tr>\n",
       "    <tr>\n",
       "      <th>2</th>\n",
       "      <td>08.04.2021</td>\n",
       "      <td>352</td>\n",
       "      <td>345</td>\n",
       "      <td>354</td>\n",
       "      <td>345</td>\n",
       "      <td>88254000.0</td>\n",
       "      <td>159%</td>\n",
       "    </tr>\n",
       "    <tr>\n",
       "      <th>3</th>\n",
       "      <td>07.04.2021</td>\n",
       "      <td>346</td>\n",
       "      <td>343</td>\n",
       "      <td>349</td>\n",
       "      <td>343</td>\n",
       "      <td>50833000.0</td>\n",
       "      <td>087%</td>\n",
       "    </tr>\n",
       "    <tr>\n",
       "      <th>4</th>\n",
       "      <td>06.04.2021</td>\n",
       "      <td>343</td>\n",
       "      <td>344</td>\n",
       "      <td>349</td>\n",
       "      <td>343</td>\n",
       "      <td>80946000.0</td>\n",
       "      <td>059%</td>\n",
       "    </tr>\n",
       "  </tbody>\n",
       "</table>\n",
       "</div>"
      ],
      "text/plain": [
       "         Date Last Open High  Low         Vol. Var. %\n",
       "0  12.04.2021  350  357  364  346  157000000.0  -155%\n",
       "1  09.04.2021  356  352  357  352   66603000.0   114%\n",
       "2  08.04.2021  352  345  354  345   88254000.0   159%\n",
       "3  07.04.2021  346  343  349  343   50833000.0   087%\n",
       "4  06.04.2021  343  344  349  343   80946000.0   059%"
      ]
     },
     "execution_count": 5,
     "metadata": {},
     "output_type": "execute_result"
    }
   ],
   "source": [
    "data.head()"
   ]
  },
  {
   "cell_type": "code",
   "execution_count": 6,
   "id": "c66708a0",
   "metadata": {},
   "outputs": [
    {
     "name": "stderr",
     "output_type": "stream",
     "text": [
      "/tmp/ipykernel_188618/1970450116.py:2: UserWarning: Parsing dates in DD/MM/YYYY format when dayfirst=False (the default) was specified. This may lead to inconsistently parsed dates! Specify a format to ensure consistent parsing.\n",
      "  data[\"Date\"] = data[\"Date\"].astype('datetime64[ns]')\n"
     ]
    }
   ],
   "source": [
    "# changing the date format\n",
    "data[\"Date\"] = data[\"Date\"].astype('datetime64[ns]')\n"
   ]
  },
  {
   "cell_type": "code",
   "execution_count": 7,
   "id": "327abf3c",
   "metadata": {},
   "outputs": [],
   "source": [
    "# df['day'] = pd.to_datetime(df['day'])\n",
    "data['Date'] = data['Date'].dt.strftime('%d.%m.%Y')"
   ]
  },
  {
   "cell_type": "code",
   "execution_count": 23,
   "id": "f2786149",
   "metadata": {},
   "outputs": [
    {
     "data": {
      "text/html": [
       "<div>\n",
       "<style scoped>\n",
       "    .dataframe tbody tr th:only-of-type {\n",
       "        vertical-align: middle;\n",
       "    }\n",
       "\n",
       "    .dataframe tbody tr th {\n",
       "        vertical-align: top;\n",
       "    }\n",
       "\n",
       "    .dataframe thead th {\n",
       "        text-align: right;\n",
       "    }\n",
       "</style>\n",
       "<table border=\"1\" class=\"dataframe\">\n",
       "  <thead>\n",
       "    <tr style=\"text-align: right;\">\n",
       "      <th></th>\n",
       "      <th>Data</th>\n",
       "      <th>Último</th>\n",
       "      <th>Abertura</th>\n",
       "      <th>Alta</th>\n",
       "      <th>Baixa</th>\n",
       "      <th>Vol.</th>\n",
       "      <th>Var. %</th>\n",
       "    </tr>\n",
       "  </thead>\n",
       "  <tbody>\n",
       "    <tr>\n",
       "      <th>0</th>\n",
       "      <td>12.04.2021</td>\n",
       "      <td>3,50</td>\n",
       "      <td>3,57</td>\n",
       "      <td>3,64</td>\n",
       "      <td>3,46</td>\n",
       "      <td>1,57M</td>\n",
       "      <td>-1.55</td>\n",
       "    </tr>\n",
       "    <tr>\n",
       "      <th>1</th>\n",
       "      <td>09.04.2021</td>\n",
       "      <td>3,56</td>\n",
       "      <td>3,52</td>\n",
       "      <td>3,57</td>\n",
       "      <td>3,52</td>\n",
       "      <td>666,03K</td>\n",
       "      <td>1.14</td>\n",
       "    </tr>\n",
       "    <tr>\n",
       "      <th>2</th>\n",
       "      <td>08.04.2021</td>\n",
       "      <td>3,52</td>\n",
       "      <td>3,45</td>\n",
       "      <td>3,54</td>\n",
       "      <td>3,45</td>\n",
       "      <td>882,54K</td>\n",
       "      <td>1.59</td>\n",
       "    </tr>\n",
       "    <tr>\n",
       "      <th>3</th>\n",
       "      <td>07.04.2021</td>\n",
       "      <td>3,46</td>\n",
       "      <td>3,43</td>\n",
       "      <td>3,49</td>\n",
       "      <td>3,43</td>\n",
       "      <td>508,33K</td>\n",
       "      <td>0.87</td>\n",
       "    </tr>\n",
       "    <tr>\n",
       "      <th>4</th>\n",
       "      <td>06.04.2021</td>\n",
       "      <td>3,43</td>\n",
       "      <td>3,44</td>\n",
       "      <td>3,49</td>\n",
       "      <td>3,43</td>\n",
       "      <td>809,46K</td>\n",
       "      <td>0.59</td>\n",
       "    </tr>\n",
       "  </tbody>\n",
       "</table>\n",
       "</div>"
      ],
      "text/plain": [
       "         Data Último Abertura  Alta Baixa     Vol. Var. %\n",
       "0  12.04.2021   3,50     3,57  3,64  3,46    1,57M  -1.55\n",
       "1  09.04.2021   3,56     3,52  3,57  3,52  666,03K   1.14\n",
       "2  08.04.2021   3,52     3,45  3,54  3,45  882,54K   1.59\n",
       "3  07.04.2021   3,46     3,43  3,49  3,43  508,33K   0.87\n",
       "4  06.04.2021   3,43     3,44  3,49  3,43  809,46K   0.59"
      ]
     },
     "execution_count": 23,
     "metadata": {},
     "output_type": "execute_result"
    }
   ],
   "source": [
    "    # adding a column that contains negative or positive\n",
    "data['Var. %'] = data['Var. %'].str.replace('%','')\n",
    "data['Var. %'] = data['Var. %'].str.replace(',','.')\n",
    "\n",
    "\n",
    "data.head()"
   ]
  },
  {
   "cell_type": "code",
   "execution_count": 25,
   "id": "65dbcb0b",
   "metadata": {},
   "outputs": [],
   "source": [
    "data['Var. %'] = data['Var. %'].astype('float')"
   ]
  },
  {
   "cell_type": "code",
   "execution_count": 26,
   "id": "fe3b2a57",
   "metadata": {},
   "outputs": [
    {
     "name": "stdout",
     "output_type": "stream",
     "text": [
      "<class 'pandas.core.frame.DataFrame'>\n",
      "RangeIndex: 1875 entries, 0 to 1874\n",
      "Data columns (total 7 columns):\n",
      " #   Column    Non-Null Count  Dtype  \n",
      "---  ------    --------------  -----  \n",
      " 0   Data      1875 non-null   object \n",
      " 1   Último    1875 non-null   object \n",
      " 2   Abertura  1875 non-null   object \n",
      " 3   Alta      1875 non-null   object \n",
      " 4   Baixa     1875 non-null   object \n",
      " 5   Vol.      1875 non-null   object \n",
      " 6   Var. %    1875 non-null   float64\n",
      "dtypes: float64(1), object(6)\n",
      "memory usage: 102.7+ KB\n"
     ]
    }
   ],
   "source": [
    "data['Var. %']"
   ]
  },
  {
   "cell_type": "code",
   "execution_count": null,
   "id": "62e2f1fe",
   "metadata": {},
   "outputs": [],
   "source": []
  },
  {
   "cell_type": "markdown",
   "id": "78fa9394",
   "metadata": {},
   "source": [
    "<p><b>Question-2</b><hr>What was the date with the highest volatility (difference between min and max)</p>"
   ]
  },
  {
   "cell_type": "code",
   "execution_count": 8,
   "id": "f6f8ad84",
   "metadata": {},
   "outputs": [],
   "source": [
    "\n",
    "# Calculating the daily returns of from the stock market\n",
    "data['Last'] = data['Last'].astype(float)\n",
    "data['daily_returns']=(data['Last'].pct_change())*100"
   ]
  },
  {
   "cell_type": "code",
   "execution_count": 9,
   "id": "ee0ac677",
   "metadata": {},
   "outputs": [
    {
     "data": {
      "image/png": "[encoded data removed]",
      "text/plain": [
       "<Figure size 864x432 with 1 Axes>"
      ]
     },
     "metadata": {
      "needs_background": "light"
     },
     "output_type": "display_data"
    }
   ],
   "source": [
    "# plotting the daily return which was achieved above\n",
    "import matplotlib.pyplot as plt\n",
    "data.dropna(inplace=True)\n",
    "fig,ax=plt.subplots(figsize=(12,6))\n",
    "plt.plot(data['daily_returns'], label = 'Daily Returns')\n",
    "\n",
    "plt.title('Stock Daily Returns Over Time')\n",
    "plt.show()\n"
   ]
  },
  {
   "cell_type": "code",
   "execution_count": 10,
   "id": "7870f77c",
   "metadata": {},
   "outputs": [],
   "source": [
    "# Now, we will vaculate the volitality of data per day "
   ]
  },
  {
   "cell_type": "code",
   "execution_count": 11,
   "id": "6202e212",
   "metadata": {},
   "outputs": [
    {
     "name": "stdout",
     "output_type": "stream",
     "text": [
      "Daily volatility:\n",
      "2.044928330879462\n"
     ]
    }
   ],
   "source": [
    "import math\n",
    "daily_volatility_pfe = data['daily_returns'].std()\n",
    "print('Daily volatility:')\n",
    "print((daily_volatility_pfe))"
   ]
  },
  {
   "cell_type": "code",
   "execution_count": 12,
   "id": "16b412fa",
   "metadata": {},
   "outputs": [
    {
     "data": {
      "text/html": [
       "<div>\n",
       "<style scoped>\n",
       "    .dataframe tbody tr th:only-of-type {\n",
       "        vertical-align: middle;\n",
       "    }\n",
       "\n",
       "    .dataframe tbody tr th {\n",
       "        vertical-align: top;\n",
       "    }\n",
       "\n",
       "    .dataframe thead th {\n",
       "        text-align: right;\n",
       "    }\n",
       "</style>\n",
       "<table border=\"1\" class=\"dataframe\">\n",
       "  <thead>\n",
       "    <tr style=\"text-align: right;\">\n",
       "      <th></th>\n",
       "      <th>Date</th>\n",
       "      <th>Last</th>\n",
       "      <th>Open</th>\n",
       "      <th>High</th>\n",
       "      <th>Low</th>\n",
       "      <th>Vol.</th>\n",
       "      <th>Var. %</th>\n",
       "      <th>daily_returns</th>\n",
       "    </tr>\n",
       "  </thead>\n",
       "  <tbody>\n",
       "    <tr>\n",
       "      <th>1</th>\n",
       "      <td>04.09.2021</td>\n",
       "      <td>356.0</td>\n",
       "      <td>352</td>\n",
       "      <td>357</td>\n",
       "      <td>352</td>\n",
       "      <td>66603000.0</td>\n",
       "      <td>114%</td>\n",
       "      <td>1.714286</td>\n",
       "    </tr>\n",
       "    <tr>\n",
       "      <th>2</th>\n",
       "      <td>04.08.2021</td>\n",
       "      <td>352.0</td>\n",
       "      <td>345</td>\n",
       "      <td>354</td>\n",
       "      <td>345</td>\n",
       "      <td>88254000.0</td>\n",
       "      <td>159%</td>\n",
       "      <td>-1.123596</td>\n",
       "    </tr>\n",
       "    <tr>\n",
       "      <th>3</th>\n",
       "      <td>04.07.2021</td>\n",
       "      <td>346.0</td>\n",
       "      <td>343</td>\n",
       "      <td>349</td>\n",
       "      <td>343</td>\n",
       "      <td>50833000.0</td>\n",
       "      <td>087%</td>\n",
       "      <td>-1.704545</td>\n",
       "    </tr>\n",
       "    <tr>\n",
       "      <th>4</th>\n",
       "      <td>04.06.2021</td>\n",
       "      <td>343.0</td>\n",
       "      <td>344</td>\n",
       "      <td>349</td>\n",
       "      <td>343</td>\n",
       "      <td>80946000.0</td>\n",
       "      <td>059%</td>\n",
       "      <td>-0.867052</td>\n",
       "    </tr>\n",
       "    <tr>\n",
       "      <th>5</th>\n",
       "      <td>04.01.2021</td>\n",
       "      <td>341.0</td>\n",
       "      <td>336</td>\n",
       "      <td>342</td>\n",
       "      <td>336</td>\n",
       "      <td>41671000.0</td>\n",
       "      <td>119%</td>\n",
       "      <td>-0.583090</td>\n",
       "    </tr>\n",
       "  </tbody>\n",
       "</table>\n",
       "</div>"
      ],
      "text/plain": [
       "         Date   Last Open High  Low        Vol. Var. %  daily_returns\n",
       "1  04.09.2021  356.0  352  357  352  66603000.0   114%       1.714286\n",
       "2  04.08.2021  352.0  345  354  345  88254000.0   159%      -1.123596\n",
       "3  04.07.2021  346.0  343  349  343  50833000.0   087%      -1.704545\n",
       "4  04.06.2021  343.0  344  349  343  80946000.0   059%      -0.867052\n",
       "5  04.01.2021  341.0  336  342  336  41671000.0   119%      -0.583090"
      ]
     },
     "execution_count": 12,
     "metadata": {},
     "output_type": "execute_result"
    }
   ],
   "source": [
    "data.head()"
   ]
  },
  {
   "cell_type": "code",
   "execution_count": 13,
   "id": "1678ab26",
   "metadata": {},
   "outputs": [
    {
     "data": {
      "text/html": [
       "<div>\n",
       "<style scoped>\n",
       "    .dataframe tbody tr th:only-of-type {\n",
       "        vertical-align: middle;\n",
       "    }\n",
       "\n",
       "    .dataframe tbody tr th {\n",
       "        vertical-align: top;\n",
       "    }\n",
       "\n",
       "    .dataframe thead th {\n",
       "        text-align: right;\n",
       "    }\n",
       "</style>\n",
       "<table border=\"1\" class=\"dataframe\">\n",
       "  <thead>\n",
       "    <tr style=\"text-align: right;\">\n",
       "      <th></th>\n",
       "      <th>Date</th>\n",
       "      <th>Last</th>\n",
       "      <th>Open</th>\n",
       "      <th>High</th>\n",
       "      <th>Low</th>\n",
       "      <th>Vol.</th>\n",
       "      <th>Var. %</th>\n",
       "      <th>daily_returns</th>\n",
       "    </tr>\n",
       "  </thead>\n",
       "  <tbody>\n",
       "    <tr>\n",
       "      <th>877</th>\n",
       "      <td>31.10.2017</td>\n",
       "      <td>506.0</td>\n",
       "      <td>509</td>\n",
       "      <td>510</td>\n",
       "      <td>503</td>\n",
       "      <td>46658000.0</td>\n",
       "      <td>-020%</td>\n",
       "      <td>27.777778</td>\n",
       "    </tr>\n",
       "  </tbody>\n",
       "</table>\n",
       "</div>"
      ],
      "text/plain": [
       "           Date   Last Open High  Low        Vol. Var. %  daily_returns\n",
       "877  31.10.2017  506.0  509  510  503  46658000.0  -020%      27.777778"
      ]
     },
     "execution_count": 13,
     "metadata": {},
     "output_type": "execute_result"
    }
   ],
   "source": [
    "# only year of best volume\n",
    "data.nlargest(1, ['daily_returns'])"
   ]
  },
  {
   "cell_type": "code",
   "execution_count": 14,
   "id": "8b1c15a7",
   "metadata": {},
   "outputs": [
    {
     "data": {
      "text/plain": [
       "877    31.10.2017\n",
       "Name: Date, dtype: object"
      ]
     },
     "execution_count": 14,
     "metadata": {},
     "output_type": "execute_result"
    }
   ],
   "source": [
    "data.nlargest(1, ['daily_returns']).Date"
   ]
  },
  {
   "cell_type": "code",
   "execution_count": null,
   "id": "681ab5c2",
   "metadata": {},
   "outputs": [],
   "source": []
  },
  {
   "cell_type": "markdown",
   "id": "c0e96f49",
   "metadata": {},
   "source": [
    "<p><b>Question-3</b><hr>What was the best month (30 days) during the 10 years to win with this title This means if I had to\n",
    "keep my stock only 30 days when was the best 30 days?</p>"
   ]
  },
  {
   "cell_type": "code",
   "execution_count": null,
   "id": "227baec2",
   "metadata": {},
   "outputs": [],
   "source": []
  },
  {
   "cell_type": "code",
   "execution_count": null,
   "id": "2017b70d",
   "metadata": {},
   "outputs": [],
   "source": []
  },
  {
   "cell_type": "code",
   "execution_count": null,
   "id": "bcbd45ea",
   "metadata": {},
   "outputs": [],
   "source": []
  }
 ],
 "metadata": {
  "kernelspec": {
   "display_name": "Python 3 (ipykernel)",
   "language": "python",
   "name": "python3"
  },
  "language_info": {
   "codemirror_mode": {
    "name": "ipython",
    "version": 3
   },
   "file_extension": ".py",
   "mimetype": "text/x-python",
   "name": "python",
   "nbconvert_exporter": "python",
   "pygments_lexer": "ipython3",
   "version": "3.10.6"
  }
 },
 "nbformat": 4,
 "nbformat_minor": 5
}
