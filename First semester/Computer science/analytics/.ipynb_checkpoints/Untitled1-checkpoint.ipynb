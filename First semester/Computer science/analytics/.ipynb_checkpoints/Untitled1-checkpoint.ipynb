{
 "cells": [
  {
   "cell_type": "code",
   "execution_count": 3,
   "id": "1f707795",
   "metadata": {},
   "outputs": [
    {
     "data": {
      "text/html": [
       "<div>\n",
       "<style scoped>\n",
       "    .dataframe tbody tr th:only-of-type {\n",
       "        vertical-align: middle;\n",
       "    }\n",
       "\n",
       "    .dataframe tbody tr th {\n",
       "        vertical-align: top;\n",
       "    }\n",
       "\n",
       "    .dataframe thead th {\n",
       "        text-align: right;\n",
       "    }\n",
       "</style>\n",
       "<table border=\"1\" class=\"dataframe\">\n",
       "  <thead>\n",
       "    <tr style=\"text-align: right;\">\n",
       "      <th></th>\n",
       "      <th>Country</th>\n",
       "      <th>State</th>\n",
       "      <th>Time_Period</th>\n",
       "      <th>Outcome</th>\n",
       "      <th>Date</th>\n",
       "    </tr>\n",
       "  </thead>\n",
       "  <tbody>\n",
       "    <tr>\n",
       "      <th>0</th>\n",
       "      <td>US</td>\n",
       "      <td>PA</td>\n",
       "      <td>10h00-11h00</td>\n",
       "      <td>Failure</td>\n",
       "      <td>2021-04-01</td>\n",
       "    </tr>\n",
       "    <tr>\n",
       "      <th>1</th>\n",
       "      <td>US</td>\n",
       "      <td>MS</td>\n",
       "      <td>9h00-10h00</td>\n",
       "      <td>Success</td>\n",
       "      <td>2021-04-01</td>\n",
       "    </tr>\n",
       "    <tr>\n",
       "      <th>2</th>\n",
       "      <td>US</td>\n",
       "      <td>TX</td>\n",
       "      <td>9h00-10h00</td>\n",
       "      <td>Success</td>\n",
       "      <td>2021-04-01</td>\n",
       "    </tr>\n",
       "    <tr>\n",
       "      <th>3</th>\n",
       "      <td>US</td>\n",
       "      <td>NJ</td>\n",
       "      <td>10h00-11h00</td>\n",
       "      <td>Success</td>\n",
       "      <td>2021-04-01</td>\n",
       "    </tr>\n",
       "    <tr>\n",
       "      <th>4</th>\n",
       "      <td>US</td>\n",
       "      <td>NM</td>\n",
       "      <td>9h00-10h00</td>\n",
       "      <td>Success</td>\n",
       "      <td>2021-04-01</td>\n",
       "    </tr>\n",
       "  </tbody>\n",
       "</table>\n",
       "</div>"
      ],
      "text/plain": [
       "  Country State  Time_Period  Outcome       Date\n",
       "0      US    PA  10h00-11h00  Failure 2021-04-01\n",
       "1      US    MS   9h00-10h00  Success 2021-04-01\n",
       "2      US    TX   9h00-10h00  Success 2021-04-01\n",
       "3      US    NJ  10h00-11h00  Success 2021-04-01\n",
       "4      US    NM   9h00-10h00  Success 2021-04-01"
      ]
     },
     "execution_count": 3,
     "metadata": {},
     "output_type": "execute_result"
    }
   ],
   "source": [
    "#subset of the dashfired safety project\n",
    "import pandas as pd\n",
    "import datetime as dt\n",
    "from datetime import timedelta\n",
    "import matplotlib.pyplot as plt\n",
    "\n",
    "\n",
    "\n",
    "df=pd.read_excel('dashboard.xlsx')\n",
    "df.head()"
   ]
  },
  {
   "cell_type": "code",
   "execution_count": 2,
   "id": "b165ecc9",
   "metadata": {},
   "outputs": [],
   "source": [
    "totac=df.groupby('Date')['Outcome'].count()\n",
    "totsuc=df[df['Outcome']=='Success'].groupby('Date')['Outcome'].count()\n",
    "totnsuc=df[df['Outcome']=='Failure'].groupby('Date')['Outcome'].count()\n"
   ]
  },
  {
   "cell_type": "code",
   "execution_count": 11,
   "id": "6231ff3a",
   "metadata": {},
   "outputs": [],
   "source": [
    "totac1=df.groupby('State')['Outcome'].count()\n",
    "totsuc1=df[df['Outcome']=='Success'].groupby('State')['Outcome'].count()\n",
    "totnsuc1=df[df['Outcome']=='Failure'].groupby('State')['Outcome'].count()\n"
   ]
  },
  {
   "cell_type": "code",
   "execution_count": 14,
   "id": "0d86c107",
   "metadata": {},
   "outputs": [],
   "source": [
    "def success(outcome):\n",
    "    if outcome == \"Success\":\n",
    "        return 1\n",
    "    else:\n",
    "        return 0\n",
    "df[\"Success\"] = df.Outcome.apply(success)\n",
    "success_time = df[df[\"Success\"] == 1].groupby(\"Time_Period\")[\"Success\"].count().sort_index()\n"
   ]
  },
  {
   "cell_type": "code",
   "execution_count": 15,
   "id": "8eaf5a79",
   "metadata": {},
   "outputs": [
    {
     "data": {
      "text/plain": [
       "Time_Period\n",
       "10h00-11h00    11\n",
       "11h00-12h00    20\n",
       "12h00-13h00    11\n",
       "13h00-14h00    10\n",
       "14h00-15h00    18\n",
       "Name: Success, dtype: int64"
      ]
     },
     "execution_count": 15,
     "metadata": {},
     "output_type": "execute_result"
    }
   ],
   "source": [
    "success_time.head()"
   ]
  },
  {
   "cell_type": "code",
   "execution_count": 17,
   "id": "ab7b58eb",
   "metadata": {},
   "outputs": [],
   "source": [
    "sucess_in_state = df.groupby(\"State\")[\"Success\"].count()\n"
   ]
  },
  {
   "cell_type": "markdown",
   "id": "b189c69b",
   "metadata": {},
   "source": [
    "num"
   ]
  },
  {
   "cell_type": "code",
   "execution_count": 20,
   "id": "a698ecdb",
   "metadata": {},
   "outputs": [
    {
     "data": {
      "text/plain": [
       "State\n",
       "AL                4\n",
       "AR                2\n",
       "AZ                1\n",
       "CA               34\n",
       "CO                5\n",
       "CT                2\n",
       "FL               33\n",
       "Free              1\n",
       "GA               18\n",
       "IA                1\n",
       "IL               21\n",
       "IN                8\n",
       "International     1\n",
       "KS                3\n",
       "KY                1\n",
       "LA                4\n",
       "MA                9\n",
       "MD                6\n",
       "ME                6\n",
       "MI               10\n",
       "MN                4\n",
       "MO                3\n",
       "MS                1\n",
       "MT                1\n",
       "NC               13\n",
       "NH                1\n",
       "NJ               25\n",
       "NM                2\n",
       "NV                8\n",
       "NY               36\n",
       "National          1\n",
       "OH               19\n",
       "OR                1\n",
       "PA               22\n",
       "SC                1\n",
       "TN                8\n",
       "TX               22\n",
       "UT                1\n",
       "VA                3\n",
       "WA                5\n",
       "WI                4\n",
       "WV                1\n",
       "unkown           14\n",
       "Name: Success, dtype: int64"
      ]
     },
     "execution_count": 20,
     "metadata": {},
     "output_type": "execute_result"
    }
   ],
   "source": [
    "num"
   ]
  },
  {
   "cell_type": "code",
   "execution_count": null,
   "id": "e3bab2ac",
   "metadata": {},
   "outputs": [],
   "source": []
  }
 ],
 "metadata": {
  "kernelspec": {
   "display_name": "Python 3 (ipykernel)",
   "language": "python",
   "name": "python3"
  },
  "language_info": {
   "codemirror_mode": {
    "name": "ipython",
    "version": 3
   },
   "file_extension": ".py",
   "mimetype": "text/x-python",
   "name": "python",
   "nbconvert_exporter": "python",
   "pygments_lexer": "ipython3",
   "version": "3.10.6"
  }
 },
 "nbformat": 4,
 "nbformat_minor": 5
}
