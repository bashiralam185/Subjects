{
 "cells": [
  {
   "cell_type": "code",
   "execution_count": 21,
   "id": "7915b712",
   "metadata": {},
   "outputs": [
    {
     "data": {
      "text/html": [
       "<div>\n",
       "<style scoped>\n",
       "    .dataframe tbody tr th:only-of-type {\n",
       "        vertical-align: middle;\n",
       "    }\n",
       "\n",
       "    .dataframe tbody tr th {\n",
       "        vertical-align: top;\n",
       "    }\n",
       "\n",
       "    .dataframe thead th {\n",
       "        text-align: right;\n",
       "    }\n",
       "</style>\n",
       "<table border=\"1\" class=\"dataframe\">\n",
       "  <thead>\n",
       "    <tr style=\"text-align: right;\">\n",
       "      <th></th>\n",
       "      <th>Country</th>\n",
       "      <th>State</th>\n",
       "      <th>Time_Period</th>\n",
       "      <th>Outcome</th>\n",
       "      <th>Date</th>\n",
       "    </tr>\n",
       "  </thead>\n",
       "  <tbody>\n",
       "    <tr>\n",
       "      <th>0</th>\n",
       "      <td>US</td>\n",
       "      <td>PA</td>\n",
       "      <td>10h00-11h00</td>\n",
       "      <td>Failure</td>\n",
       "      <td>2021-04-01</td>\n",
       "    </tr>\n",
       "    <tr>\n",
       "      <th>1</th>\n",
       "      <td>US</td>\n",
       "      <td>MS</td>\n",
       "      <td>9h00-10h00</td>\n",
       "      <td>Success</td>\n",
       "      <td>2021-04-01</td>\n",
       "    </tr>\n",
       "    <tr>\n",
       "      <th>2</th>\n",
       "      <td>US</td>\n",
       "      <td>TX</td>\n",
       "      <td>9h00-10h00</td>\n",
       "      <td>Success</td>\n",
       "      <td>2021-04-01</td>\n",
       "    </tr>\n",
       "    <tr>\n",
       "      <th>3</th>\n",
       "      <td>US</td>\n",
       "      <td>NJ</td>\n",
       "      <td>10h00-11h00</td>\n",
       "      <td>Success</td>\n",
       "      <td>2021-04-01</td>\n",
       "    </tr>\n",
       "    <tr>\n",
       "      <th>4</th>\n",
       "      <td>US</td>\n",
       "      <td>NM</td>\n",
       "      <td>9h00-10h00</td>\n",
       "      <td>Success</td>\n",
       "      <td>2021-04-01</td>\n",
       "    </tr>\n",
       "  </tbody>\n",
       "</table>\n",
       "</div>"
      ],
      "text/plain": [
       "  Country State  Time_Period  Outcome       Date\n",
       "0      US    PA  10h00-11h00  Failure 2021-04-01\n",
       "1      US    MS   9h00-10h00  Success 2021-04-01\n",
       "2      US    TX   9h00-10h00  Success 2021-04-01\n",
       "3      US    NJ  10h00-11h00  Success 2021-04-01\n",
       "4      US    NM   9h00-10h00  Success 2021-04-01"
      ]
     },
     "execution_count": 21,
     "metadata": {},
     "output_type": "execute_result"
    }
   ],
   "source": [
    "#subset of the dashfired safety project\n",
    "import pandas as pd\n",
    "import datetime as dt\n",
    "from datetime import timedelta\n",
    "import matplotlib.pyplot as plt\n",
    "\n",
    "\n",
    "\n",
    "df=pd.read_excel('dashboard.xlsx')\n",
    "df.head()"
   ]
  },
  {
   "cell_type": "code",
   "execution_count": 2,
   "id": "95b7a43a",
   "metadata": {},
   "outputs": [],
   "source": [
    "totac=df.groupby('Date')['Outcome'].count()\n",
    "totsuc=df[df['Outcome']=='Success'].groupby('Date')['Outcome'].count()\n",
    "totnsuc=df[df['Outcome']=='Failure'].groupby('Date')['Outcome'].count()\n"
   ]
  },
  {
   "cell_type": "code",
   "execution_count": 11,
   "id": "7eed35d9",
   "metadata": {},
   "outputs": [],
   "source": [
    "totac1=df.groupby('State')['Outcome'].count()\n",
    "totsuc1=df[df['Outcome']=='Success'].groupby('State')['Outcome'].count()\n",
    "totnsuc1=df[df['Outcome']=='Failure'].groupby('State')['Outcome'].count()\n"
   ]
  },
  {
   "cell_type": "code",
   "execution_count": 14,
   "id": "46b19d07",
   "metadata": {},
   "outputs": [],
   "source": [
    "def success(outcome):\n",
    "    if outcome == \"Success\":\n",
    "        return 1\n",
    "    else:\n",
    "        return 0\n",
    "df[\"Success\"] = df.Outcome.apply(success)\n",
    "success_time = df[df[\"Success\"] == 1].groupby(\"Time_Period\")[\"Success\"].count().sort_index()\n"
   ]
  },
  {
   "cell_type": "code",
   "execution_count": 15,
   "id": "223693ad",
   "metadata": {},
   "outputs": [
    {
     "data": {
      "text/plain": [
       "Time_Period\n",
       "10h00-11h00    11\n",
       "11h00-12h00    20\n",
       "12h00-13h00    11\n",
       "13h00-14h00    10\n",
       "14h00-15h00    18\n",
       "Name: Success, dtype: int64"
      ]
     },
     "execution_count": 15,
     "metadata": {},
     "output_type": "execute_result"
    }
   ],
   "source": [
    "success_time.head()"
   ]
  },
  {
   "cell_type": "code",
   "execution_count": 26,
   "id": "dbdfcdd5",
   "metadata": {},
   "outputs": [],
   "source": [
    "def success(outcome):\n",
    "    if outcome == \"Success\":\n",
    "        return 1\n",
    "    else:\n",
    "        return 0\n",
    "def failure(outcome):\n",
    "    if outcome == \"Failure\":\n",
    "        return 1\n",
    "    else:\n",
    "        return 0\n",
    "\n",
    "df[\"Success\"] = df.Outcome.apply(success)\n",
    "df[\"Failure\"] = df.Outcome.apply(failure)\n",
    "\n",
    "\n",
    "sucess_in_state = df.groupby(\"State\")[\"Success\"].sum()\n",
    "failure_in_state = df.groupby(\"State\")[\"Failure\"].sum()"
   ]
  },
  {
   "cell_type": "markdown",
   "id": "7a55ff81",
   "metadata": {},
   "source": [
    "num"
   ]
  },
  {
   "cell_type": "code",
   "execution_count": 27,
   "id": "6b152259",
   "metadata": {},
   "outputs": [
    {
     "data": {
      "text/plain": [
       "State\n",
       "AL                4\n",
       "AR                1\n",
       "AZ                1\n",
       "CA               22\n",
       "CO                1\n",
       "CT                2\n",
       "FL               24\n",
       "Free              1\n",
       "GA               11\n",
       "IA                0\n",
       "IL               14\n",
       "IN                7\n",
       "International     1\n",
       "KS                3\n",
       "KY                1\n",
       "LA                3\n",
       "MA                7\n",
       "MD                5\n",
       "ME                4\n",
       "MI                6\n",
       "MN                3\n",
       "MO                2\n",
       "MS                0\n",
       "MT                1\n",
       "NC                7\n",
       "NH                1\n",
       "NJ               14\n",
       "NM                0\n",
       "NV                5\n",
       "NY               19\n",
       "National          0\n",
       "OH               11\n",
       "OR                1\n",
       "PA               13\n",
       "SC                0\n",
       "TN                6\n",
       "TX                8\n",
       "UT                1\n",
       "VA                0\n",
       "WA                4\n",
       "WI                3\n",
       "WV                1\n",
       "unkown           10\n",
       "Name: Failure, dtype: int64"
      ]
     },
     "execution_count": 27,
     "metadata": {},
     "output_type": "execute_result"
    }
   ],
   "source": [
    "failure_in_state"
   ]
  },
  {
   "cell_type": "code",
   "execution_count": 30,
   "id": "e603fded",
   "metadata": {},
   "outputs": [
    {
     "name": "stdout",
     "output_type": "stream",
     "text": [
      "     State  Outcome_x  Outcome_y\n",
      "0       AR          2          1\n",
      "1       CA         34         10\n",
      "2       CO          5          4\n",
      "3       FL         33          6\n",
      "4       GA         18          5\n",
      "5       IA          1          1\n",
      "6       IL         21          5\n",
      "7       IN          8          1\n",
      "8       LA          4          1\n",
      "9       MA          9          2\n",
      "10      ME          6          2\n",
      "11      MI         10          4\n",
      "12      MN          4          1\n",
      "13      MO          3          1\n",
      "14      MS          1          1\n",
      "15      NC         13          3\n",
      "16      NJ         25          9\n",
      "17      NM          2          2\n",
      "18      NV          8          3\n",
      "19      NY         36         14\n",
      "20      OH         19          6\n",
      "21      PA         22          8\n",
      "22      SC          1          1\n",
      "23      TN          8          1\n",
      "24      TX         22         11\n",
      "25      VA          3          2\n",
      "26      WA          5          1\n",
      "27  unkown         14          3\n",
      "\n",
      "     State  Outcome_x  Outcome_y     ratio\n",
      "0       AR          2          1  0.500000\n",
      "1       CA         34         10  0.294118\n",
      "2       CO          5          4  0.800000\n",
      "3       FL         33          6  0.181818\n",
      "4       GA         18          5  0.277778\n",
      "5       IA          1          1  1.000000\n",
      "6       IL         21          5  0.238095\n",
      "7       IN          8          1  0.125000\n",
      "8       LA          4          1  0.250000\n",
      "9       MA          9          2  0.222222\n",
      "10      ME          6          2  0.333333\n",
      "11      MI         10          4  0.400000\n",
      "12      MN          4          1  0.250000\n",
      "13      MO          3          1  0.333333\n",
      "14      MS          1          1  1.000000\n",
      "15      NC         13          3  0.230769\n",
      "16      NJ         25          9  0.360000\n",
      "17      NM          2          2  1.000000\n",
      "18      NV          8          3  0.375000\n",
      "19      NY         36         14  0.388889\n",
      "20      OH         19          6  0.315789\n",
      "21      PA         22          8  0.363636\n",
      "22      SC          1          1  1.000000\n",
      "23      TN          8          1  0.125000\n",
      "24      TX         22         11  0.500000\n",
      "25      VA          3          2  0.666667\n",
      "26      WA          5          1  0.200000\n",
      "27  unkown         14          3  0.214286\n",
      "\n",
      "best ratio is  1.0\n",
      "best state is State         IA\n",
      "Outcome_x      1\n",
      "Outcome_y      1\n",
      "ratio        1.0\n",
      "Name: 5, dtype: object\n"
     ]
    }
   ],
   "source": [
    "totac=df.groupby('State')['Outcome'].count().reset_index()  \n",
    "totsuc=df[df['Outcome']=='Success'].groupby('State')['Outcome'].count().reset_index()\n",
    "totnsuc=df[df['Outcome']=='Failure'].groupby('State')['Outcome'].count().reset_index()\n",
    "\n",
    "dfm = pd.merge(totac, totsuc, on='State').fillna(0)\n",
    "print(dfm)\n",
    "input()\n",
    "dfm['ratio']=dfm['Outcome_y']/dfm['Outcome_x']\n",
    "print(dfm)\n",
    "input()\n",
    "best=dfm['ratio'].max()\n",
    "print('best ratio is ',best)\n",
    "best=dfm.loc[dfm['ratio'].idxmax()]\n",
    "print('best state is',best)"
   ]
  },
  {
   "cell_type": "code",
   "execution_count": null,
   "id": "4756d5ae",
   "metadata": {},
   "outputs": [],
   "source": []
  }
 ],
 "metadata": {
  "kernelspec": {
   "display_name": "Python 3 (ipykernel)",
   "language": "python",
   "name": "python3"
  },
  "language_info": {
   "codemirror_mode": {
    "name": "ipython",
    "version": 3
   },
   "file_extension": ".py",
   "mimetype": "text/x-python",
   "name": "python",
   "nbconvert_exporter": "python",
   "pygments_lexer": "ipython3",
   "version": "3.10.6"
  }
 },
 "nbformat": 4,
 "nbformat_minor": 5
}
