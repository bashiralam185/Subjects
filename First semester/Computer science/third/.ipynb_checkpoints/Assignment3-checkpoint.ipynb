{
 "cells": [
  {
   "cell_type": "markdown",
   "id": "fb01de3d",
   "metadata": {},
   "source": [
    "#### Bashir Alam\n",
    "#### Third assignment"
   ]
  },
  {
   "cell_type": "markdown",
   "id": "f42f968e",
   "metadata": {},
   "source": [
    "<p> <b>Question-1</b><hr>Read the avocado file in csv format to a dataframe.</p>"
   ]
  },
  {
   "cell_type": "code",
   "execution_count": 38,
   "id": "82428fa1",
   "metadata": {},
   "outputs": [
    {
     "data": {
      "text/html": [
       "<div>\n",
       "<style scoped>\n",
       "    .dataframe tbody tr th:only-of-type {\n",
       "        vertical-align: middle;\n",
       "    }\n",
       "\n",
       "    .dataframe tbody tr th {\n",
       "        vertical-align: top;\n",
       "    }\n",
       "\n",
       "    .dataframe thead th {\n",
       "        text-align: right;\n",
       "    }\n",
       "</style>\n",
       "<table border=\"1\" class=\"dataframe\">\n",
       "  <thead>\n",
       "    <tr style=\"text-align: right;\">\n",
       "      <th></th>\n",
       "      <th>Unnamed: 0</th>\n",
       "      <th>Date</th>\n",
       "      <th>AveragePrice</th>\n",
       "      <th>Total Volume</th>\n",
       "      <th>4046</th>\n",
       "      <th>4225</th>\n",
       "      <th>4770</th>\n",
       "      <th>Total Bags</th>\n",
       "      <th>Small Bags</th>\n",
       "      <th>Large Bags</th>\n",
       "      <th>XLarge Bags</th>\n",
       "      <th>type</th>\n",
       "      <th>year</th>\n",
       "      <th>region</th>\n",
       "    </tr>\n",
       "  </thead>\n",
       "  <tbody>\n",
       "    <tr>\n",
       "      <th>0</th>\n",
       "      <td>0</td>\n",
       "      <td>2015-12-27</td>\n",
       "      <td>1.33</td>\n",
       "      <td>64236.62</td>\n",
       "      <td>1036.74</td>\n",
       "      <td>54454.85</td>\n",
       "      <td>48.16</td>\n",
       "      <td>8696.87</td>\n",
       "      <td>8603.62</td>\n",
       "      <td>93.25</td>\n",
       "      <td>0.0</td>\n",
       "      <td>conventional</td>\n",
       "      <td>2015</td>\n",
       "      <td>Albany</td>\n",
       "    </tr>\n",
       "    <tr>\n",
       "      <th>1</th>\n",
       "      <td>1</td>\n",
       "      <td>2015-12-20</td>\n",
       "      <td>1.35</td>\n",
       "      <td>54876.98</td>\n",
       "      <td>674.28</td>\n",
       "      <td>44638.81</td>\n",
       "      <td>58.33</td>\n",
       "      <td>9505.56</td>\n",
       "      <td>9408.07</td>\n",
       "      <td>97.49</td>\n",
       "      <td>0.0</td>\n",
       "      <td>conventional</td>\n",
       "      <td>2015</td>\n",
       "      <td>Albany</td>\n",
       "    </tr>\n",
       "    <tr>\n",
       "      <th>2</th>\n",
       "      <td>2</td>\n",
       "      <td>2015-12-13</td>\n",
       "      <td>0.93</td>\n",
       "      <td>118220.22</td>\n",
       "      <td>794.70</td>\n",
       "      <td>109149.67</td>\n",
       "      <td>130.50</td>\n",
       "      <td>8145.35</td>\n",
       "      <td>8042.21</td>\n",
       "      <td>103.14</td>\n",
       "      <td>0.0</td>\n",
       "      <td>conventional</td>\n",
       "      <td>2015</td>\n",
       "      <td>Albany</td>\n",
       "    </tr>\n",
       "    <tr>\n",
       "      <th>3</th>\n",
       "      <td>3</td>\n",
       "      <td>2015-12-06</td>\n",
       "      <td>1.08</td>\n",
       "      <td>78992.15</td>\n",
       "      <td>1132.00</td>\n",
       "      <td>71976.41</td>\n",
       "      <td>72.58</td>\n",
       "      <td>5811.16</td>\n",
       "      <td>5677.40</td>\n",
       "      <td>133.76</td>\n",
       "      <td>0.0</td>\n",
       "      <td>conventional</td>\n",
       "      <td>2015</td>\n",
       "      <td>Albany</td>\n",
       "    </tr>\n",
       "    <tr>\n",
       "      <th>4</th>\n",
       "      <td>4</td>\n",
       "      <td>2015-11-29</td>\n",
       "      <td>1.28</td>\n",
       "      <td>51039.60</td>\n",
       "      <td>941.48</td>\n",
       "      <td>43838.39</td>\n",
       "      <td>75.78</td>\n",
       "      <td>6183.95</td>\n",
       "      <td>5986.26</td>\n",
       "      <td>197.69</td>\n",
       "      <td>0.0</td>\n",
       "      <td>conventional</td>\n",
       "      <td>2015</td>\n",
       "      <td>Albany</td>\n",
       "    </tr>\n",
       "  </tbody>\n",
       "</table>\n",
       "</div>"
      ],
      "text/plain": [
       "   Unnamed: 0        Date  AveragePrice  Total Volume     4046       4225  \\\n",
       "0           0  2015-12-27          1.33      64236.62  1036.74   54454.85   \n",
       "1           1  2015-12-20          1.35      54876.98   674.28   44638.81   \n",
       "2           2  2015-12-13          0.93     118220.22   794.70  109149.67   \n",
       "3           3  2015-12-06          1.08      78992.15  1132.00   71976.41   \n",
       "4           4  2015-11-29          1.28      51039.60   941.48   43838.39   \n",
       "\n",
       "     4770  Total Bags  Small Bags  Large Bags  XLarge Bags          type  \\\n",
       "0   48.16     8696.87     8603.62       93.25          0.0  conventional   \n",
       "1   58.33     9505.56     9408.07       97.49          0.0  conventional   \n",
       "2  130.50     8145.35     8042.21      103.14          0.0  conventional   \n",
       "3   72.58     5811.16     5677.40      133.76          0.0  conventional   \n",
       "4   75.78     6183.95     5986.26      197.69          0.0  conventional   \n",
       "\n",
       "   year  region  \n",
       "0  2015  Albany  \n",
       "1  2015  Albany  \n",
       "2  2015  Albany  \n",
       "3  2015  Albany  \n",
       "4  2015  Albany  "
      ]
     },
     "execution_count": 38,
     "metadata": {},
     "output_type": "execute_result"
    }
   ],
   "source": [
    "import pandas as pd\n",
    "data = pd.read_csv(\"avocado.csv\")\n",
    "\n",
    "data.head()"
   ]
  },
  {
   "cell_type": "code",
   "execution_count": null,
   "id": "3faf5841",
   "metadata": {},
   "outputs": [],
   "source": []
  },
  {
   "cell_type": "code",
   "execution_count": null,
   "id": "f96df8f9",
   "metadata": {},
   "outputs": [],
   "source": []
  },
  {
   "cell_type": "markdown",
   "id": "b935b94d",
   "metadata": {},
   "source": [
    "<p><b>Question-2</b><hr>display the column names</p>"
   ]
  },
  {
   "cell_type": "code",
   "execution_count": 39,
   "id": "0060f854",
   "metadata": {},
   "outputs": [
    {
     "data": {
      "text/html": [
       "<div>\n",
       "<style scoped>\n",
       "    .dataframe tbody tr th:only-of-type {\n",
       "        vertical-align: middle;\n",
       "    }\n",
       "\n",
       "    .dataframe tbody tr th {\n",
       "        vertical-align: top;\n",
       "    }\n",
       "\n",
       "    .dataframe thead th {\n",
       "        text-align: right;\n",
       "    }\n",
       "</style>\n",
       "<table border=\"1\" class=\"dataframe\">\n",
       "  <thead>\n",
       "    <tr style=\"text-align: right;\">\n",
       "      <th></th>\n",
       "      <th>Unnamed: 0</th>\n",
       "      <th>Date</th>\n",
       "      <th>AveragePrice</th>\n",
       "      <th>Total Volume</th>\n",
       "      <th>4046</th>\n",
       "      <th>4225</th>\n",
       "      <th>4770</th>\n",
       "      <th>Total Bags</th>\n",
       "      <th>Small Bags</th>\n",
       "      <th>Large Bags</th>\n",
       "      <th>XLarge Bags</th>\n",
       "      <th>type</th>\n",
       "      <th>year</th>\n",
       "      <th>region</th>\n",
       "    </tr>\n",
       "  </thead>\n",
       "  <tbody>\n",
       "  </tbody>\n",
       "</table>\n",
       "</div>"
      ],
      "text/plain": [
       "Empty DataFrame\n",
       "Columns: [Unnamed: 0, Date, AveragePrice, Total Volume, 4046, 4225, 4770, Total Bags, Small Bags, Large Bags, XLarge Bags, type, year, region]\n",
       "Index: []"
      ]
     },
     "execution_count": 39,
     "metadata": {},
     "output_type": "execute_result"
    }
   ],
   "source": [
    "# first way\n",
    "data.head(0)"
   ]
  },
  {
   "cell_type": "code",
   "execution_count": 40,
   "id": "b2286f63",
   "metadata": {},
   "outputs": [
    {
     "data": {
      "text/plain": [
       "Index(['Unnamed: 0', 'Date', 'AveragePrice', 'Total Volume', '4046', '4225',\n",
       "       '4770', 'Total Bags', 'Small Bags', 'Large Bags', 'XLarge Bags', 'type',\n",
       "       'year', 'region'],\n",
       "      dtype='object')"
      ]
     },
     "execution_count": 40,
     "metadata": {},
     "output_type": "execute_result"
    }
   ],
   "source": [
    "# second way\n",
    "data.columns"
   ]
  },
  {
   "cell_type": "code",
   "execution_count": 41,
   "id": "c2729b71",
   "metadata": {},
   "outputs": [
    {
     "name": "stdout",
     "output_type": "stream",
     "text": [
      "Unnamed: 0\n",
      "Date\n",
      "AveragePrice\n",
      "Total Volume\n",
      "4046\n",
      "4225\n",
      "4770\n",
      "Total Bags\n",
      "Small Bags\n",
      "Large Bags\n",
      "XLarge Bags\n",
      "type\n",
      "year\n",
      "region\n"
     ]
    }
   ],
   "source": [
    "# third way\n",
    "# iterating the columns\n",
    "for col in data.columns:\n",
    "    print(col)"
   ]
  },
  {
   "cell_type": "code",
   "execution_count": null,
   "id": "b94408b9",
   "metadata": {},
   "outputs": [],
   "source": []
  },
  {
   "cell_type": "code",
   "execution_count": null,
   "id": "06b0eb94",
   "metadata": {},
   "outputs": [],
   "source": []
  },
  {
   "cell_type": "markdown",
   "id": "469c9e12",
   "metadata": {},
   "source": [
    "<p><b>Question-3</b><hr>how to get the average value of Large bags ?</p>"
   ]
  },
  {
   "cell_type": "code",
   "execution_count": 42,
   "id": "4e920f66",
   "metadata": {},
   "outputs": [
    {
     "data": {
      "text/plain": [
       "54338.08814455636"
      ]
     },
     "execution_count": 42,
     "metadata": {},
     "output_type": "execute_result"
    }
   ],
   "source": [
    "# first way\n",
    "data['Large Bags'].mean()"
   ]
  },
  {
   "cell_type": "code",
   "execution_count": 43,
   "id": "3e43a5ad",
   "metadata": {},
   "outputs": [
    {
     "data": {
      "text/plain": [
       "count    1.824900e+04\n",
       "mean     5.433809e+04\n",
       "std      2.439660e+05\n",
       "min      0.000000e+00\n",
       "25%      1.274700e+02\n",
       "50%      2.647710e+03\n",
       "75%      2.202925e+04\n",
       "max      5.719097e+06\n",
       "Name: Large Bags, dtype: float64"
      ]
     },
     "execution_count": 43,
     "metadata": {},
     "output_type": "execute_result"
    }
   ],
   "source": [
    "# second way\n",
    "data['Large Bags'].describe()"
   ]
  },
  {
   "cell_type": "code",
   "execution_count": null,
   "id": "8a4a2b61",
   "metadata": {},
   "outputs": [],
   "source": []
  },
  {
   "cell_type": "code",
   "execution_count": null,
   "id": "a4190424",
   "metadata": {},
   "outputs": [],
   "source": []
  },
  {
   "cell_type": "markdown",
   "id": "42269754",
   "metadata": {},
   "source": [
    "<p><b>Question-4</b><hr>what were the best 5 records for sales price?</p>"
   ]
  },
  {
   "cell_type": "code",
   "execution_count": 44,
   "id": "6942a1fc",
   "metadata": {},
   "outputs": [
    {
     "data": {
      "text/html": [
       "<div>\n",
       "<style scoped>\n",
       "    .dataframe tbody tr th:only-of-type {\n",
       "        vertical-align: middle;\n",
       "    }\n",
       "\n",
       "    .dataframe tbody tr th {\n",
       "        vertical-align: top;\n",
       "    }\n",
       "\n",
       "    .dataframe thead th {\n",
       "        text-align: right;\n",
       "    }\n",
       "</style>\n",
       "<table border=\"1\" class=\"dataframe\">\n",
       "  <thead>\n",
       "    <tr style=\"text-align: right;\">\n",
       "      <th></th>\n",
       "      <th>Unnamed: 0</th>\n",
       "      <th>Date</th>\n",
       "      <th>AveragePrice</th>\n",
       "      <th>Total Volume</th>\n",
       "      <th>4046</th>\n",
       "      <th>4225</th>\n",
       "      <th>4770</th>\n",
       "      <th>Total Bags</th>\n",
       "      <th>Small Bags</th>\n",
       "      <th>Large Bags</th>\n",
       "      <th>XLarge Bags</th>\n",
       "      <th>type</th>\n",
       "      <th>year</th>\n",
       "      <th>region</th>\n",
       "    </tr>\n",
       "  </thead>\n",
       "  <tbody>\n",
       "    <tr>\n",
       "      <th>14125</th>\n",
       "      <td>8</td>\n",
       "      <td>2016-10-30</td>\n",
       "      <td>3.25</td>\n",
       "      <td>16700.94</td>\n",
       "      <td>2325.93</td>\n",
       "      <td>11142.85</td>\n",
       "      <td>0.00</td>\n",
       "      <td>3232.16</td>\n",
       "      <td>3232.16</td>\n",
       "      <td>0.00</td>\n",
       "      <td>0.0</td>\n",
       "      <td>organic</td>\n",
       "      <td>2016</td>\n",
       "      <td>SanFrancisco</td>\n",
       "    </tr>\n",
       "    <tr>\n",
       "      <th>17428</th>\n",
       "      <td>37</td>\n",
       "      <td>2017-04-16</td>\n",
       "      <td>3.17</td>\n",
       "      <td>3018.56</td>\n",
       "      <td>1255.55</td>\n",
       "      <td>82.31</td>\n",
       "      <td>0.00</td>\n",
       "      <td>1680.70</td>\n",
       "      <td>1542.22</td>\n",
       "      <td>138.48</td>\n",
       "      <td>0.0</td>\n",
       "      <td>organic</td>\n",
       "      <td>2017</td>\n",
       "      <td>Tampa</td>\n",
       "    </tr>\n",
       "    <tr>\n",
       "      <th>14124</th>\n",
       "      <td>7</td>\n",
       "      <td>2016-11-06</td>\n",
       "      <td>3.12</td>\n",
       "      <td>19043.80</td>\n",
       "      <td>5898.49</td>\n",
       "      <td>10039.34</td>\n",
       "      <td>0.00</td>\n",
       "      <td>3105.97</td>\n",
       "      <td>3079.30</td>\n",
       "      <td>26.67</td>\n",
       "      <td>0.0</td>\n",
       "      <td>organic</td>\n",
       "      <td>2016</td>\n",
       "      <td>SanFrancisco</td>\n",
       "    </tr>\n",
       "    <tr>\n",
       "      <th>16055</th>\n",
       "      <td>42</td>\n",
       "      <td>2017-03-12</td>\n",
       "      <td>3.05</td>\n",
       "      <td>2068.26</td>\n",
       "      <td>1043.83</td>\n",
       "      <td>77.36</td>\n",
       "      <td>0.00</td>\n",
       "      <td>947.07</td>\n",
       "      <td>926.67</td>\n",
       "      <td>20.40</td>\n",
       "      <td>0.0</td>\n",
       "      <td>organic</td>\n",
       "      <td>2017</td>\n",
       "      <td>MiamiFtLauderdale</td>\n",
       "    </tr>\n",
       "    <tr>\n",
       "      <th>16720</th>\n",
       "      <td>18</td>\n",
       "      <td>2017-08-27</td>\n",
       "      <td>3.04</td>\n",
       "      <td>12656.32</td>\n",
       "      <td>419.06</td>\n",
       "      <td>4851.90</td>\n",
       "      <td>145.09</td>\n",
       "      <td>7240.27</td>\n",
       "      <td>6960.97</td>\n",
       "      <td>279.30</td>\n",
       "      <td>0.0</td>\n",
       "      <td>organic</td>\n",
       "      <td>2017</td>\n",
       "      <td>RaleighGreensboro</td>\n",
       "    </tr>\n",
       "  </tbody>\n",
       "</table>\n",
       "</div>"
      ],
      "text/plain": [
       "       Unnamed: 0        Date  AveragePrice  Total Volume     4046      4225  \\\n",
       "14125           8  2016-10-30          3.25      16700.94  2325.93  11142.85   \n",
       "17428          37  2017-04-16          3.17       3018.56  1255.55     82.31   \n",
       "14124           7  2016-11-06          3.12      19043.80  5898.49  10039.34   \n",
       "16055          42  2017-03-12          3.05       2068.26  1043.83     77.36   \n",
       "16720          18  2017-08-27          3.04      12656.32   419.06   4851.90   \n",
       "\n",
       "         4770  Total Bags  Small Bags  Large Bags  XLarge Bags     type  year  \\\n",
       "14125    0.00     3232.16     3232.16        0.00          0.0  organic  2016   \n",
       "17428    0.00     1680.70     1542.22      138.48          0.0  organic  2017   \n",
       "14124    0.00     3105.97     3079.30       26.67          0.0  organic  2016   \n",
       "16055    0.00      947.07      926.67       20.40          0.0  organic  2017   \n",
       "16720  145.09     7240.27     6960.97      279.30          0.0  organic  2017   \n",
       "\n",
       "                  region  \n",
       "14125       SanFrancisco  \n",
       "17428              Tampa  \n",
       "14124       SanFrancisco  \n",
       "16055  MiamiFtLauderdale  \n",
       "16720  RaleighGreensboro  "
      ]
     },
     "execution_count": 44,
     "metadata": {},
     "output_type": "execute_result"
    }
   ],
   "source": [
    "# printing fully \n",
    "data.nlargest(5, ['AveragePrice'])"
   ]
  },
  {
   "cell_type": "code",
   "execution_count": 45,
   "id": "85e26fac",
   "metadata": {},
   "outputs": [
    {
     "data": {
      "text/plain": [
       "14125    3.25\n",
       "17428    3.17\n",
       "14124    3.12\n",
       "16055    3.05\n",
       "16720    3.04\n",
       "Name: AveragePrice, dtype: float64"
      ]
     },
     "execution_count": 45,
     "metadata": {},
     "output_type": "execute_result"
    }
   ],
   "source": [
    "# printing only average prices\n",
    "data.nlargest(5, ['AveragePrice'])['AveragePrice']"
   ]
  },
  {
   "cell_type": "code",
   "execution_count": null,
   "id": "99b57ec5",
   "metadata": {},
   "outputs": [],
   "source": []
  },
  {
   "cell_type": "code",
   "execution_count": null,
   "id": "069625b3",
   "metadata": {},
   "outputs": [],
   "source": []
  },
  {
   "cell_type": "markdown",
   "id": "18ba399c",
   "metadata": {},
   "source": [
    "<p><b>Question-5</b><hr>What was the best year in terms of production volume?</p>"
   ]
  },
  {
   "cell_type": "code",
   "execution_count": 46,
   "id": "2976ef51",
   "metadata": {},
   "outputs": [
    {
     "data": {
      "text/html": [
       "<div>\n",
       "<style scoped>\n",
       "    .dataframe tbody tr th:only-of-type {\n",
       "        vertical-align: middle;\n",
       "    }\n",
       "\n",
       "    .dataframe tbody tr th {\n",
       "        vertical-align: top;\n",
       "    }\n",
       "\n",
       "    .dataframe thead th {\n",
       "        text-align: right;\n",
       "    }\n",
       "</style>\n",
       "<table border=\"1\" class=\"dataframe\">\n",
       "  <thead>\n",
       "    <tr style=\"text-align: right;\">\n",
       "      <th></th>\n",
       "      <th>Unnamed: 0</th>\n",
       "      <th>Date</th>\n",
       "      <th>AveragePrice</th>\n",
       "      <th>Total Volume</th>\n",
       "      <th>4046</th>\n",
       "      <th>4225</th>\n",
       "      <th>4770</th>\n",
       "      <th>Total Bags</th>\n",
       "      <th>Small Bags</th>\n",
       "      <th>Large Bags</th>\n",
       "      <th>XLarge Bags</th>\n",
       "      <th>type</th>\n",
       "      <th>year</th>\n",
       "      <th>region</th>\n",
       "    </tr>\n",
       "  </thead>\n",
       "  <tbody>\n",
       "    <tr>\n",
       "      <th>9097</th>\n",
       "      <td>7</td>\n",
       "      <td>2018-02-04</td>\n",
       "      <td>0.87</td>\n",
       "      <td>62505646.52</td>\n",
       "      <td>21620180.9</td>\n",
       "      <td>20445501.03</td>\n",
       "      <td>1066830.22</td>\n",
       "      <td>19373134.37</td>\n",
       "      <td>13384586.8</td>\n",
       "      <td>5719096.61</td>\n",
       "      <td>269450.96</td>\n",
       "      <td>conventional</td>\n",
       "      <td>2018</td>\n",
       "      <td>TotalUS</td>\n",
       "    </tr>\n",
       "  </tbody>\n",
       "</table>\n",
       "</div>"
      ],
      "text/plain": [
       "      Unnamed: 0        Date  AveragePrice  Total Volume        4046  \\\n",
       "9097           7  2018-02-04          0.87   62505646.52  21620180.9   \n",
       "\n",
       "             4225        4770   Total Bags  Small Bags  Large Bags  \\\n",
       "9097  20445501.03  1066830.22  19373134.37  13384586.8  5719096.61   \n",
       "\n",
       "      XLarge Bags          type  year   region  \n",
       "9097    269450.96  conventional  2018  TotalUS  "
      ]
     },
     "execution_count": 46,
     "metadata": {},
     "output_type": "execute_result"
    }
   ],
   "source": [
    "# full row of total volume \n",
    "data.nlargest(1, ['Total Volume'])"
   ]
  },
  {
   "cell_type": "code",
   "execution_count": 47,
   "id": "95d2327d",
   "metadata": {},
   "outputs": [
    {
     "data": {
      "text/plain": [
       "9097    2018-02-04\n",
       "Name: Date, dtype: object"
      ]
     },
     "execution_count": 47,
     "metadata": {},
     "output_type": "execute_result"
    }
   ],
   "source": [
    "# only year of best volume\n",
    "data.nlargest(1, ['Total Volume']).Date"
   ]
  },
  {
   "cell_type": "code",
   "execution_count": null,
   "id": "9fca9f7f",
   "metadata": {},
   "outputs": [],
   "source": []
  },
  {
   "cell_type": "code",
   "execution_count": null,
   "id": "b573a97a",
   "metadata": {},
   "outputs": [],
   "source": []
  },
  {
   "cell_type": "markdown",
   "id": "5989522b",
   "metadata": {},
   "source": [
    "<p><b>Question-6</b><hr>Check if the data from the total bags column corresponds to the sum of the small bags, large bags, very large bags columns. Put NaN value for values that have errors</p>"
   ]
  },
  {
   "cell_type": "code",
   "execution_count": 48,
   "id": "7b0bcc84",
   "metadata": {},
   "outputs": [
    {
     "data": {
      "text/plain": [
       "Unnamed: 0      0\n",
       "Date            0\n",
       "AveragePrice    0\n",
       "Total Volume    0\n",
       "4046            0\n",
       "4225            0\n",
       "4770            0\n",
       "Total Bags      0\n",
       "Small Bags      0\n",
       "Large Bags      0\n",
       "XLarge Bags     0\n",
       "type            0\n",
       "year            0\n",
       "region          0\n",
       "dtype: int64"
      ]
     },
     "execution_count": 48,
     "metadata": {},
     "output_type": "execute_result"
    }
   ],
   "source": [
    "# checking there are no null values\n",
    "data.isna().sum()"
   ]
  },
  {
   "cell_type": "code",
   "execution_count": 49,
   "id": "3b4f31aa",
   "metadata": {},
   "outputs": [
    {
     "name": "stderr",
     "output_type": "stream",
     "text": [
      "/tmp/ipykernel_13144/3607215189.py:7: SettingWithCopyWarning: \n",
      "A value is trying to be set on a copy of a slice from a DataFrame\n",
      "\n",
      "See the caveats in the documentation: https://pandas.pydata.org/pandas-docs/stable/user_guide/indexing.html#returning-a-view-versus-a-copy\n",
      "  data['Small Bags'][i] = np.nan\n",
      "/tmp/ipykernel_13144/3607215189.py:8: SettingWithCopyWarning: \n",
      "A value is trying to be set on a copy of a slice from a DataFrame\n",
      "\n",
      "See the caveats in the documentation: https://pandas.pydata.org/pandas-docs/stable/user_guide/indexing.html#returning-a-view-versus-a-copy\n",
      "  data['Large Bags'][i] = np.nan\n",
      "/tmp/ipykernel_13144/3607215189.py:9: SettingWithCopyWarning: \n",
      "A value is trying to be set on a copy of a slice from a DataFrame\n",
      "\n",
      "See the caveats in the documentation: https://pandas.pydata.org/pandas-docs/stable/user_guide/indexing.html#returning-a-view-versus-a-copy\n",
      "  data['XLarge Bags'][i] = np.nan\n"
     ]
    }
   ],
   "source": [
    "# using for loop to change check for condidion\n",
    "import numpy as np\n",
    "for i in range(len(data['Total Bags'])):\n",
    "    if (data['Total Bags'][i]==(data['Small Bags'][i]+ data['Large Bags'][i] + data['XLarge Bags'][i])):\n",
    "        pass\n",
    "    else:\n",
    "        data['Small Bags'][i] = np.nan\n",
    "        data['Large Bags'][i] = np.nan\n",
    "        data['XLarge Bags'][i] = np.nan\n",
    "        "
   ]
  },
  {
   "cell_type": "code",
   "execution_count": 50,
   "id": "807ea1f6",
   "metadata": {},
   "outputs": [
    {
     "data": {
      "text/plain": [
       "Unnamed: 0         0\n",
       "Date               0\n",
       "AveragePrice       0\n",
       "Total Volume       0\n",
       "4046               0\n",
       "4225               0\n",
       "4770               0\n",
       "Total Bags         0\n",
       "Small Bags      4036\n",
       "Large Bags      4036\n",
       "XLarge Bags     4036\n",
       "type               0\n",
       "year               0\n",
       "region             0\n",
       "dtype: int64"
      ]
     },
     "execution_count": 50,
     "metadata": {},
     "output_type": "execute_result"
    }
   ],
   "source": [
    "# null values have been added\n",
    "data.isna().sum()"
   ]
  },
  {
   "cell_type": "code",
   "execution_count": null,
   "id": "cbf086e4",
   "metadata": {},
   "outputs": [],
   "source": []
  },
  {
   "cell_type": "markdown",
   "id": "0c1c5a44",
   "metadata": {},
   "source": [
    "<p><b>Question-7</b><hr>Find the line at position 15</p>"
   ]
  },
  {
   "cell_type": "code",
   "execution_count": 51,
   "id": "b078ec52",
   "metadata": {},
   "outputs": [
    {
     "data": {
      "text/html": [
       "<div>\n",
       "<style scoped>\n",
       "    .dataframe tbody tr th:only-of-type {\n",
       "        vertical-align: middle;\n",
       "    }\n",
       "\n",
       "    .dataframe tbody tr th {\n",
       "        vertical-align: top;\n",
       "    }\n",
       "\n",
       "    .dataframe thead th {\n",
       "        text-align: right;\n",
       "    }\n",
       "</style>\n",
       "<table border=\"1\" class=\"dataframe\">\n",
       "  <thead>\n",
       "    <tr style=\"text-align: right;\">\n",
       "      <th></th>\n",
       "      <th>Unnamed: 0</th>\n",
       "      <th>Date</th>\n",
       "      <th>AveragePrice</th>\n",
       "      <th>Total Volume</th>\n",
       "      <th>4046</th>\n",
       "      <th>4225</th>\n",
       "      <th>4770</th>\n",
       "      <th>Total Bags</th>\n",
       "      <th>Small Bags</th>\n",
       "      <th>Large Bags</th>\n",
       "      <th>XLarge Bags</th>\n",
       "      <th>type</th>\n",
       "      <th>year</th>\n",
       "      <th>region</th>\n",
       "    </tr>\n",
       "  </thead>\n",
       "  <tbody>\n",
       "    <tr>\n",
       "      <th>15</th>\n",
       "      <td>15</td>\n",
       "      <td>2015-09-13</td>\n",
       "      <td>1.28</td>\n",
       "      <td>76111.27</td>\n",
       "      <td>985.73</td>\n",
       "      <td>65696.86</td>\n",
       "      <td>142.0</td>\n",
       "      <td>9286.68</td>\n",
       "      <td>8665.19</td>\n",
       "      <td>621.49</td>\n",
       "      <td>0.0</td>\n",
       "      <td>conventional</td>\n",
       "      <td>2015</td>\n",
       "      <td>Albany</td>\n",
       "    </tr>\n",
       "  </tbody>\n",
       "</table>\n",
       "</div>"
      ],
      "text/plain": [
       "    Unnamed: 0        Date  AveragePrice  Total Volume    4046      4225  \\\n",
       "15          15  2015-09-13          1.28      76111.27  985.73  65696.86   \n",
       "\n",
       "     4770  Total Bags  Small Bags  Large Bags  XLarge Bags          type  \\\n",
       "15  142.0     9286.68     8665.19      621.49          0.0  conventional   \n",
       "\n",
       "    year  region  \n",
       "15  2015  Albany  "
      ]
     },
     "execution_count": 51,
     "metadata": {},
     "output_type": "execute_result"
    }
   ],
   "source": [
    "# full row \n",
    "data.iloc[[15]]"
   ]
  },
  {
   "cell_type": "code",
   "execution_count": null,
   "id": "adfced24",
   "metadata": {},
   "outputs": [],
   "source": []
  },
  {
   "cell_type": "code",
   "execution_count": null,
   "id": "8fa90b50",
   "metadata": {},
   "outputs": [],
   "source": []
  },
  {
   "cell_type": "markdown",
   "id": "9ccee3f2",
   "metadata": {},
   "source": [
    "<p><b>Question-8</b><hr>How many rows of data per region were present in the table?</p>"
   ]
  },
  {
   "cell_type": "code",
   "execution_count": 52,
   "id": "811bf04a",
   "metadata": {},
   "outputs": [
    {
     "data": {
      "text/plain": [
       "array(['Albany', 'Atlanta', 'BaltimoreWashington', 'Boise', 'Boston',\n",
       "       'BuffaloRochester', 'California', 'Charlotte', 'Chicago',\n",
       "       'CincinnatiDayton', 'Columbus', 'DallasFtWorth', 'Denver',\n",
       "       'Detroit', 'GrandRapids', 'GreatLakes', 'HarrisburgScranton',\n",
       "       'HartfordSpringfield', 'Houston', 'Indianapolis', 'Jacksonville',\n",
       "       'LasVegas', 'LosAngeles', 'Louisville', 'MiamiFtLauderdale',\n",
       "       'Midsouth', 'Nashville', 'NewOrleansMobile', 'NewYork',\n",
       "       'Northeast', 'NorthernNewEngland', 'Orlando', 'Philadelphia',\n",
       "       'PhoenixTucson', 'Pittsburgh', 'Plains', 'Portland',\n",
       "       'RaleighGreensboro', 'RichmondNorfolk', 'Roanoke', 'Sacramento',\n",
       "       'SanDiego', 'SanFrancisco', 'Seattle', 'SouthCarolina',\n",
       "       'SouthCentral', 'Southeast', 'Spokane', 'StLouis', 'Syracuse',\n",
       "       'Tampa', 'TotalUS', 'West', 'WestTexNewMexico'], dtype=object)"
      ]
     },
     "execution_count": 52,
     "metadata": {},
     "output_type": "execute_result"
    }
   ],
   "source": [
    "# printing all unique regions\n",
    "data['region'].unique()"
   ]
  },
  {
   "cell_type": "code",
   "execution_count": 53,
   "id": "c5d4fea1",
   "metadata": {},
   "outputs": [
    {
     "data": {
      "text/plain": [
       "54"
      ]
     },
     "execution_count": 53,
     "metadata": {},
     "output_type": "execute_result"
    }
   ],
   "source": [
    "# total values are 54\n",
    "data['region'].nunique()"
   ]
  },
  {
   "cell_type": "code",
   "execution_count": 54,
   "id": "98412aab",
   "metadata": {},
   "outputs": [
    {
     "name": "stdout",
     "output_type": "stream",
     "text": [
      "Albany\n",
      "338\n",
      "__________________________________________\n",
      "Atlanta\n",
      "338\n",
      "__________________________________________\n",
      "BaltimoreWashington\n",
      "338\n",
      "__________________________________________\n",
      "Boise\n",
      "338\n",
      "__________________________________________\n",
      "Boston\n",
      "338\n",
      "__________________________________________\n",
      "BuffaloRochester\n",
      "338\n",
      "__________________________________________\n",
      "California\n",
      "338\n",
      "__________________________________________\n",
      "Charlotte\n",
      "338\n",
      "__________________________________________\n",
      "Chicago\n",
      "338\n",
      "__________________________________________\n",
      "CincinnatiDayton\n",
      "338\n",
      "__________________________________________\n",
      "Columbus\n",
      "338\n",
      "__________________________________________\n",
      "DallasFtWorth\n",
      "338\n",
      "__________________________________________\n",
      "Denver\n",
      "338\n",
      "__________________________________________\n",
      "Detroit\n",
      "338\n",
      "__________________________________________\n",
      "GrandRapids\n",
      "338\n",
      "__________________________________________\n",
      "GreatLakes\n",
      "338\n",
      "__________________________________________\n",
      "HarrisburgScranton\n",
      "338\n",
      "__________________________________________\n",
      "HartfordSpringfield\n",
      "338\n",
      "__________________________________________\n",
      "Houston\n",
      "338\n",
      "__________________________________________\n",
      "Indianapolis\n",
      "338\n",
      "__________________________________________\n",
      "Jacksonville\n",
      "338\n",
      "__________________________________________\n",
      "LasVegas\n",
      "338\n",
      "__________________________________________\n",
      "LosAngeles\n",
      "338\n",
      "__________________________________________\n",
      "Louisville\n",
      "338\n",
      "__________________________________________\n",
      "MiamiFtLauderdale\n",
      "338\n",
      "__________________________________________\n",
      "Midsouth\n",
      "338\n",
      "__________________________________________\n",
      "Nashville\n",
      "338\n",
      "__________________________________________\n",
      "NewOrleansMobile\n",
      "338\n",
      "__________________________________________\n",
      "NewYork\n",
      "338\n",
      "__________________________________________\n",
      "Northeast\n",
      "338\n",
      "__________________________________________\n",
      "NorthernNewEngland\n",
      "338\n",
      "__________________________________________\n",
      "Orlando\n",
      "338\n",
      "__________________________________________\n",
      "Philadelphia\n",
      "338\n",
      "__________________________________________\n",
      "PhoenixTucson\n",
      "338\n",
      "__________________________________________\n",
      "Pittsburgh\n",
      "338\n",
      "__________________________________________\n",
      "Plains\n",
      "338\n",
      "__________________________________________\n",
      "Portland\n",
      "338\n",
      "__________________________________________\n",
      "RaleighGreensboro\n",
      "338\n",
      "__________________________________________\n",
      "RichmondNorfolk\n",
      "338\n",
      "__________________________________________\n",
      "Roanoke\n",
      "338\n",
      "__________________________________________\n",
      "Sacramento\n",
      "338\n",
      "__________________________________________\n",
      "SanDiego\n",
      "338\n",
      "__________________________________________\n",
      "SanFrancisco\n",
      "338\n",
      "__________________________________________\n",
      "Seattle\n",
      "338\n",
      "__________________________________________\n",
      "SouthCarolina\n",
      "338\n",
      "__________________________________________\n",
      "SouthCentral\n",
      "338\n",
      "__________________________________________\n",
      "Southeast\n",
      "338\n",
      "__________________________________________\n",
      "Spokane\n",
      "338\n",
      "__________________________________________\n",
      "StLouis\n",
      "338\n",
      "__________________________________________\n",
      "Syracuse\n",
      "338\n",
      "__________________________________________\n",
      "Tampa\n",
      "338\n",
      "__________________________________________\n",
      "TotalUS\n",
      "338\n",
      "__________________________________________\n",
      "West\n",
      "338\n",
      "__________________________________________\n",
      "WestTexNewMexico\n",
      "335\n",
      "__________________________________________\n"
     ]
    }
   ],
   "source": [
    "# printing number of rows per region\n",
    "for i in data['region'].unique():\n",
    "    print(i)\n",
    "    print((len(data.loc[data['region'] == i])))\n",
    "    print(\"__________________________________________\")\n",
    "    \n"
   ]
  },
  {
   "cell_type": "code",
   "execution_count": null,
   "id": "958c015b",
   "metadata": {},
   "outputs": [],
   "source": []
  },
  {
   "cell_type": "code",
   "execution_count": null,
   "id": "4c9004db",
   "metadata": {},
   "outputs": [],
   "source": []
  },
  {
   "cell_type": "markdown",
   "id": "693eb09d",
   "metadata": {},
   "source": [
    "<p><b>\n",
    "    Question-9</b><hr>Find the list of regions present</p>"
   ]
  },
  {
   "cell_type": "code",
   "execution_count": 55,
   "id": "dacd79ad",
   "metadata": {},
   "outputs": [
    {
     "data": {
      "text/plain": [
       "['Albany',\n",
       " 'Atlanta',\n",
       " 'BaltimoreWashington',\n",
       " 'Boise',\n",
       " 'Boston',\n",
       " 'BuffaloRochester',\n",
       " 'California',\n",
       " 'Charlotte',\n",
       " 'Chicago',\n",
       " 'CincinnatiDayton',\n",
       " 'Columbus',\n",
       " 'DallasFtWorth',\n",
       " 'Denver',\n",
       " 'Detroit',\n",
       " 'GrandRapids',\n",
       " 'GreatLakes',\n",
       " 'HarrisburgScranton',\n",
       " 'HartfordSpringfield',\n",
       " 'Houston',\n",
       " 'Indianapolis',\n",
       " 'Jacksonville',\n",
       " 'LasVegas',\n",
       " 'LosAngeles',\n",
       " 'Louisville',\n",
       " 'MiamiFtLauderdale',\n",
       " 'Midsouth',\n",
       " 'Nashville',\n",
       " 'NewOrleansMobile',\n",
       " 'NewYork',\n",
       " 'Northeast',\n",
       " 'NorthernNewEngland',\n",
       " 'Orlando',\n",
       " 'Philadelphia',\n",
       " 'PhoenixTucson',\n",
       " 'Pittsburgh',\n",
       " 'Plains',\n",
       " 'Portland',\n",
       " 'RaleighGreensboro',\n",
       " 'RichmondNorfolk',\n",
       " 'Roanoke',\n",
       " 'Sacramento',\n",
       " 'SanDiego',\n",
       " 'SanFrancisco',\n",
       " 'Seattle',\n",
       " 'SouthCarolina',\n",
       " 'SouthCentral',\n",
       " 'Southeast',\n",
       " 'Spokane',\n",
       " 'StLouis',\n",
       " 'Syracuse',\n",
       " 'Tampa',\n",
       " 'TotalUS',\n",
       " 'West',\n",
       " 'WestTexNewMexico']"
      ]
     },
     "execution_count": 55,
     "metadata": {},
     "output_type": "execute_result"
    }
   ],
   "source": [
    "data['region'].unique().tolist()"
   ]
  },
  {
   "cell_type": "markdown",
   "id": "0ea751a7",
   "metadata": {},
   "source": [
    "<p><b>Question-10</b><hr>Delete columns ‘4046’,’4225’,’4770’ and save the result in an excel file</p>"
   ]
  },
  {
   "cell_type": "code",
   "execution_count": 56,
   "id": "b5432f77",
   "metadata": {},
   "outputs": [],
   "source": [
    "# 10- Delete columns ‘4046’,’4225’,’4770’ and save the result in an excel file\n",
    "new_data = data.drop(data['Unnamed: 0'][4046])\n",
    "new_data =data.drop(new_data['Unnamed: 0'][4225])\n",
    "new_data = data.drop(new_data['Unnamed: 0'][4779])\n",
    "\n",
    "\n",
    "new_data.to_excel(\"avocado_excel.xlsx\")\n"
   ]
  },
  {
   "cell_type": "code",
   "execution_count": 57,
   "id": "47f42907",
   "metadata": {},
   "outputs": [],
   "source": [
    "# thank you"
   ]
  },
  {
   "cell_type": "markdown",
   "id": "29209b59",
   "metadata": {},
   "source": [
    " "
   ]
  },
  {
   "cell_type": "code",
   "execution_count": null,
   "id": "4184da9f",
   "metadata": {},
   "outputs": [],
   "source": []
  },
  {
   "cell_type": "code",
   "execution_count": null,
   "id": "71c9f5ca",
   "metadata": {},
   "outputs": [],
   "source": []
  }
 ],
 "metadata": {
  "kernelspec": {
   "display_name": "Python 3 (ipykernel)",
   "language": "python",
   "name": "python3"
  },
  "language_info": {
   "codemirror_mode": {
    "name": "ipython",
    "version": 3
   },
   "file_extension": ".py",
   "mimetype": "text/x-python",
   "name": "python",
   "nbconvert_exporter": "python",
   "pygments_lexer": "ipython3",
   "version": "3.9.12"
  }
 },
 "nbformat": 4,
 "nbformat_minor": 5
}
