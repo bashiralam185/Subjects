{
 "cells": [
  {
   "cell_type": "markdown",
   "id": "1b62c9aa",
   "metadata": {},
   "source": [
    "#### Assignment-2\n",
    "#### Student Name: Bashir Alam"
   ]
  },
  {
   "cell_type": "code",
   "execution_count": null,
   "id": "a7e38ceb",
   "metadata": {},
   "outputs": [],
   "source": []
  },
  {
   "cell_type": "markdown",
   "id": "52fa4cd2",
   "metadata": {},
   "source": [
    "<p><b>Question-1  </b>  <hr>Indicators are used to analyze fluctuations in value.\n",
    "Two popular indicators are the HLC/3 and the SMA9. The HLC/3 averages the High, Low and\n",
    "Close prices. The SMA9 (Simple Moving Average) indicator calculates the daily average of the\n",
    "closing price (Close) for the last 9 days.</p>"
   ]
  },
  {
   "cell_type": "markdown",
   "id": "883e680f",
   "metadata": {},
   "source": [
    "<p style=\"color:blue\"> I had copied the array from the text and saved it in a text file</p>"
   ]
  },
  {
   "cell_type": "code",
   "execution_count": 2,
   "id": "d7d5017b",
   "metadata": {},
   "outputs": [
    {
     "name": "stdout",
     "output_type": "stream",
     "text": [
      "[[14695.8 15279.  14307.  14656.2]\n",
      " [14681.9 14681.9 12350.1 12952.2]\n",
      " [12897.7 14377.4 12755.6 14156.4]\n",
      " [14112.2 14112.2 13154.7 13657.2]\n",
      " [13625.  15444.6 13163.6 14982.1]\n",
      " [14978.2 15572.8 14844.5 15201. ]\n",
      " [15270.7 15739.7 14522.2 15599.2]\n",
      " [15477.2 17705.2 15202.8 17429.5]\n",
      " [17462.1 17712.4 16764.6 17527. ]\n",
      " [17527.3 17579.6 16087.7 16477.6]\n",
      " [16476.2 16537.9 14208.2 15170.1]\n",
      " [15123.7 15497.5 14424.  14595.4]\n",
      " [14588.5 14973.3 13691.2 14973.3]]\n"
     ]
    }
   ],
   "source": [
    "# importing the array\n",
    "import numpy as np\n",
    "data = np.loadtxt(\"text.txt\", dtype=float)\n",
    "print(data)"
   ]
  },
  {
   "cell_type": "code",
   "execution_count": 3,
   "id": "72ca8cbe",
   "metadata": {},
   "outputs": [
    {
     "data": {
      "text/plain": [
       "array([14747.4       , 13328.06666667, 13763.13333333, 13641.36666667,\n",
       "       14530.1       , 15206.1       , 15287.03333333, 16779.16666667,\n",
       "       17334.66666667, 16714.96666667, 15305.4       , 14838.96666667,\n",
       "       14545.93333333])"
      ]
     },
     "execution_count": 3,
     "metadata": {},
     "output_type": "execute_result"
    }
   ],
   "source": [
    "# applyging the HCL/3\n",
    "arr = np.delete(data, 0, axis=1)\n",
    "np.mean(arr, axis=1)"
   ]
  },
  {
   "cell_type": "code",
   "execution_count": 4,
   "id": "a3f4fe19",
   "metadata": {},
   "outputs": [
    {
     "name": "stdout",
     "output_type": "stream",
     "text": [
      "[15128.97777778 15331.35555556 15577.78888889 15626.56666667\n",
      " 15772.8       ]\n"
     ]
    }
   ],
   "source": [
    "# SMA9\n",
    "def SMA9(x, w):\n",
    "    return np.convolve(x, np.ones(w), 'valid') / w\n",
    "\n",
    "print(SMA9(data[:, -1],9))"
   ]
  },
  {
   "cell_type": "code",
   "execution_count": null,
   "id": "230550af",
   "metadata": {},
   "outputs": [],
   "source": []
  },
  {
   "cell_type": "markdown",
   "id": "65d22e03",
   "metadata": {},
   "source": [
    "</p><b>Question-2 </b><hr>We want to get all values from a numpy array that satisfy a certain condition, For example:\n",
    "Na=[1,3,5,3,6,2,8,9,10] element less than 6\n",
    "result =[1,3,5,3,2]\n",
    "Of course you can do a loop and treat the array as if it were a list but numy can do that with\n",
    "implemented methods.\n",
    "Search (on the internet) at least two different ways without using cycles to solve the situation and\n",
    "find the solution.</p>"
   ]
  },
  {
   "cell_type": "code",
   "execution_count": 5,
   "id": "6bb469f9",
   "metadata": {},
   "outputs": [
    {
     "name": "stdout",
     "output_type": "stream",
     "text": [
      "[1 3 5 3 2]\n"
     ]
    }
   ],
   "source": [
    "# Method one - using simple filter method\n",
    "Na=[1,3,5,3,6,2,9,10]\n",
    "arr = np.array(Na)\n",
    "\n",
    "# applying the condition\n",
    "filter_arr = arr < 6\n",
    "array= arr[filter_arr]\n",
    "print(array)"
   ]
  },
  {
   "cell_type": "code",
   "execution_count": 6,
   "id": "5260ab8c",
   "metadata": {},
   "outputs": [
    {
     "name": "stdout",
     "output_type": "stream",
     "text": [
      "(array([0, 1, 2, 3, 5]),)\n"
     ]
    }
   ],
   "source": [
    "# Method two - Using where() method in numpy\n",
    "Na=[1,3,5,3,6,2,9,10]\n",
    "arr = np.array(Na)\n",
    "\n",
    "array2 = np.where(arr<6)\n",
    "print(array2)"
   ]
  },
  {
   "cell_type": "code",
   "execution_count": null,
   "id": "404df5e6",
   "metadata": {},
   "outputs": [],
   "source": []
  },
  {
   "cell_type": "markdown",
   "id": "fcc91756",
   "metadata": {},
   "source": [
    "<p> <b> Question-3</b><hr> How can we test the initial array to make sure that no array values' weights are zero? Of course\n",
    "without using cycle</p>"
   ]
  },
  {
   "cell_type": "code",
   "execution_count": 7,
   "id": "4d9837b5",
   "metadata": {},
   "outputs": [
    {
     "data": {
      "text/plain": [
       "False"
      ]
     },
     "execution_count": 7,
     "metadata": {},
     "output_type": "execute_result"
    }
   ],
   "source": [
    "# We can use various build-in methods in numpy to make sure that there are no values zero in our array. \n",
    "# For example np.all method, which returns false if any of the value in numpy array is zero\n",
    "\n",
    "Na=[1,3,5,6,0,10]\n",
    "arr = np.array(Na)\n",
    "\n",
    "# return false because there is zero in our array\n",
    "np.all(arr, axis=0)"
   ]
  },
  {
   "cell_type": "code",
   "execution_count": 8,
   "id": "cde4f908",
   "metadata": {},
   "outputs": [
    {
     "data": {
      "text/plain": [
       "False"
      ]
     },
     "execution_count": 8,
     "metadata": {},
     "output_type": "execute_result"
    }
   ],
   "source": [
    "# Another way to check if the array has element with zero values is using np.all() method\n",
    "# this method returns false if any of the value in array is zero\n",
    "np.all(arr)"
   ]
  },
  {
   "cell_type": "code",
   "execution_count": null,
   "id": "bc6bd442",
   "metadata": {},
   "outputs": [],
   "source": []
  },
  {
   "cell_type": "markdown",
   "id": "050a6a27",
   "metadata": {},
   "source": [
    "<p><b>Question-4</b><hr>We want to know if 2 numpy arrays are more or less equal. More or less means that two by\n",
    "two the elements are different only by an epsilon tolerance.\n",
    "Is there a method ?\n",
    "Write the function that uses the method. What happens if some array values are unknown? N/A\n",
    "type of excel?</p>"
   ]
  },
  {
   "cell_type": "code",
   "execution_count": 11,
   "id": "b1d32a53",
   "metadata": {},
   "outputs": [
    {
     "data": {
      "text/plain": [
       "True"
      ]
     },
     "execution_count": 11,
     "metadata": {},
     "output_type": "execute_result"
    }
   ],
   "source": [
    "# creating the numpy array with very small margin\n",
    "arr1 = [1, 2, 3, 4, 5]\n",
    "arr2 = [1.00000000005, 2.0000000023432, 3.000000000324523423, 4, 5]\n",
    "arr1 = np.array(arr1)\n",
    "arr2 = np.array(arr2)\n",
    "\n",
    "# creating a function that returns true if the two numpy arrays are close ( we used default tolerence-margin)\n",
    "def main1(arr1, arr2):\n",
    "    return np.allclose(arr1, arr2)\n",
    "\n",
    "# Calling the function\n",
    "# this will return true, As you can see, the arrays are not exactly equal\n",
    "main1(arr1, arr2)"
   ]
  },
  {
   "cell_type": "markdown",
   "id": "a944c7af",
   "metadata": {},
   "source": [
    "Another way to check is using isclose method, this checks the arrays element by element."
   ]
  },
  {
   "cell_type": "code",
   "execution_count": 12,
   "id": "e7baa5a8",
   "metadata": {},
   "outputs": [
    {
     "data": {
      "text/plain": [
       "array([ True,  True,  True,  True,  True])"
      ]
     },
     "execution_count": 12,
     "metadata": {},
     "output_type": "execute_result"
    }
   ],
   "source": [
    "# creating the numpy array with very small margin\n",
    "arr1 = [1, 2, 3, 4, 5]\n",
    "arr2 = [1.00000000005, 2.0000000023432, 3.000000000324523423, 4, 5]\n",
    "arr1 = np.array(arr1)\n",
    "arr2 = np.array(arr2)\n",
    "\n",
    "# creating a function that returns true if the two numpy arrays are close ( we used default tolerence-margin)\n",
    "def main2(arr1, arr2):\n",
    "    return np.isclose(arr1, arr2)\n",
    "\n",
    "# Calling the function\n",
    "# this will return true, As you can see, the arrays are not exactly equal\n",
    "main2(arr1, arr2)"
   ]
  },
  {
   "cell_type": "markdown",
   "id": "543c13b7",
   "metadata": {},
   "source": [
    "If we will use nan values in our array and call the same functions, it will return false, unless we explicitly defined the nan values to be same."
   ]
  },
  {
   "cell_type": "code",
   "execution_count": 13,
   "id": "523fbe21",
   "metadata": {},
   "outputs": [],
   "source": [
    "# creating the numpy array with very small margin\n",
    "arr1 = [1, 2, 3, 4, 5, np.nan]\n",
    "arr2 = [1.00000000005, 2.0000000023432, 3.000000000324523423, 4, 5, np.nan]\n",
    "arr1 = np.array(arr1)\n",
    "arr2 = np.array(arr2)"
   ]
  },
  {
   "cell_type": "markdown",
   "id": "05953fcc",
   "metadata": {},
   "source": [
    "As you can see, this time, there are nan values in the arrays, and lets call the functions again."
   ]
  },
  {
   "cell_type": "code",
   "execution_count": 14,
   "id": "3118950b",
   "metadata": {},
   "outputs": [
    {
     "data": {
      "text/plain": [
       "False"
      ]
     },
     "execution_count": 14,
     "metadata": {},
     "output_type": "execute_result"
    }
   ],
   "source": [
    "main1(arr1, arr2)"
   ]
  },
  {
   "cell_type": "code",
   "execution_count": 15,
   "id": "6d3a386d",
   "metadata": {},
   "outputs": [
    {
     "data": {
      "text/plain": [
       "array([ True,  True,  True,  True,  True, False])"
      ]
     },
     "execution_count": 15,
     "metadata": {},
     "output_type": "execute_result"
    }
   ],
   "source": [
    "main2(arr1, arr2)"
   ]
  },
  {
   "cell_type": "markdown",
   "id": "b643641c",
   "metadata": {},
   "source": [
    "As you can see, the function has returned Falses values for nan value. Let us now use the parameter value explicitly and make nun values to be same"
   ]
  },
  {
   "cell_type": "code",
   "execution_count": 16,
   "id": "baa61bd5",
   "metadata": {},
   "outputs": [],
   "source": [
    "def main3(arr1, arr2):\n",
    "    return np.isclose(arr1, arr2, equal_nan=True)\n",
    "\n",
    "def main4(arr1, arr2):\n",
    "    return np.allclose(arr1, arr2, equal_nan=True)"
   ]
  },
  {
   "cell_type": "code",
   "execution_count": 17,
   "id": "0bb8d88a",
   "metadata": {},
   "outputs": [
    {
     "data": {
      "text/plain": [
       "array([ True,  True,  True,  True,  True,  True])"
      ]
     },
     "execution_count": 17,
     "metadata": {},
     "output_type": "execute_result"
    }
   ],
   "source": [
    "main3(arr1, arr2)"
   ]
  },
  {
   "cell_type": "code",
   "execution_count": 18,
   "id": "05be7d9a",
   "metadata": {},
   "outputs": [
    {
     "data": {
      "text/plain": [
       "True"
      ]
     },
     "execution_count": 18,
     "metadata": {},
     "output_type": "execute_result"
    }
   ],
   "source": [
    "main4(arr1, arr2)"
   ]
  },
  {
   "cell_type": "markdown",
   "id": "9c5def01",
   "metadata": {},
   "source": [
    "As you can see, this time it returns true for nan values becuase by default the value of parameter ( equal_nan) was false. "
   ]
  },
  {
   "cell_type": "code",
   "execution_count": null,
   "id": "57b4751a",
   "metadata": {},
   "outputs": [],
   "source": []
  },
  {
   "cell_type": "markdown",
   "id": "6d1ae439",
   "metadata": {},
   "source": [
    "<p><b>Question-5</b><hr>The file used in exercise one is organized by date. That is, each line corresponds to a date. If\n",
    "you consider that the first line of the file has today's date and what follows are dates from\n",
    "previous days, write a function that reads the file and returns a dictionary that has the dates as\n",
    "key and the elements of each file line as data in the form of an array of numpy.</p>"
   ]
  },
  {
   "cell_type": "code",
   "execution_count": 69,
   "id": "7d397111",
   "metadata": {},
   "outputs": [],
   "source": [
    "# Loading data again\n",
    "Data = np.loadtxt(\"text.txt\", dtype=float)"
   ]
  },
  {
   "cell_type": "code",
   "execution_count": 74,
   "id": "e15f9ba8",
   "metadata": {},
   "outputs": [
    {
     "data": {
      "text/plain": [
       "{datetime.datetime(2022, 9, 6, 0, 0): array([14588.5, 14973.3, 13691.2, 14973.3]),\n",
       " datetime.datetime(2022, 9, 7, 0, 0): array([15123.7, 15497.5, 14424. , 14595.4]),\n",
       " datetime.datetime(2022, 9, 8, 0, 0): array([16476.2, 16537.9, 14208.2, 15170.1]),\n",
       " datetime.datetime(2022, 9, 9, 0, 0): array([17527.3, 17579.6, 16087.7, 16477.6]),\n",
       " datetime.datetime(2022, 9, 10, 0, 0): array([17462.1, 17712.4, 16764.6, 17527. ]),\n",
       " datetime.datetime(2022, 9, 11, 0, 0): array([15477.2, 17705.2, 15202.8, 17429.5]),\n",
       " datetime.datetime(2022, 9, 12, 0, 0): array([15270.7, 15739.7, 14522.2, 15599.2]),\n",
       " datetime.datetime(2022, 9, 13, 0, 0): array([14978.2, 15572.8, 14844.5, 15201. ]),\n",
       " datetime.datetime(2022, 9, 14, 0, 0): array([13625. , 15444.6, 13163.6, 14982.1]),\n",
       " datetime.datetime(2022, 9, 15, 0, 0): array([14112.2, 14112.2, 13154.7, 13657.2]),\n",
       " datetime.datetime(2022, 9, 16, 0, 0): array([12897.7, 14377.4, 12755.6, 14156.4]),\n",
       " datetime.datetime(2022, 9, 17, 0, 0): array([14681.9, 14681.9, 12350.1, 12952.2]),\n",
       " datetime.datetime(2022, 9, 18, 0, 0): array([14695.8, 15279. , 14307. , 14656.2])}"
      ]
     },
     "execution_count": 74,
     "metadata": {},
     "output_type": "execute_result"
    }
   ],
   "source": [
    "# importing the date and time\n",
    "from datetime import datetime as dt, timedelta as td\n",
    "\n",
    "# creating empty dic\n",
    "date_data ={}\n",
    "\n",
    "# starting and ending dtes\n",
    "start = '2022-09-06'\n",
    "end = '2022-09-18'\n",
    "\n",
    "# specifying the format of the date\n",
    "sd = dt.strptime(start,'%Y-%m-%d')\n",
    "ed = dt.strptime(end,'%Y-%m-%d')\n",
    "delta = ed - sd\n",
    "Num = len(Data)-1\n",
    "\n",
    "# for loop to add date and data from first excerise to dic\n",
    "for i in range(delta.days+1):\n",
    "    date_data[sd + td(days=i)] = Data[Num]\n",
    "    Num-=1\n",
    "\n",
    "date_data"
   ]
  },
  {
   "cell_type": "code",
   "execution_count": null,
   "id": "2225a66c",
   "metadata": {},
   "outputs": [],
   "source": []
  },
  {
   "cell_type": "markdown",
   "id": "4b8114b7",
   "metadata": {},
   "source": [
    "<p><b>Question-5</b><hr>How about changing last week's exercise code to obtain a pie chart but with the SMA9 data\n",
    "obtained in exercise 1</p>"
   ]
  },
  {
   "cell_type": "code",
   "execution_count": 75,
   "id": "d9447aef",
   "metadata": {},
   "outputs": [],
   "source": [
    "data_for_pie = SMA9(data[:, -1],9)"
   ]
  },
  {
   "cell_type": "code",
   "execution_count": 83,
   "id": "7a80475c",
   "metadata": {},
   "outputs": [
    {
     "data": {
      "image/png": "[encoded data removed]",
      "text/plain": [
       "<Figure size 576x432 with 1 Axes>"
      ]
     },
     "metadata": {},
     "output_type": "display_data"
    }
   ],
   "source": [
    "import matplotlib.pyplot as plt\n",
    "plt.figure(figsize=(8, 6))\n",
    "\n",
    "# Randomly assigning labels\n",
    "a='First_part','Second_part','third_part',\"fourth_part\", \"fifth_part\"\n",
    "\n",
    "# explode\n",
    "explode = (0, 0.1, 0, 0, 0.4) #get that slice out\n",
    "\n",
    "# plotting pie chart\n",
    "plt.pie(data_for_pie,explode = explode,labels=a,autopct='%1.2f%%',startangle=90)\n",
    "plt.show()"
   ]
  },
  {
   "cell_type": "code",
   "execution_count": null,
   "id": "07580c25",
   "metadata": {},
   "outputs": [],
   "source": []
  }
 ],
 "metadata": {
  "kernelspec": {
   "display_name": "Python 3 (ipykernel)",
   "language": "python",
   "name": "python3"
  },
  "language_info": {
   "codemirror_mode": {
    "name": "ipython",
    "version": 3
   },
   "file_extension": ".py",
   "mimetype": "text/x-python",
   "name": "python",
   "nbconvert_exporter": "python",
   "pygments_lexer": "ipython3",
   "version": "3.9.12"
  }
 },
 "nbformat": 4,
 "nbformat_minor": 5
}
